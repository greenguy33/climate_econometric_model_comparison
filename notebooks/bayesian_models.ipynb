{
 "cells": [
  {
   "cell_type": "code",
   "execution_count": 1,
   "id": "fda52d5c-c133-41fb-8150-d6d3274290e9",
   "metadata": {},
   "outputs": [
    {
     "name": "stderr",
     "output_type": "stream",
     "text": [
      "WARNING (pytensor.tensor.blas): Using NumPy C-API based implementation for BLAS functions.\n"
     ]
    }
   ],
   "source": [
    "import csv\n",
    "import os\n",
    "import copy\n",
    "import pandas as pd\n",
    "import numpy as np\n",
    "from sklearn.preprocessing import OrdinalEncoder, StandardScaler\n",
    "import pickle as pkl\n",
    "import matplotlib.pyplot as plt\n",
    "import random\n",
    "import statsmodels.api as sm\n",
    "import warnings\n",
    "import pymc as pm\n",
    "from pytensor import tensor as pt \n",
    "\n",
    "warnings.simplefilter(action='ignore', category=pd.errors.PerformanceWarning)\n",
    "warnings.filterwarnings('ignore')"
   ]
  },
  {
   "cell_type": "code",
   "execution_count": 2,
   "id": "259ed3b1-878e-4966-b4a8-8e75b2d3dcf8",
   "metadata": {},
   "outputs": [],
   "source": [
    "gdp_regression_data = pd.read_csv(\"../data/regression/gdp_regression_data.csv\").dropna().reset_index(drop=True)"
   ]
  },
  {
   "cell_type": "code",
   "execution_count": null,
   "id": "3eab007e-c879-49e8-ba5d-46003ea7701d",
   "metadata": {},
   "outputs": [],
   "source": [
    "# TODO: add code to make the first fixed effect 0"
   ]
  },
  {
   "cell_type": "code",
   "execution_count": 3,
   "id": "af687bcf-6a89-4e61-9fb2-b554914684fe",
   "metadata": {},
   "outputs": [],
   "source": [
    "model_spec = {\n",
    "    \"continuous_covariates\" : [\n",
    "        'fd_humidity_[weight]', 'fd_humidity_[weight]_2', 'fd_humidity_[weight]_3',\n",
    "        'fd_precip_[weight]_3', \n",
    "        'fd_humidity_annual_std_[weight]', 'fd_humidity_annual_std_[weight]_2', 'fd_precip_[weight]', \n",
    "        'fd_precip_[weight]_2', 'fd_precip_annual_std_[weight]', 'fd_precip_daily_std_[weight]', \n",
    "        'fd_precip_daily_std_[weight]_2', 'fd_precip_daily_std_[weight]_3', 'fd_temp_annual_std_[weight]', \n",
    "        'fd_temp_annual_std_[weight]_2', 'fd_temp_annual_std_[weight]_3', 'fd_temp_daily_std_[weight]', \n",
    "        'fd_temp_daily_std_[weight]_2', 'humidity_daily_std_[weight]', 'precip_[weight]', \n",
    "        'precip_daily_std_[weight]', 'temp_[weight]', 'temp_[weight]_2', \n",
    "        'temp_[weight]_3'\n",
    "    ],\n",
    "    \"discrete_covariates\" : ['wildfire','drought','wildfire_drought'],\n",
    "    \"fixed_effects\" : [\"country\",\"year\"],\n",
    "    \"incremental_effects\" : 3,\n",
    "    \"weights\" : \"unweighted\",\n",
    "    \"target\" : \"fd_ln_gdp\"\n",
    "}"
   ]
  },
  {
   "cell_type": "markdown",
   "id": "b9122e11-9508-4a90-bbb2-82a70c1feb2d",
   "metadata": {},
   "source": [
    "# Add scaled continuous data"
   ]
  },
  {
   "cell_type": "code",
   "execution_count": 4,
   "id": "0c398355-5787-405c-aebb-3bce82b2fccd",
   "metadata": {},
   "outputs": [],
   "source": [
    "covar_scalers = []\n",
    "for covar_col in model_spec[\"continuous_covariates\"]:\n",
    "    covar_scalers.append(StandardScaler())\n",
    "    gdp_regression_data[covar_col.replace(\"[weight]\",model_spec[\"weights\"])+\"_scaled\"] = covar_scalers[-1].fit_transform(np.array(gdp_regression_data[covar_col.replace(\"[weight]\",model_spec[\"weights\"])]).reshape(-1,1)).flatten()\n",
    "target_var_scaler = StandardScaler()\n",
    "gdp_regression_data[model_spec[\"target\"]+\"_scaled\"] = target_var_scaler.fit_transform(np.array(gdp_regression_data[model_spec[\"target\"]]).reshape(-1,1)).flatten()"
   ]
  },
  {
   "cell_type": "code",
   "execution_count": 5,
   "id": "fab8f509-c620-4deb-9326-fa03ac19b92c",
   "metadata": {},
   "outputs": [],
   "source": [
    "target_data = gdp_regression_data[model_spec[\"target\"]+\"_scaled\"]\n",
    "model_variables = []\n",
    "for covar in model_spec[\"continuous_covariates\"]:\n",
    "    model_variables.append(covar.replace(\"[weight]\",model_spec[\"weights\"])+\"_scaled\")\n",
    "for covar in model_spec[\"discrete_covariates\"]:\n",
    "    model_variables.append(covar)\n",
    "for fe in model_spec[\"fixed_effects\"]:\n",
    "    for fe_col in [col for col in gdp_regression_data.columns if col.endswith(f\"{fe}_fixed_effect\")]:\n",
    "        model_variables.append(fe_col)\n",
    "for i in range(model_spec[\"incremental_effects\"]):\n",
    "    for ie_col in [col for col in gdp_regression_data.columns if col.endswith(f\"incremental_effect_{i+1}\")]:\n",
    "        model_variables.append(ie_col)\n",
    "model_data = gdp_regression_data[model_variables]"
   ]
  },
  {
   "cell_type": "markdown",
   "id": "65d0fbca-fb6c-4cf7-9445-2aebc4c8198e",
   "metadata": {},
   "source": [
    "# Fixed-effects Bayesian model"
   ]
  },
  {
   "cell_type": "code",
   "execution_count": 34,
   "id": "5d3cc392-a439-4f01-9dfe-143be811e627",
   "metadata": {},
   "outputs": [
    {
     "name": "stderr",
     "output_type": "stream",
     "text": [
      "Sampling: [gdp_posterior, gdp_std, gdp_std_scale, model_variable_coefs]\n",
      "Auto-assigning NUTS sampler...\n",
      "Initializing NUTS using jitter+adapt_diag...\n",
      "Multiprocess sampling (4 chains in 4 jobs)\n",
      "NUTS: [model_variable_coefs, gdp_std_scale, gdp_std]\n"
     ]
    },
    {
     "data": {
      "text/html": [
       "\n",
       "<style>\n",
       "    /* Turns off some styling */\n",
       "    progress {\n",
       "        /* gets rid of default border in Firefox and Opera. */\n",
       "        border: none;\n",
       "        /* Needs to be in here for Safari polyfill so background images work as expected. */\n",
       "        background-size: auto;\n",
       "    }\n",
       "    progress:not([value]), progress:not([value])::-webkit-progress-bar {\n",
       "        background: repeating-linear-gradient(45deg, #7e7e7e, #7e7e7e 10px, #5c5c5c 10px, #5c5c5c 20px);\n",
       "    }\n",
       "    .progress-bar-interrupted, .progress-bar-interrupted::-webkit-progress-bar {\n",
       "        background: #F44336;\n",
       "    }\n",
       "</style>\n"
      ],
      "text/plain": [
       "<IPython.core.display.HTML object>"
      ]
     },
     "metadata": {},
     "output_type": "display_data"
    },
    {
     "data": {
      "text/html": [
       "\n",
       "    <div>\n",
       "      <progress value='8000' class='' max='8000' style='width:300px; height:20px; vertical-align: middle;'></progress>\n",
       "      100.00% [8000/8000 01:24&lt;00:00 Sampling 4 chains, 0 divergences]\n",
       "    </div>\n",
       "    "
      ],
      "text/plain": [
       "<IPython.core.display.HTML object>"
      ]
     },
     "metadata": {},
     "output_type": "display_data"
    },
    {
     "name": "stderr",
     "output_type": "stream",
     "text": [
      "Sampling 4 chains for 1_000 tune and 1_000 draw iterations (4_000 + 4_000 draws total) took 84 seconds.\n",
      "Sampling: [gdp_posterior]\n"
     ]
    },
    {
     "data": {
      "text/html": [
       "\n",
       "<style>\n",
       "    /* Turns off some styling */\n",
       "    progress {\n",
       "        /* gets rid of default border in Firefox and Opera. */\n",
       "        border: none;\n",
       "        /* Needs to be in here for Safari polyfill so background images work as expected. */\n",
       "        background-size: auto;\n",
       "    }\n",
       "    progress:not([value]), progress:not([value])::-webkit-progress-bar {\n",
       "        background: repeating-linear-gradient(45deg, #7e7e7e, #7e7e7e 10px, #5c5c5c 10px, #5c5c5c 20px);\n",
       "    }\n",
       "    .progress-bar-interrupted, .progress-bar-interrupted::-webkit-progress-bar {\n",
       "        background: #F44336;\n",
       "    }\n",
       "</style>\n"
      ],
      "text/plain": [
       "<IPython.core.display.HTML object>"
      ]
     },
     "metadata": {},
     "output_type": "display_data"
    },
    {
     "data": {
      "text/html": [
       "\n",
       "    <div>\n",
       "      <progress value='4000' class='' max='4000' style='width:300px; height:20px; vertical-align: middle;'></progress>\n",
       "      100.00% [4000/4000 00:00&lt;00:00]\n",
       "    </div>\n",
       "    "
      ],
      "text/plain": [
       "<IPython.core.display.HTML object>"
      ]
     },
     "metadata": {},
     "output_type": "display_data"
    }
   ],
   "source": [
    "with pm.Model() as pymc_model:\n",
    "\n",
    "    model_variable_coefs = pm.Normal(\"model_variable_coefs\", [-4,11,-7], [4,10,6], shape=(len(model_data.columns)))\n",
    "    model_terms = pm.Deterministic(\"model_variable_terms\", pt.sum(model_variable_coefs * model_data, axis=1))\n",
    "\n",
    "    gdp_std_scale = pm.HalfNormal(\"gdp_std_scale\", 5)\n",
    "    gdp_std = pm.HalfNormal(\"gdp_std\", sigma=gdp_std_scale)\n",
    "    gdp_posterior = pm.Normal('gdp_posterior', mu=model_terms, sigma=gdp_std, observed=target_data)\n",
    "\n",
    "    prior = pm.sample_prior_predictive()\n",
    "    trace = pm.sample(target_accept=.99, cores=4)\n",
    "    posterior = pm.sample_posterior_predictive(trace, extend_inferencedata=True)"
   ]
  },
  {
   "cell_type": "markdown",
   "id": "9a80c885-c509-4067-8b04-1c1dee2a8ef3",
   "metadata": {},
   "source": [
    "# Descaling example"
   ]
  },
  {
   "cell_type": "code",
   "execution_count": 35,
   "id": "c857b547-cf62-425d-9ee7-e0cb7a6eb201",
   "metadata": {},
   "outputs": [
    {
     "name": "stdout",
     "output_type": "stream",
     "text": [
      "fd_humidity_unweighted_scaled -4.258753109234552\n",
      "fd_humidity_unweighted_2_scaled 10.52310459680783\n",
      "fd_humidity_unweighted_3_scaled -6.917043049026962\n"
     ]
    }
   ],
   "source": [
    "for index, col in enumerate(model_data.columns):\n",
    "    print(col, np.mean(np.mean(posterior.posterior.model_variable_coefs,axis=0), axis=0)[index].data)"
   ]
  },
  {
   "cell_type": "code",
   "execution_count": 36,
   "id": "887b9583-692d-46bc-862c-30454d019220",
   "metadata": {},
   "outputs": [],
   "source": [
    "model = sm.OLS(target_data,model_data)\n",
    "covar_coef = model.fit().summary2().tables[1]"
   ]
  },
  {
   "cell_type": "code",
   "execution_count": 37,
   "id": "658a71ac-9f62-4b81-b293-2aa2d1bb6e9b",
   "metadata": {},
   "outputs": [
    {
     "data": {
      "text/html": [
       "<div>\n",
       "<style scoped>\n",
       "    .dataframe tbody tr th:only-of-type {\n",
       "        vertical-align: middle;\n",
       "    }\n",
       "\n",
       "    .dataframe tbody tr th {\n",
       "        vertical-align: top;\n",
       "    }\n",
       "\n",
       "    .dataframe thead th {\n",
       "        text-align: right;\n",
       "    }\n",
       "</style>\n",
       "<table border=\"1\" class=\"dataframe\">\n",
       "  <thead>\n",
       "    <tr style=\"text-align: right;\">\n",
       "      <th></th>\n",
       "      <th>Coef.</th>\n",
       "      <th>Std.Err.</th>\n",
       "      <th>t</th>\n",
       "      <th>P&gt;|t|</th>\n",
       "      <th>[0.025</th>\n",
       "      <th>0.975]</th>\n",
       "    </tr>\n",
       "  </thead>\n",
       "  <tbody>\n",
       "    <tr>\n",
       "      <th>fd_humidity_unweighted_scaled</th>\n",
       "      <td>-4.347122</td>\n",
       "      <td>4.080492</td>\n",
       "      <td>-1.065343</td>\n",
       "      <td>0.292163</td>\n",
       "      <td>-12.556014</td>\n",
       "      <td>3.861769</td>\n",
       "    </tr>\n",
       "    <tr>\n",
       "      <th>fd_humidity_unweighted_2_scaled</th>\n",
       "      <td>10.737536</td>\n",
       "      <td>9.544939</td>\n",
       "      <td>1.124945</td>\n",
       "      <td>0.266324</td>\n",
       "      <td>-8.464404</td>\n",
       "      <td>29.939475</td>\n",
       "    </tr>\n",
       "    <tr>\n",
       "      <th>fd_humidity_unweighted_3_scaled</th>\n",
       "      <td>-7.053831</td>\n",
       "      <td>6.014311</td>\n",
       "      <td>-1.172841</td>\n",
       "      <td>0.246770</td>\n",
       "      <td>-19.153063</td>\n",
       "      <td>5.045401</td>\n",
       "    </tr>\n",
       "  </tbody>\n",
       "</table>\n",
       "</div>"
      ],
      "text/plain": [
       "                                     Coef.  Std.Err.         t     P>|t|  \\\n",
       "fd_humidity_unweighted_scaled    -4.347122  4.080492 -1.065343  0.292163   \n",
       "fd_humidity_unweighted_2_scaled  10.737536  9.544939  1.124945  0.266324   \n",
       "fd_humidity_unweighted_3_scaled  -7.053831  6.014311 -1.172841  0.246770   \n",
       "\n",
       "                                    [0.025     0.975]  \n",
       "fd_humidity_unweighted_scaled   -12.556014   3.861769  \n",
       "fd_humidity_unweighted_2_scaled  -8.464404  29.939475  \n",
       "fd_humidity_unweighted_3_scaled -19.153063   5.045401  "
      ]
     },
     "execution_count": 37,
     "metadata": {},
     "output_type": "execute_result"
    }
   ],
   "source": [
    "covar_coef"
   ]
  },
  {
   "cell_type": "code",
   "execution_count": 38,
   "id": "8e22d580-747d-4775-ad0d-bbfbb601a8ed",
   "metadata": {},
   "outputs": [],
   "source": [
    "model = sm.OLS(gdp_regression_data.fd_ln_gdp,gdp_regression_data[[\"fd_humidity_unweighted\",\"fd_humidity_unweighted_3\",\"fd_humidity_unweighted_2\"]])\n",
    "covar_coef = model.fit().summary2().tables[1]"
   ]
  },
  {
   "cell_type": "code",
   "execution_count": 39,
   "id": "35d77caf-6075-46ac-86cd-4bf002ee6b7b",
   "metadata": {},
   "outputs": [
    {
     "data": {
      "text/html": [
       "<div>\n",
       "<style scoped>\n",
       "    .dataframe tbody tr th:only-of-type {\n",
       "        vertical-align: middle;\n",
       "    }\n",
       "\n",
       "    .dataframe tbody tr th {\n",
       "        vertical-align: top;\n",
       "    }\n",
       "\n",
       "    .dataframe thead th {\n",
       "        text-align: right;\n",
       "    }\n",
       "</style>\n",
       "<table border=\"1\" class=\"dataframe\">\n",
       "  <thead>\n",
       "    <tr style=\"text-align: right;\">\n",
       "      <th></th>\n",
       "      <th>Coef.</th>\n",
       "      <th>Std.Err.</th>\n",
       "      <th>t</th>\n",
       "      <th>P&gt;|t|</th>\n",
       "      <th>[0.025</th>\n",
       "      <th>0.975]</th>\n",
       "    </tr>\n",
       "  </thead>\n",
       "  <tbody>\n",
       "    <tr>\n",
       "      <th>fd_humidity_unweighted</th>\n",
       "      <td>-1.418614</td>\n",
       "      <td>1.794472</td>\n",
       "      <td>-0.790546</td>\n",
       "      <td>0.433180</td>\n",
       "      <td>-5.028627</td>\n",
       "      <td>2.191399</td>\n",
       "    </tr>\n",
       "    <tr>\n",
       "      <th>fd_humidity_unweighted_3</th>\n",
       "      <td>-0.009343</td>\n",
       "      <td>0.010476</td>\n",
       "      <td>-0.891845</td>\n",
       "      <td>0.377020</td>\n",
       "      <td>-0.030418</td>\n",
       "      <td>0.011732</td>\n",
       "    </tr>\n",
       "    <tr>\n",
       "      <th>fd_humidity_unweighted_2</th>\n",
       "      <td>0.219640</td>\n",
       "      <td>0.258373</td>\n",
       "      <td>0.850088</td>\n",
       "      <td>0.399586</td>\n",
       "      <td>-0.300140</td>\n",
       "      <td>0.739420</td>\n",
       "    </tr>\n",
       "  </tbody>\n",
       "</table>\n",
       "</div>"
      ],
      "text/plain": [
       "                             Coef.  Std.Err.         t     P>|t|    [0.025  \\\n",
       "fd_humidity_unweighted   -1.418614  1.794472 -0.790546  0.433180 -5.028627   \n",
       "fd_humidity_unweighted_3 -0.009343  0.010476 -0.891845  0.377020 -0.030418   \n",
       "fd_humidity_unweighted_2  0.219640  0.258373  0.850088  0.399586 -0.300140   \n",
       "\n",
       "                            0.975]  \n",
       "fd_humidity_unweighted    2.191399  \n",
       "fd_humidity_unweighted_3  0.011732  \n",
       "fd_humidity_unweighted_2  0.739420  "
      ]
     },
     "execution_count": 39,
     "metadata": {},
     "output_type": "execute_result"
    }
   ],
   "source": [
    "covar_coef"
   ]
  },
  {
   "cell_type": "code",
   "execution_count": 60,
   "id": "c9d1d539-494a-41f0-90b4-271a7281d0ee",
   "metadata": {},
   "outputs": [
    {
     "name": "stdout",
     "output_type": "stream",
     "text": [
      "-1.7510407233482235\n",
      "-0.011081937738102536\n",
      "0.26286269705837284\n"
     ]
    }
   ],
   "source": [
    "var1 = np.array(posterior.posterior.model_variable_coefs[:,:,0]).flatten()\n",
    "var2 = np.array(posterior.posterior.model_variable_coefs[:,:,1]).flatten()\n",
    "var3 = np.array(posterior.posterior.model_variable_coefs[:,:,2]).flatten()\n",
    "\n",
    "var1_unscaled = (\n",
    "    (var1 * np.std(gdp_regression_data.fd_ln_gdp) / np.std(gdp_regression_data.fd_humidity_unweighted)) \n",
    "    - ((2 * (var2 * np.mean(gdp_regression_data.fd_humidity_unweighted) * np.std(gdp_regression_data.fd_ln_gdp))) / np.std(gdp_regression_data.fd_humidity_unweighted_2))\n",
    "    + ((3 * (var3 * np.mean(gdp_regression_data.fd_humidity_unweighted_2) * np.std(gdp_regression_data.fd_ln_gdp))) / np.std(gdp_regression_data.fd_humidity_unweighted_3))\n",
    ")\n",
    "print(np.mean(var1_unscaled))\n",
    "\n",
    "var3_unscaled = var3 * np.std(gdp_regression_data.fd_ln_gdp) / np.std(gdp_regression_data.fd_humidity_unweighted_3)\n",
    "print(np.mean(var3_unscaled))\n",
    "\n",
    "var2_unscaled = (\n",
    "    (var2 * np.std(gdp_regression_data.fd_ln_gdp) / np.std(gdp_regression_data.fd_humidity_unweighted_2))\n",
    "    - (3 * (var3 * np.mean(gdp_regression_data.fd_humidity_unweighted) * np.std(gdp_regression_data.fd_ln_gdp) / np.std(gdp_regression_data.fd_humidity_unweighted_3)))\n",
    ")\n",
    "print(np.mean(var2_unscaled))"
   ]
  },
  {
   "cell_type": "code",
   "execution_count": 42,
   "id": "412398b1-90c0-474b-b374-41eb7bf0143d",
   "metadata": {},
   "outputs": [
    {
     "data": {
      "text/plain": [
       "-40.32178827023091"
      ]
     },
     "execution_count": 42,
     "metadata": {},
     "output_type": "execute_result"
    }
   ],
   "source": [
    "np.mean(var1_unscaled)"
   ]
  },
  {
   "cell_type": "markdown",
   "id": "542437f2-07e2-45d1-8f7a-7c55cd7551ba",
   "metadata": {},
   "source": [
    "# Random-intercept Bayesian model"
   ]
  },
  {
   "cell_type": "code",
   "execution_count": 71,
   "id": "5d928e57-d8b4-43a4-ae16-e48bfe4247fd",
   "metadata": {},
   "outputs": [
    {
     "name": "stderr",
     "output_type": "stream",
     "text": [
      "Sampling: [country_re_coefs, country_re_means, country_re_sd, gdp_posterior, gdp_std, gdp_std_scale, global_country_re_mean, global_country_re_sd, global_year_re_mean, global_year_re_sd, model_variable_coefs, year_re_coefs, year_re_means, year_re_sd]\n",
      "Auto-assigning NUTS sampler...\n",
      "Initializing NUTS using jitter+adapt_diag...\n",
      "\n",
      "KeyboardInterrupt\n",
      "\n"
     ]
    }
   ],
   "source": [
    "non_fe_vars = [col for col in model_data.columns if \"year_fixed_effect\" not in col and \"country_fixed_effect\" not in col]\n",
    "country_fe_vars = [col for col in model_data.columns if \"country_fixed_effect\" in col]\n",
    "year_fe_vars = [col for col in model_data.columns if \"year_fixed_effect\" in col]\n",
    "\n",
    "with pm.Model() as pymc_model:\n",
    "\n",
    "    non_fe_coefs = pm.Normal(\"model_variable_coefs\", 0, 10, shape=(len(non_fe_vars)))\n",
    "    non_fe_terms = pm.Deterministic(\"model_variable_terms\", pt.sum(non_fe_coefs * model_data[non_fe_vars], axis=1))\n",
    "\n",
    "    global_country_re_mean = pm.Normal(\"global_country_re_mean\",0,10)\n",
    "    global_country_re_sd = pm.HalfNormal(\"global_country_re_sd\",5)\n",
    "    country_re_means = pm.Normal(\"country_re_means\", global_country_re_mean, global_country_re_sd, shape=len(country_fe_vars))\n",
    "    country_re_sd = pm.HalfNormal(\"country_re_sd\", 5)\n",
    "    country_re_coefs = pm.Normal(\"country_re_coefs\", country_re_means, country_re_sd, shape=len(country_fe_vars))\n",
    "    country_re_terms = pm.Deterministic(\"country_re_terms\", pt.sum(country_re_coefs * model_data[country_fe_vars], axis=1))\n",
    "\n",
    "    global_year_re_mean = pm.Normal(\"global_year_re_mean\",0,10)\n",
    "    global_year_re_sd = pm.HalfNormal(\"global_year_re_sd\",5)\n",
    "    year_re_means = pm.Normal(\"year_re_means\", global_year_re_mean, global_year_re_sd, shape=len(year_fe_vars))\n",
    "    year_re_sd = pm.HalfNormal(\"year_re_sd\", 5)\n",
    "    year_re_coefs = pm.Normal(\"year_re_coefs\", year_re_means, year_re_sd, shape=len(year_fe_vars))\n",
    "    year_re_terms = pm.Deterministic(\"year_re_terms\", pt.sum(year_re_coefs * model_data[year_fe_vars], axis=1))\n",
    "\n",
    "    gdp_prior = pm.Deterministic(\n",
    "        \"gdp_prior\",\n",
    "        non_fe_terms +\n",
    "        country_re_terms +\n",
    "        year_re_terms\n",
    "    )\n",
    "    \n",
    "    gdp_std_scale = pm.HalfNormal(\"gdp_std_scale\", 5)\n",
    "    gdp_std = pm.HalfNormal(\"gdp_std\", sigma=gdp_std_scale)\n",
    "    gdp_posterior = pm.Normal('gdp_posterior', mu=gdp_prior, sigma=gdp_std, observed=target_data)\n",
    "\n",
    "    prior = pm.sample_prior_predictive()\n",
    "    trace = pm.sample(target_accept=.99, cores=4)\n",
    "    posterior = pm.sample_posterior_predictive(trace, extend_inferencedata=True)"
   ]
  },
  {
   "cell_type": "markdown",
   "id": "ee25d8ed-011b-4837-9d8e-a3c0f4288cd5",
   "metadata": {},
   "source": [
    "# Random-slopes Bayesian model"
   ]
  },
  {
   "cell_type": "code",
   "execution_count": 40,
   "id": "b745c3ef-dee8-4ca4-99db-32d5abe0acce",
   "metadata": {},
   "outputs": [
    {
     "name": "stdout",
     "output_type": "stream",
     "text": [
      "[[ 12.37870589   3.17858965   4.5534875  ...  -3.46436555 -14.61051546\n",
      "    1.64741757]\n",
      " [ 12.37870589   3.17858965   4.5534875  ...  -3.46436555 -14.61051546\n",
      "    1.64741757]\n",
      " [ 12.37870589   3.17858965   4.5534875  ...  -3.46436555 -14.61051546\n",
      "    1.64741757]\n",
      " ...\n",
      " [ 12.37870589   3.17858965   4.5534875  ...  -3.46436555 -14.61051546\n",
      "    1.64741757]\n",
      " [ 12.37870589   3.17858965   4.5534875  ...  -3.46436555 -14.61051546\n",
      "    1.64741757]\n",
      " [ 12.37870589   3.17858965   4.5534875  ...  -3.46436555 -14.61051546\n",
      "    1.64741757]]\n",
      "[[-15.40158028  -8.38112755  -3.69093909 ... -12.73897116  -4.51151375\n",
      "   -7.52881807]\n",
      " [-15.40158028  -8.38112755  -3.69093909 ... -12.73897116  -4.51151375\n",
      "   -7.52881807]\n",
      " [-15.40158028  -8.38112755  -3.69093909 ... -12.73897116  -4.51151375\n",
      "   -7.52881807]\n",
      " ...\n",
      " [-13.44147246  -6.21858906   2.10813171 ... -20.38600278 -14.79777341\n",
      "  -10.98987118]\n",
      " [-13.44147246  -6.21858906   2.10813171 ... -20.38600278 -14.79777341\n",
      "  -10.98987118]\n",
      " [-13.44147246  -6.21858906   2.10813171 ... -20.38600278 -14.79777341\n",
      "  -10.98987118]]\n",
      "[[  0.           0.           0.         ...   0.           0.\n",
      "    0.        ]\n",
      " [-21.70544882 -20.1071078    1.7476874  ... -24.24521752 -16.11879811\n",
      "   -9.68966529]\n",
      " [-19.8954018   -3.65501111  -8.54900492 ... -18.5260538  -16.81919406\n",
      "   -6.53411385]\n",
      " ...\n",
      " [ -8.89805229  -3.90801624 -10.31218781 ... -22.87922813 -23.25988394\n",
      "   -6.26936148]\n",
      " [ -5.01797202  -2.25046976   6.47566102 ... -21.68493634 -11.07734782\n",
      "  -18.86459995]\n",
      " [-11.93062918 -24.63737243 -33.34168449 ...  -7.9156254   -4.93080574\n",
      "  -12.12020418]]\n",
      "[[ -3.02287439  -5.20253791   0.86254841 ... -16.20333671 -19.12202921\n",
      "   -5.8814005 ]\n",
      " [-24.7283232  -25.30964571   2.6102358  ... -40.44855423 -35.24082732\n",
      "  -15.57106579]\n",
      " [-22.91827618  -8.85754902  -7.68645652 ... -34.72939051 -35.94122327\n",
      "  -12.41551435]\n",
      " ...\n",
      " [ -9.96081885  -6.94801566  -3.6505686  ... -46.72959646 -52.66817281\n",
      "  -15.61181508]\n",
      " [ -6.08073859  -5.29046918  13.13728023 ... -45.53530467 -40.48563669\n",
      "  -28.20705356]\n",
      " [-12.99339575 -27.67737185 -26.68006528 ... -31.76599373 -34.33909462\n",
      "  -21.46265779]]\n"
     ]
    }
   ],
   "source": [
    "non_group_effect_vars = [col for col in model_data.columns if \"year_fixed_effect\" not in col and \"country_fixed_effect\" not in col and \"incremental_effect\" not in col]\n",
    "incremental_effects = [col for col in model_data.columns if \"incremental_effect\" in col]\n",
    "country_fe_vars = [col for col in model_data.columns if \"country_fixed_effect\" in col]\n",
    "year_fe_vars = [col for col in model_data.columns if \"year_fixed_effect\" in col]\n",
    "\n",
    "with pm.Model() as pymc_model:\n",
    "\n",
    "    incremental_effect_coefs = pm.Normal(\"incremental_effect_coefs\", 0, 10, shape=(len(incremental_effects)))\n",
    "    incremental_effect_terms = pm.Deterministic(\"incremental_effect_terms\", pt.sum(incremental_effect_coefs * model_data[incremental_effects], axis=1))\n",
    "\n",
    "    global_country_rs_offset_mean = pm.Normal(\"global_country_rs_offset_mean\",0,10)\n",
    "    global_country_rs_offset_sd = pm.HalfNormal(\"global_country_rs_offset_sd\",5)\n",
    "    country_rs_offset_means = pm.Normal(\"country_rs_offset_means\", global_country_rs_offset_mean, global_country_rs_offset_sd, shape=(len(non_group_effect_vars),len(country_fe_vars)))\n",
    "    country_rs_offset_sd = pm.HalfNormal(\"country_rs_offset_sd\", 5)\n",
    "    country_rs_offsets = pm.Normal(\"country_rs_offsets\", country_rs_offset_means, country_rs_offset_sd)\n",
    "\n",
    "    country_rs_offset_columns = []\n",
    "    for i in range(0,len(non_group_effect_vars)):\n",
    "        country_rs_offset_columns.append(pt.sum(country_rs_offsets[i] * model_data[country_fe_vars],axis=1))\n",
    "    country_rs_offset_matrix = pm.math.stack(country_rs_offset_columns, axis=1)\n",
    "    \n",
    "    global_year_rs_offset_mean = pm.Normal(\"global_year_rs_offset_mean\",0,10)\n",
    "    global_year_rs_offset_sd = pm.HalfNormal(\"global_year_rs_offset_sd\",5)\n",
    "    year_rs_offset_means = pm.Normal(\"year_rs_offset_means\", global_year_rs_offset_mean, global_year_rs_offset_sd, shape=(len(non_group_effect_vars),len(year_fe_vars)))\n",
    "    year_rs_offset_sd = pm.HalfNormal(\"year_rs_offset_sd\", 5)\n",
    "    year_rs_offsets = pm.Normal(\"year_rs_offsets\", year_rs_offset_means, year_rs_offset_sd)\n",
    "\n",
    "    year_rs_offset_columns = []\n",
    "    for i in range(0,len(non_group_effect_vars)):\n",
    "        year_rs_offset_columns.append(pt.sum(year_rs_offsets[i] * model_data[year_fe_vars],axis=1))\n",
    "    year_rs_offset_matrix = pm.math.stack(year_rs_offset_columns, axis=1)\n",
    "\n",
    "    covar_coefficients = pm.Normal(\"covar_coefficients\", 0, 10, shape=len(non_group_effect_vars))\n",
    "    covar_coef_matrix = pm.Deterministic(\"covar_coef_matrix\", covar_coefficients * np.ones((len(gdp_regression_data), len(non_group_effect_vars))))  \n",
    "    print(covar_coef_matrix.eval())\n",
    "    covar_coefs_matrix_with_offset = pm.Deterministic(\"covar_coef_matrix_with_offset\", pt.sum([covar_coef_matrix, country_rs_offset_matrix, year_rs_offset_matrix], axis=0))   \n",
    "    print(country_rs_offset_matrix.eval())\n",
    "    print(year_rs_offset_matrix.eval())\n",
    "    print(covar_coefs_matrix_with_offset.eval())\n",
    "    covar_terms = pm.Deterministic(\"country_fe_terms\", pt.sum(covar_coefs_matrix_with_offset * model_data[non_group_effect_vars], axis=1))\n",
    "    \n",
    "    gdp_prior = pm.Deterministic(\n",
    "        \"gdp_prior\",\n",
    "        incremental_effect_terms +\n",
    "        covar_terms\n",
    "    )\n",
    "    \n",
    "    gdp_std_scale = pm.HalfNormal(\"gdp_std_scale\", 5)\n",
    "    gdp_std = pm.HalfNormal(\"gdp_std\", sigma=gdp_std_scale)\n",
    "    gdp_posterior = pm.Normal('gdp_posterior', mu=gdp_prior, sigma=gdp_std, observed=target_data)\n",
    "\n",
    "    # prior = pm.sample_prior_predictive()\n",
    "    # trace = pm.sample(target_accept=.99, cores=4)\n",
    "    # posterior = pm.sample_posterior_predictive(trace, extend_inferencedata=True)"
   ]
  }
 ],
 "metadata": {
  "kernelspec": {
   "display_name": "Python 3 (ipykernel)",
   "language": "python",
   "name": "python3"
  },
  "language_info": {
   "codemirror_mode": {
    "name": "ipython",
    "version": 3
   },
   "file_extension": ".py",
   "mimetype": "text/x-python",
   "name": "python",
   "nbconvert_exporter": "python",
   "pygments_lexer": "ipython3",
   "version": "3.10.12"
  }
 },
 "nbformat": 4,
 "nbformat_minor": 5
}
