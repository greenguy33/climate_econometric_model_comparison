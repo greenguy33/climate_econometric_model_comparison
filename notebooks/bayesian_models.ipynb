{
 "cells": [
  {
   "cell_type": "code",
   "execution_count": 1,
   "id": "fda52d5c-c133-41fb-8150-d6d3274290e9",
   "metadata": {},
   "outputs": [
    {
     "name": "stderr",
     "output_type": "stream",
     "text": [
      "WARNING (pytensor.tensor.blas): Using NumPy C-API based implementation for BLAS functions.\n"
     ]
    }
   ],
   "source": [
    "import csv\n",
    "import os\n",
    "import copy\n",
    "import pandas as pd\n",
    "import numpy as np\n",
    "from sklearn.preprocessing import OrdinalEncoder, StandardScaler\n",
    "import pickle as pkl\n",
    "import matplotlib.pyplot as plt\n",
    "import random\n",
    "import statsmodels.api as sm\n",
    "import warnings\n",
    "import pymc as pm\n",
    "from pytensor import tensor as pt \n",
    "import arviz as az\n",
    "\n",
    "warnings.simplefilter(action='ignore', category=pd.errors.PerformanceWarning)\n",
    "warnings.filterwarnings('ignore')"
   ]
  },
  {
   "cell_type": "code",
   "execution_count": 2,
   "id": "259ed3b1-878e-4966-b4a8-8e75b2d3dcf8",
   "metadata": {},
   "outputs": [],
   "source": [
    "gdp_regression_data_insample = pd.read_csv(\"../data/regression/cross_validation/gdp_regression_data_insample_festratified_0.csv\")\n",
    "countries_in_dataset = set(gdp_regression_data_insample.country)\n",
    "years_in_dataset = set(gdp_regression_data_insample.year)\n",
    "country_fe_cols = [col for col in gdp_regression_data_insample.columns if \"country_fixed_effect\" in col]\n",
    "country_ie_cols = [col for col in gdp_regression_data_insample.columns if \"incremental_effect\" in col]\n",
    "year_fe_cols = [col for col in gdp_regression_data_insample.columns if \"year_fixed_effect\" in col]\n",
    "for country_fe in country_fe_cols:\n",
    "    country = country_fe.split(\"_\")[0]\n",
    "    if country not in countries_in_dataset:\n",
    "        gdp_regression_data_insample = gdp_regression_data_insample.drop(country_fe, axis=1)\n",
    "        for i in range(1,4):\n",
    "            gdp_regression_data_insample = gdp_regression_data_insample.drop(country + f\"_incremental_effect_{i}\", axis=1)\n",
    "for year_fe in year_fe_cols:\n",
    "    year = year_fe.split(\"_\")[0]\n",
    "    if int(year) not in years_in_dataset:\n",
    "        gdp_regression_data_insample = gdp_regression_data_insample.drop(year_fe, axis=1)"
   ]
  },
  {
   "cell_type": "code",
   "execution_count": 3,
   "id": "af687bcf-6a89-4e61-9fb2-b554914684fe",
   "metadata": {},
   "outputs": [],
   "source": [
    "model_spec = {\n",
    "    \"continuous_covariates\" : [\n",
    "        'precip_annual_std_[weight]',\n",
    "        'precip_annual_std_[weight]_2',\n",
    "        'precip_annual_std_[weight]_3',\n",
    "        'temp_[weight]',\n",
    "        'temp_[weight]_2', \n",
    "        'temp_[weight]_3'\n",
    "    ],\n",
    "    \"discrete_covariates\" : ['drought'],\n",
    "    \"fixed_effects\" : [\"year\",\"country\"],\n",
    "    \"incremental_effects\" : 0,\n",
    "    \"weights\" : \"pop_weighted\",\n",
    "    \"target\" : \"fd_ln_gdp\"\n",
    "}"
   ]
  },
  {
   "cell_type": "markdown",
   "id": "b9122e11-9508-4a90-bbb2-82a70c1feb2d",
   "metadata": {},
   "source": [
    "# Add scaled continuous data"
   ]
  },
  {
   "cell_type": "code",
   "execution_count": 4,
   "id": "0c398355-5787-405c-aebb-3bce82b2fccd",
   "metadata": {},
   "outputs": [],
   "source": [
    "covar_scalers = []\n",
    "for covar_col in model_spec[\"continuous_covariates\"]:\n",
    "    covar_scalers.append(StandardScaler())\n",
    "    gdp_regression_data_insample[covar_col.replace(\"[weight]\",model_spec[\"weights\"])+\"_scaled\"] = covar_scalers[-1].fit_transform(np.array(gdp_regression_data_insample[covar_col.replace(\"[weight]\",model_spec[\"weights\"])]).reshape(-1,1)).flatten()\n",
    "target_var_scaler = StandardScaler()\n",
    "gdp_regression_data_insample[model_spec[\"target\"]+\"_scaled\"] = target_var_scaler.fit_transform(np.array(gdp_regression_data_insample[model_spec[\"target\"]]).reshape(-1,1)).flatten()"
   ]
  },
  {
   "cell_type": "code",
   "execution_count": 5,
   "id": "fab8f509-c620-4deb-9326-fa03ac19b92c",
   "metadata": {},
   "outputs": [],
   "source": [
    "target_data = gdp_regression_data_insample[model_spec[\"target\"]+\"_scaled\"]\n",
    "model_variables = []\n",
    "for covar in model_spec[\"continuous_covariates\"]:\n",
    "    model_variables.append(covar.replace(\"[weight]\",model_spec[\"weights\"])+\"_scaled\")\n",
    "for covar in model_spec[\"discrete_covariates\"]:\n",
    "    model_variables.append(covar)\n",
    "for fe in model_spec[\"fixed_effects\"]:\n",
    "    for fe_col in [col for col in gdp_regression_data_insample.columns if col.endswith(f\"{fe}_fixed_effect\")]:\n",
    "        model_variables.append(fe_col)\n",
    "for i in range(model_spec[\"incremental_effects\"]):\n",
    "    for ie_col in [col for col in gdp_regression_data_insample.columns if col.endswith(f\"incremental_effect_{i+1}\")]:\n",
    "        model_variables.append(ie_col)\n",
    "model_data = gdp_regression_data_insample[model_variables]"
   ]
  },
  {
   "cell_type": "markdown",
   "id": "65d0fbca-fb6c-4cf7-9445-2aebc4c8198e",
   "metadata": {},
   "source": [
    "# Fixed-effects Bayesian model"
   ]
  },
  {
   "cell_type": "code",
   "execution_count": 11,
   "id": "5d3cc392-a439-4f01-9dfe-143be811e627",
   "metadata": {},
   "outputs": [
    {
     "name": "stderr",
     "output_type": "stream",
     "text": [
      "Sampling: [gdp_posterior, gdp_std, gdp_std_scale, model_variable_coefs]\n",
      "Auto-assigning NUTS sampler...\n",
      "Initializing NUTS using jitter+adapt_diag...\n",
      "Multiprocess sampling (4 chains in 4 jobs)\n",
      "NUTS: [model_variable_coefs, gdp_std_scale, gdp_std]\n"
     ]
    },
    {
     "data": {
      "text/html": [
       "\n",
       "<style>\n",
       "    /* Turns off some styling */\n",
       "    progress {\n",
       "        /* gets rid of default border in Firefox and Opera. */\n",
       "        border: none;\n",
       "        /* Needs to be in here for Safari polyfill so background images work as expected. */\n",
       "        background-size: auto;\n",
       "    }\n",
       "    progress:not([value]), progress:not([value])::-webkit-progress-bar {\n",
       "        background: repeating-linear-gradient(45deg, #7e7e7e, #7e7e7e 10px, #5c5c5c 10px, #5c5c5c 20px);\n",
       "    }\n",
       "    .progress-bar-interrupted, .progress-bar-interrupted::-webkit-progress-bar {\n",
       "        background: #F44336;\n",
       "    }\n",
       "</style>\n"
      ],
      "text/plain": [
       "<IPython.core.display.HTML object>"
      ]
     },
     "metadata": {},
     "output_type": "display_data"
    },
    {
     "data": {
      "text/html": [
       "\n",
       "    <div>\n",
       "      <progress value='8000' class='' max='8000' style='width:300px; height:20px; vertical-align: middle;'></progress>\n",
       "      100.00% [8000/8000 1:17:23&lt;00:00 Sampling 4 chains, 0 divergences]\n",
       "    </div>\n",
       "    "
      ],
      "text/plain": [
       "<IPython.core.display.HTML object>"
      ]
     },
     "metadata": {},
     "output_type": "display_data"
    },
    {
     "name": "stderr",
     "output_type": "stream",
     "text": [
      "Sampling 4 chains for 1_000 tune and 1_000 draw iterations (4_000 + 4_000 draws total) took 4644 seconds.\n",
      "Sampling: [gdp_posterior]\n"
     ]
    },
    {
     "data": {
      "text/html": [
       "\n",
       "<style>\n",
       "    /* Turns off some styling */\n",
       "    progress {\n",
       "        /* gets rid of default border in Firefox and Opera. */\n",
       "        border: none;\n",
       "        /* Needs to be in here for Safari polyfill so background images work as expected. */\n",
       "        background-size: auto;\n",
       "    }\n",
       "    progress:not([value]), progress:not([value])::-webkit-progress-bar {\n",
       "        background: repeating-linear-gradient(45deg, #7e7e7e, #7e7e7e 10px, #5c5c5c 10px, #5c5c5c 20px);\n",
       "    }\n",
       "    .progress-bar-interrupted, .progress-bar-interrupted::-webkit-progress-bar {\n",
       "        background: #F44336;\n",
       "    }\n",
       "</style>\n"
      ],
      "text/plain": [
       "<IPython.core.display.HTML object>"
      ]
     },
     "metadata": {},
     "output_type": "display_data"
    },
    {
     "data": {
      "text/html": [
       "\n",
       "    <div>\n",
       "      <progress value='4000' class='' max='4000' style='width:300px; height:20px; vertical-align: middle;'></progress>\n",
       "      100.00% [4000/4000 00:00&lt;00:00]\n",
       "    </div>\n",
       "    "
      ],
      "text/plain": [
       "<IPython.core.display.HTML object>"
      ]
     },
     "metadata": {},
     "output_type": "display_data"
    }
   ],
   "source": [
    "first_year_fe_col = [col for col in model_data.columns if \"year_fixed_effect\" in col][0]\n",
    "\n",
    "model_data_first_fe_removed = copy.deepcopy(model_data)\n",
    "model_data_first_fe_removed[first_year_fe_col] = 0\n",
    "\n",
    "with pm.Model() as pymc_model:\n",
    "\n",
    "    model_variable_coefs = pm.Normal(\"model_variable_coefs\", 0, 10, shape=(len(model_data_first_fe_removed.columns)))\n",
    "    model_terms = pm.Deterministic(\"model_variable_terms\", pt.sum(model_variable_coefs * model_data_first_fe_removed, axis=1))\n",
    "\n",
    "    gdp_std_scale = pm.HalfNormal(\"gdp_std_scale\", 5)\n",
    "    gdp_std = pm.HalfNormal(\"gdp_std\", sigma=gdp_std_scale)\n",
    "    gdp_posterior = pm.Normal('gdp_posterior', mu=model_terms, sigma=gdp_std, observed=target_data)\n",
    "\n",
    "    prior = pm.sample_prior_predictive()\n",
    "    trace = pm.sample(target_accept=.99, cores=4)\n",
    "    posterior = pm.sample_posterior_predictive(trace, extend_inferencedata=True)"
   ]
  },
  {
   "cell_type": "code",
   "execution_count": 32,
   "id": "44f7743d-3909-4fe4-a674-4cf85e6cb0eb",
   "metadata": {},
   "outputs": [],
   "source": [
    "# with open ('../output/models/bayes_models/fixed_effects_model.pkl', 'wb') as buff:\n",
    "#     pkl.dump({\n",
    "#         \"prior\":prior,\n",
    "#         \"trace\":trace,\n",
    "#         \"posterior\":posterior,\n",
    "#         \"var_list\":(model_data.columns),\n",
    "#         \"model_spec\":model_spec\n",
    "#     },buff)"
   ]
  },
  {
   "cell_type": "code",
   "execution_count": 22,
   "id": "1d933fd7-62a8-4753-b6d3-7113972e285b",
   "metadata": {},
   "outputs": [],
   "source": [
    "fixed_effects_model = pd.read_pickle('../output/models/bayes_models/fixed_effects_model.pkl')\n",
    "posterior = fixed_effects_model[\"posterior\"]\n",
    "var_list = fixed_effects_model[\"var_list\"]"
   ]
  },
  {
   "cell_type": "code",
   "execution_count": 16,
   "id": "56541990-a707-45a8-bdaa-d9f6f28309ef",
   "metadata": {},
   "outputs": [
    {
     "data": {
      "text/html": [
       "<div>\n",
       "<style scoped>\n",
       "    .dataframe tbody tr th:only-of-type {\n",
       "        vertical-align: middle;\n",
       "    }\n",
       "\n",
       "    .dataframe tbody tr th {\n",
       "        vertical-align: top;\n",
       "    }\n",
       "\n",
       "    .dataframe thead th {\n",
       "        text-align: right;\n",
       "    }\n",
       "</style>\n",
       "<table border=\"1\" class=\"dataframe\">\n",
       "  <thead>\n",
       "    <tr style=\"text-align: right;\">\n",
       "      <th></th>\n",
       "      <th>mean</th>\n",
       "      <th>sd</th>\n",
       "      <th>hdi_3%</th>\n",
       "      <th>hdi_97%</th>\n",
       "      <th>mcse_mean</th>\n",
       "      <th>mcse_sd</th>\n",
       "      <th>ess_bulk</th>\n",
       "      <th>ess_tail</th>\n",
       "      <th>r_hat</th>\n",
       "    </tr>\n",
       "  </thead>\n",
       "  <tbody>\n",
       "    <tr>\n",
       "      <th>model_variable_coefs[0]</th>\n",
       "      <td>-0.061</td>\n",
       "      <td>0.090</td>\n",
       "      <td>-0.225</td>\n",
       "      <td>0.108</td>\n",
       "      <td>0.002</td>\n",
       "      <td>0.002</td>\n",
       "      <td>1762.0</td>\n",
       "      <td>2355.0</td>\n",
       "      <td>1.0</td>\n",
       "    </tr>\n",
       "    <tr>\n",
       "      <th>model_variable_coefs[1]</th>\n",
       "      <td>0.118</td>\n",
       "      <td>0.183</td>\n",
       "      <td>-0.232</td>\n",
       "      <td>0.438</td>\n",
       "      <td>0.004</td>\n",
       "      <td>0.003</td>\n",
       "      <td>1716.0</td>\n",
       "      <td>2099.0</td>\n",
       "      <td>1.0</td>\n",
       "    </tr>\n",
       "    <tr>\n",
       "      <th>model_variable_coefs[2]</th>\n",
       "      <td>-0.033</td>\n",
       "      <td>0.102</td>\n",
       "      <td>-0.212</td>\n",
       "      <td>0.166</td>\n",
       "      <td>0.002</td>\n",
       "      <td>0.002</td>\n",
       "      <td>1751.0</td>\n",
       "      <td>2121.0</td>\n",
       "      <td>1.0</td>\n",
       "    </tr>\n",
       "    <tr>\n",
       "      <th>model_variable_coefs[3]</th>\n",
       "      <td>0.292</td>\n",
       "      <td>0.136</td>\n",
       "      <td>0.052</td>\n",
       "      <td>0.562</td>\n",
       "      <td>0.003</td>\n",
       "      <td>0.002</td>\n",
       "      <td>1707.0</td>\n",
       "      <td>1950.0</td>\n",
       "      <td>1.0</td>\n",
       "    </tr>\n",
       "    <tr>\n",
       "      <th>model_variable_coefs[4]</th>\n",
       "      <td>-0.818</td>\n",
       "      <td>0.325</td>\n",
       "      <td>-1.420</td>\n",
       "      <td>-0.212</td>\n",
       "      <td>0.008</td>\n",
       "      <td>0.006</td>\n",
       "      <td>1666.0</td>\n",
       "      <td>2254.0</td>\n",
       "      <td>1.0</td>\n",
       "    </tr>\n",
       "    <tr>\n",
       "      <th>model_variable_coefs[5]</th>\n",
       "      <td>0.492</td>\n",
       "      <td>0.200</td>\n",
       "      <td>0.119</td>\n",
       "      <td>0.862</td>\n",
       "      <td>0.005</td>\n",
       "      <td>0.003</td>\n",
       "      <td>1671.0</td>\n",
       "      <td>2120.0</td>\n",
       "      <td>1.0</td>\n",
       "    </tr>\n",
       "    <tr>\n",
       "      <th>model_variable_coefs[6]</th>\n",
       "      <td>-0.033</td>\n",
       "      <td>0.039</td>\n",
       "      <td>-0.105</td>\n",
       "      <td>0.042</td>\n",
       "      <td>0.001</td>\n",
       "      <td>0.001</td>\n",
       "      <td>4920.0</td>\n",
       "      <td>3276.0</td>\n",
       "      <td>1.0</td>\n",
       "    </tr>\n",
       "    <tr>\n",
       "      <th>model_variable_coefs[7]</th>\n",
       "      <td>0.119</td>\n",
       "      <td>9.970</td>\n",
       "      <td>-18.845</td>\n",
       "      <td>18.811</td>\n",
       "      <td>0.138</td>\n",
       "      <td>0.167</td>\n",
       "      <td>5236.0</td>\n",
       "      <td>2838.0</td>\n",
       "      <td>1.0</td>\n",
       "    </tr>\n",
       "    <tr>\n",
       "      <th>model_variable_coefs[8]</th>\n",
       "      <td>-0.102</td>\n",
       "      <td>0.102</td>\n",
       "      <td>-0.279</td>\n",
       "      <td>0.101</td>\n",
       "      <td>0.001</td>\n",
       "      <td>0.001</td>\n",
       "      <td>5590.0</td>\n",
       "      <td>2810.0</td>\n",
       "      <td>1.0</td>\n",
       "    </tr>\n",
       "    <tr>\n",
       "      <th>model_variable_coefs[9]</th>\n",
       "      <td>0.023</td>\n",
       "      <td>0.102</td>\n",
       "      <td>-0.164</td>\n",
       "      <td>0.219</td>\n",
       "      <td>0.001</td>\n",
       "      <td>0.002</td>\n",
       "      <td>4862.0</td>\n",
       "      <td>2624.0</td>\n",
       "      <td>1.0</td>\n",
       "    </tr>\n",
       "  </tbody>\n",
       "</table>\n",
       "</div>"
      ],
      "text/plain": [
       "                          mean     sd  hdi_3%  hdi_97%  mcse_mean  mcse_sd  \\\n",
       "model_variable_coefs[0] -0.061  0.090  -0.225    0.108      0.002    0.002   \n",
       "model_variable_coefs[1]  0.118  0.183  -0.232    0.438      0.004    0.003   \n",
       "model_variable_coefs[2] -0.033  0.102  -0.212    0.166      0.002    0.002   \n",
       "model_variable_coefs[3]  0.292  0.136   0.052    0.562      0.003    0.002   \n",
       "model_variable_coefs[4] -0.818  0.325  -1.420   -0.212      0.008    0.006   \n",
       "model_variable_coefs[5]  0.492  0.200   0.119    0.862      0.005    0.003   \n",
       "model_variable_coefs[6] -0.033  0.039  -0.105    0.042      0.001    0.001   \n",
       "model_variable_coefs[7]  0.119  9.970 -18.845   18.811      0.138    0.167   \n",
       "model_variable_coefs[8] -0.102  0.102  -0.279    0.101      0.001    0.001   \n",
       "model_variable_coefs[9]  0.023  0.102  -0.164    0.219      0.001    0.002   \n",
       "\n",
       "                         ess_bulk  ess_tail  r_hat  \n",
       "model_variable_coefs[0]    1762.0    2355.0    1.0  \n",
       "model_variable_coefs[1]    1716.0    2099.0    1.0  \n",
       "model_variable_coefs[2]    1751.0    2121.0    1.0  \n",
       "model_variable_coefs[3]    1707.0    1950.0    1.0  \n",
       "model_variable_coefs[4]    1666.0    2254.0    1.0  \n",
       "model_variable_coefs[5]    1671.0    2120.0    1.0  \n",
       "model_variable_coefs[6]    4920.0    3276.0    1.0  \n",
       "model_variable_coefs[7]    5236.0    2838.0    1.0  \n",
       "model_variable_coefs[8]    5590.0    2810.0    1.0  \n",
       "model_variable_coefs[9]    4862.0    2624.0    1.0  "
      ]
     },
     "execution_count": 16,
     "metadata": {},
     "output_type": "execute_result"
    }
   ],
   "source": [
    "az.summary(trace, var_names=[\"model_variable_coefs\"])[0:10]"
   ]
  },
  {
   "cell_type": "code",
   "execution_count": 18,
   "id": "f453e6dd-de32-4993-a044-ac3fd6d6247f",
   "metadata": {},
   "outputs": [
    {
     "data": {
      "image/png": "[encoded data removed]",
      "text/plain": [
       "<Figure size 1200x200 with 2 Axes>"
      ]
     },
     "metadata": {},
     "output_type": "display_data"
    }
   ],
   "source": [
    "fig = az.plot_trace(trace, var_names=[\"model_variable_coefs\"]).ravel()[0].figure\n",
    "fig.show()"
   ]
  },
  {
   "cell_type": "markdown",
   "id": "b84dfb33-e711-4847-a58c-2ad1b4076a79",
   "metadata": {},
   "source": [
    "## Unscale"
   ]
  },
  {
   "cell_type": "code",
   "execution_count": 23,
   "id": "66e8a063-7c4e-41a8-9d0c-e01e6735fbe1",
   "metadata": {},
   "outputs": [],
   "source": [
    "gdp_regression_data_insample = pd.read_csv(f\"../data/regression/cross_validation/gdp_regression_data_insample_festratified_0.csv\")\n",
    "scaled_vars = {}\n",
    "unscaled_vars = {}\n",
    "for index, var in enumerate(list(model_data.columns)):\n",
    "    scaled_vars[var] = posterior.posterior.model_variable_coefs[:,:,index].data.flatten()\n",
    "for var, samples in scaled_vars.items():\n",
    "    # TODO: Note this is not exactly correct in the case of ^2 and ^3 vars\n",
    "    if var in model_data.columns[0:6]:\n",
    "        if \"_scaled\" in var:\n",
    "            var = var.replace(\"_scaled\",\"\")\n",
    "        unscaled_vars[var] = np.array(samples) * np.std(gdp_regression_data_insample.fd_ln_gdp) / np.std(gdp_regression_data_insample[var])\n",
    "    else:\n",
    "        unscaled_vars[var] = np.array(samples) * np.std(gdp_regression_data_insample.fd_ln_gdp)"
   ]
  },
  {
   "cell_type": "markdown",
   "id": "b686e0a1-b245-4b67-9e0b-976050decfce",
   "metadata": {},
   "source": [
    "## Predict"
   ]
  },
  {
   "cell_type": "code",
   "execution_count": 24,
   "id": "2198117d-e7d0-4bd6-a1a2-7687ed16af4a",
   "metadata": {},
   "outputs": [
    {
     "name": "stdout",
     "output_type": "stream",
     "text": [
      "0.019026967239976933\n",
      "0.31014150943396224\n"
     ]
    }
   ],
   "source": [
    "gdp_regression_data_outsample = pd.read_csv(\"../data/regression/cross_validation/gdp_regression_data_outsample_festratified_0.csv\")\n",
    "bayes_mse, bayes_pred_int_acc, prediction_in_range = [], [], []\n",
    "for row in gdp_regression_data_outsample.iterrows():\n",
    "    row = row[1]\n",
    "    prediction = []\n",
    "    for var in list(model_data.columns):\n",
    "        if \"_scaled\" in var:\n",
    "            var = var.replace(\"_scaled\",\"\")\n",
    "        prediction.append(unscaled_vars[var] * getattr(row, var))\n",
    "    prediction = np.sum(prediction, axis=0)\n",
    "    bayes_mse.append(np.mean(np.square(np.array(np.mean(prediction, axis=0)) - row.fd_ln_gdp)))\n",
    "\n",
    "    interval = np.quantile(prediction,[.025,.975])\n",
    "    if row.fd_ln_gdp >= interval[0] and row.fd_ln_gdp <= interval[1]:\n",
    "        prediction_in_range.append(1)\n",
    "    else:\n",
    "        prediction_in_range.append(0)\n",
    "\n",
    "print(np.mean(bayes_mse))\n",
    "print(np.mean(np.mean(prediction_in_range)))"
   ]
  },
  {
   "cell_type": "markdown",
   "id": "542437f2-07e2-45d1-8f7a-7c55cd7551ba",
   "metadata": {},
   "source": [
    "# Random-intercept Bayesian model"
   ]
  },
  {
   "cell_type": "code",
   "execution_count": 88,
   "id": "5d928e57-d8b4-43a4-ae16-e48bfe4247fd",
   "metadata": {},
   "outputs": [
    {
     "name": "stderr",
     "output_type": "stream",
     "text": [
      "Sampling: [country_re_coefs, country_re_means, country_re_sd, gdp_posterior, gdp_std, gdp_std_scale, global_country_re_mean, global_country_re_sd, global_year_re_mean, global_year_re_sd, model_variable_coefs, year_re_coefs, year_re_means, year_re_sd]\n",
      "Auto-assigning NUTS sampler...\n",
      "Initializing NUTS using jitter+adapt_diag...\n",
      "Multiprocess sampling (4 chains in 4 jobs)\n",
      "NUTS: [model_variable_coefs, global_country_re_mean, global_country_re_sd, country_re_means, country_re_sd, country_re_coefs, global_year_re_mean, global_year_re_sd, year_re_means, year_re_sd, year_re_coefs, gdp_std_scale, gdp_std]\n"
     ]
    },
    {
     "data": {
      "text/html": [
       "\n",
       "<style>\n",
       "    /* Turns off some styling */\n",
       "    progress {\n",
       "        /* gets rid of default border in Firefox and Opera. */\n",
       "        border: none;\n",
       "        /* Needs to be in here for Safari polyfill so background images work as expected. */\n",
       "        background-size: auto;\n",
       "    }\n",
       "    progress:not([value]), progress:not([value])::-webkit-progress-bar {\n",
       "        background: repeating-linear-gradient(45deg, #7e7e7e, #7e7e7e 10px, #5c5c5c 10px, #5c5c5c 20px);\n",
       "    }\n",
       "    .progress-bar-interrupted, .progress-bar-interrupted::-webkit-progress-bar {\n",
       "        background: #F44336;\n",
       "    }\n",
       "</style>\n"
      ],
      "text/plain": [
       "<IPython.core.display.HTML object>"
      ]
     },
     "metadata": {},
     "output_type": "display_data"
    },
    {
     "data": {
      "text/html": [
       "\n",
       "    <div>\n",
       "      <progress value='80' class='' max='8000' style='width:300px; height:20px; vertical-align: middle;'></progress>\n",
       "      1.00% [80/8000 00:00&lt;00:08 Sampling 4 chains, 0 divergences]\n",
       "    </div>\n",
       "    "
      ],
      "text/plain": [
       "<IPython.core.display.HTML object>"
      ]
     },
     "metadata": {},
     "output_type": "display_data"
    },
    {
     "ename": "ValueError",
     "evalue": "Not enough samples to build a trace.",
     "output_type": "error",
     "traceback": [
      "\u001b[0;31m---------------------------------------------------------------------------\u001b[0m",
      "\u001b[0;31mValueError\u001b[0m                                Traceback (most recent call last)",
      "Cell \u001b[0;32mIn[88], line 43\u001b[0m\n\u001b[1;32m     40\u001b[0m gdp_posterior \u001b[38;5;241m=\u001b[39m pm\u001b[38;5;241m.\u001b[39mNormal(\u001b[38;5;124m'\u001b[39m\u001b[38;5;124mgdp_posterior\u001b[39m\u001b[38;5;124m'\u001b[39m, mu\u001b[38;5;241m=\u001b[39mgdp_prior, sigma\u001b[38;5;241m=\u001b[39mgdp_std, observed\u001b[38;5;241m=\u001b[39mtarget_data)\n\u001b[1;32m     42\u001b[0m prior \u001b[38;5;241m=\u001b[39m pm\u001b[38;5;241m.\u001b[39msample_prior_predictive()\n\u001b[0;32m---> 43\u001b[0m trace \u001b[38;5;241m=\u001b[39m \u001b[43mpm\u001b[49m\u001b[38;5;241;43m.\u001b[39;49m\u001b[43msample\u001b[49m\u001b[43m(\u001b[49m\u001b[43mtarget_accept\u001b[49m\u001b[38;5;241;43m=\u001b[39;49m\u001b[38;5;241;43m.99\u001b[39;49m\u001b[43m,\u001b[49m\u001b[43m \u001b[49m\u001b[43mcores\u001b[49m\u001b[38;5;241;43m=\u001b[39;49m\u001b[38;5;241;43m4\u001b[39;49m\u001b[43m)\u001b[49m\n\u001b[1;32m     44\u001b[0m posterior \u001b[38;5;241m=\u001b[39m pm\u001b[38;5;241m.\u001b[39msample_posterior_predictive(trace, extend_inferencedata\u001b[38;5;241m=\u001b[39m\u001b[38;5;28;01mTrue\u001b[39;00m)\n",
      "File \u001b[0;32m~/pymc_dev.venv/lib/python3.10/site-packages/pymc/sampling/mcmc.py:827\u001b[0m, in \u001b[0;36msample\u001b[0;34m(draws, tune, chains, cores, random_seed, progressbar, step, nuts_sampler, initvals, init, jitter_max_retries, n_init, trace, discard_tuned_samples, compute_convergence_checks, keep_warning_stat, return_inferencedata, idata_kwargs, nuts_sampler_kwargs, callback, mp_ctx, model, **kwargs)\u001b[0m\n\u001b[1;32m    823\u001b[0m t_sampling \u001b[38;5;241m=\u001b[39m time\u001b[38;5;241m.\u001b[39mtime() \u001b[38;5;241m-\u001b[39m t_start\n\u001b[1;32m    825\u001b[0m \u001b[38;5;66;03m# Packaging, validating and returning the result was extracted\u001b[39;00m\n\u001b[1;32m    826\u001b[0m \u001b[38;5;66;03m# into a function to make it easier to test and refactor.\u001b[39;00m\n\u001b[0;32m--> 827\u001b[0m \u001b[38;5;28;01mreturn\u001b[39;00m \u001b[43m_sample_return\u001b[49m\u001b[43m(\u001b[49m\n\u001b[1;32m    828\u001b[0m \u001b[43m    \u001b[49m\u001b[43mrun\u001b[49m\u001b[38;5;241;43m=\u001b[39;49m\u001b[43mrun\u001b[49m\u001b[43m,\u001b[49m\n\u001b[1;32m    829\u001b[0m \u001b[43m    \u001b[49m\u001b[43mtraces\u001b[49m\u001b[38;5;241;43m=\u001b[39;49m\u001b[43mtraces\u001b[49m\u001b[43m,\u001b[49m\n\u001b[1;32m    830\u001b[0m \u001b[43m    \u001b[49m\u001b[43mtune\u001b[49m\u001b[38;5;241;43m=\u001b[39;49m\u001b[43mtune\u001b[49m\u001b[43m,\u001b[49m\n\u001b[1;32m    831\u001b[0m \u001b[43m    \u001b[49m\u001b[43mt_sampling\u001b[49m\u001b[38;5;241;43m=\u001b[39;49m\u001b[43mt_sampling\u001b[49m\u001b[43m,\u001b[49m\n\u001b[1;32m    832\u001b[0m \u001b[43m    \u001b[49m\u001b[43mdiscard_tuned_samples\u001b[49m\u001b[38;5;241;43m=\u001b[39;49m\u001b[43mdiscard_tuned_samples\u001b[49m\u001b[43m,\u001b[49m\n\u001b[1;32m    833\u001b[0m \u001b[43m    \u001b[49m\u001b[43mcompute_convergence_checks\u001b[49m\u001b[38;5;241;43m=\u001b[39;49m\u001b[43mcompute_convergence_checks\u001b[49m\u001b[43m,\u001b[49m\n\u001b[1;32m    834\u001b[0m \u001b[43m    \u001b[49m\u001b[43mreturn_inferencedata\u001b[49m\u001b[38;5;241;43m=\u001b[39;49m\u001b[43mreturn_inferencedata\u001b[49m\u001b[43m,\u001b[49m\n\u001b[1;32m    835\u001b[0m \u001b[43m    \u001b[49m\u001b[43mkeep_warning_stat\u001b[49m\u001b[38;5;241;43m=\u001b[39;49m\u001b[43mkeep_warning_stat\u001b[49m\u001b[43m,\u001b[49m\n\u001b[1;32m    836\u001b[0m \u001b[43m    \u001b[49m\u001b[43midata_kwargs\u001b[49m\u001b[38;5;241;43m=\u001b[39;49m\u001b[43midata_kwargs\u001b[49m\u001b[43m \u001b[49m\u001b[38;5;129;43;01mor\u001b[39;49;00m\u001b[43m \u001b[49m\u001b[43m{\u001b[49m\u001b[43m}\u001b[49m\u001b[43m,\u001b[49m\n\u001b[1;32m    837\u001b[0m \u001b[43m    \u001b[49m\u001b[43mmodel\u001b[49m\u001b[38;5;241;43m=\u001b[39;49m\u001b[43mmodel\u001b[49m\u001b[43m,\u001b[49m\n\u001b[1;32m    838\u001b[0m \u001b[43m\u001b[49m\u001b[43m)\u001b[49m\n",
      "File \u001b[0;32m~/pymc_dev.venv/lib/python3.10/site-packages/pymc/sampling/mcmc.py:858\u001b[0m, in \u001b[0;36m_sample_return\u001b[0;34m(run, traces, tune, t_sampling, discard_tuned_samples, compute_convergence_checks, return_inferencedata, keep_warning_stat, idata_kwargs, model)\u001b[0m\n\u001b[1;32m    856\u001b[0m \u001b[38;5;66;03m# Pick and slice chains to keep the maximum number of samples\u001b[39;00m\n\u001b[1;32m    857\u001b[0m \u001b[38;5;28;01mif\u001b[39;00m discard_tuned_samples:\n\u001b[0;32m--> 858\u001b[0m     traces, length \u001b[38;5;241m=\u001b[39m \u001b[43m_choose_chains\u001b[49m\u001b[43m(\u001b[49m\u001b[43mtraces\u001b[49m\u001b[43m,\u001b[49m\u001b[43m \u001b[49m\u001b[43mtune\u001b[49m\u001b[43m)\u001b[49m\n\u001b[1;32m    859\u001b[0m \u001b[38;5;28;01melse\u001b[39;00m:\n\u001b[1;32m    860\u001b[0m     traces, length \u001b[38;5;241m=\u001b[39m _choose_chains(traces, \u001b[38;5;241m0\u001b[39m)\n",
      "File \u001b[0;32m~/pymc_dev.venv/lib/python3.10/site-packages/pymc/backends/base.py:601\u001b[0m, in \u001b[0;36m_choose_chains\u001b[0;34m(traces, tune)\u001b[0m\n\u001b[1;32m    599\u001b[0m lengths \u001b[38;5;241m=\u001b[39m [\u001b[38;5;28mmax\u001b[39m(\u001b[38;5;241m0\u001b[39m, \u001b[38;5;28mlen\u001b[39m(trace) \u001b[38;5;241m-\u001b[39m tune) \u001b[38;5;28;01mfor\u001b[39;00m trace \u001b[38;5;129;01min\u001b[39;00m traces]\n\u001b[1;32m    600\u001b[0m \u001b[38;5;28;01mif\u001b[39;00m \u001b[38;5;129;01mnot\u001b[39;00m \u001b[38;5;28msum\u001b[39m(lengths):\n\u001b[0;32m--> 601\u001b[0m     \u001b[38;5;28;01mraise\u001b[39;00m \u001b[38;5;167;01mValueError\u001b[39;00m(\u001b[38;5;124m\"\u001b[39m\u001b[38;5;124mNot enough samples to build a trace.\u001b[39m\u001b[38;5;124m\"\u001b[39m)\n\u001b[1;32m    603\u001b[0m idxs \u001b[38;5;241m=\u001b[39m np\u001b[38;5;241m.\u001b[39margsort(lengths)\n\u001b[1;32m    604\u001b[0m l_sort \u001b[38;5;241m=\u001b[39m np\u001b[38;5;241m.\u001b[39marray(lengths)[idxs]\n",
      "\u001b[0;31mValueError\u001b[0m: Not enough samples to build a trace."
     ]
    }
   ],
   "source": [
    "first_year_fe_col = [col for col in model_data.columns if \"year_fixed_effect\" in col][0]\n",
    "\n",
    "model_data_first_fe_removed = copy.deepcopy(model_data)\n",
    "model_data_first_fe_removed[first_year_fe_col] = 0\n",
    "\n",
    "non_fe_vars = [col for col in model_data_first_fe_removed.columns if \"year_fixed_effect\" not in col and \"country_fixed_effect\" not in col]\n",
    "year_fe_vars = [col for col in model_data_first_fe_removed.columns if \"year_fixed_effect\" in col]\n",
    "\n",
    "with pm.Model() as pymc_model:\n",
    "\n",
    "    non_fe_coefs = pm.Normal(\"model_variable_coefs\", 0, 10, shape=(len(non_fe_vars)))\n",
    "    non_fe_terms = pm.Deterministic(\"model_variable_terms\", pt.sum(non_fe_coefs * model_data_first_fe_removed[non_fe_vars], axis=1))\n",
    "\n",
    "    global_year_re_mean = pm.Normal(\"global_year_re_mean\",0,10)\n",
    "    global_year_re_sd = pm.HalfNormal(\"global_year_re_sd\",5)\n",
    "    year_re_means = pm.Normal(\"year_re_means\", global_year_re_mean, global_year_re_sd, shape=len(year_fe_vars))\n",
    "    year_re_sd = pm.HalfNormal(\"year_re_sd\", 5)\n",
    "    year_re_coefs = pm.Normal(\"year_re_coefs\", year_re_means, year_re_sd, shape=len(year_fe_vars))\n",
    "    year_re_terms = pm.Deterministic(\"year_re_terms\", pt.sum(year_re_coefs * model_data_first_fe_removed[year_fe_vars], axis=1))\n",
    "\n",
    "    gdp_prior = pm.Deterministic(\n",
    "        \"gdp_prior\",\n",
    "        non_fe_terms +\n",
    "        country_re_terms +\n",
    "        year_re_terms\n",
    "    )\n",
    "    \n",
    "    gdp_std_scale = pm.HalfNormal(\"gdp_std_scale\", 5)\n",
    "    gdp_std = pm.HalfNormal(\"gdp_std\", sigma=gdp_std_scale)\n",
    "    gdp_posterior = pm.Normal('gdp_posterior', mu=gdp_prior, sigma=gdp_std, observed=target_data)\n",
    "\n",
    "    prior = pm.sample_prior_predictive()\n",
    "    trace = pm.sample(target_accept=.99, cores=4)\n",
    "    posterior = pm.sample_posterior_predictive(trace, extend_inferencedata=True)"
   ]
  },
  {
   "cell_type": "code",
   "execution_count": null,
   "id": "62a1667f-8134-4bfb-816c-e9e184aced14",
   "metadata": {},
   "outputs": [],
   "source": [
    "# with open ('../output/models/bayes_models/random_intercept_model.pkl', 'wb') as buff:\n",
    "#     pkl.dump({\n",
    "#         \"prior\":prior,\n",
    "#         \"trace\":trace,\n",
    "#         \"posterior\":posterior,\n",
    "#         \"var_list\":(model_data.columns),\n",
    "#         \"model_spec\":model_spec\n",
    "#     },buff)"
   ]
  },
  {
   "cell_type": "code",
   "execution_count": 19,
   "id": "def503f5-f516-414c-9ca1-7c5d7f17b3ed",
   "metadata": {},
   "outputs": [],
   "source": [
    "random_intercept_model = pd.read_pickle('../output/models/bayes_models/random_intercept_model.pkl')\n",
    "posterior = random_intercept_model[\"posterior\"]\n",
    "var_list = random_intercept_model[\"var_list\"]\n",
    "model_spec = random_intercept_model[\"model_spec\"]"
   ]
  },
  {
   "cell_type": "markdown",
   "id": "f35710f8-022b-405f-8e8f-092937e8c012",
   "metadata": {},
   "source": [
    "## Unscale"
   ]
  },
  {
   "cell_type": "code",
   "execution_count": 20,
   "id": "351c8c54-70f7-4580-867b-8115ff549df1",
   "metadata": {},
   "outputs": [],
   "source": [
    "gdp_regression_data_insample = pd.read_csv(f\"../data/regression/cross_validation/gdp_regression_data_insample_festratified_0.csv\")\n",
    "scaled_vars = {}\n",
    "unscaled_vars = {}\n",
    "for index, var in enumerate(var_list[0:7]):\n",
    "    scaled_vars[var] = posterior.posterior.model_variable_coefs[:,:,index].data.flatten()\n",
    "for index, var in enumerate(var_list[7:]):\n",
    "    scaled_vars[var] = posterior.posterior.year_re_coefs[:,:,index].data.flatten()\n",
    "for var, samples in scaled_vars.items():\n",
    "    # TODO: Note this is not exactly correct in the case of ^2 and ^3 vars\n",
    "    if var in var_list[0:6]:\n",
    "        if \"_scaled\" in var:\n",
    "            var = var.replace(\"_scaled\",\"\")\n",
    "        unscaled_vars[var] = np.array(samples) * np.std(gdp_regression_data_insample.fd_ln_gdp) / np.std(gdp_regression_data_insample[var])\n",
    "    else:\n",
    "        unscaled_vars[var] = np.array(samples) * np.std(gdp_regression_data_insample.fd_ln_gdp)"
   ]
  },
  {
   "cell_type": "markdown",
   "id": "b56a4e4d-78a9-44a0-9a71-028cea9b76fa",
   "metadata": {},
   "source": [
    "## Predict"
   ]
  },
  {
   "cell_type": "code",
   "execution_count": 21,
   "id": "5de21eaf-72de-4ff5-bb35-06b30985a7de",
   "metadata": {},
   "outputs": [
    {
     "name": "stdout",
     "output_type": "stream",
     "text": [
      "0.019025102210332174\n",
      "0.30306603773584906\n"
     ]
    }
   ],
   "source": [
    "gdp_regression_data_outsample = pd.read_csv(\"../data/regression/cross_validation/gdp_regression_data_outsample_festratified_0.csv\")\n",
    "bayes_mse, bayes_pred_int_acc, prediction_in_range = [], [], []\n",
    "for row in gdp_regression_data_outsample.iterrows():\n",
    "    row = row[1]\n",
    "    prediction = []\n",
    "    for var in list(model_data.columns):\n",
    "        if \"_scaled\" in var:\n",
    "            var = var.replace(\"_scaled\",\"\")\n",
    "        prediction.append(unscaled_vars[var] * getattr(row, var))\n",
    "    prediction = np.sum(prediction, axis=0)\n",
    "    bayes_mse.append(np.mean(np.square(np.array(np.mean(prediction, axis=0)) - row.fd_ln_gdp)))\n",
    "\n",
    "    interval = np.quantile(prediction,[.025,.975])\n",
    "    if row.fd_ln_gdp >= interval[0] and row.fd_ln_gdp <= interval[1]:\n",
    "        prediction_in_range.append(1)\n",
    "    else:\n",
    "        prediction_in_range.append(0)\n",
    "\n",
    "print(np.mean(bayes_mse))\n",
    "print(np.mean(np.mean(prediction_in_range)))"
   ]
  },
  {
   "cell_type": "markdown",
   "id": "ee25d8ed-011b-4837-9d8e-a3c0f4288cd5",
   "metadata": {},
   "source": [
    "# Random year intercept and Random country slope Bayesian model\n",
    "## Random slopes for Drought only"
   ]
  },
  {
   "cell_type": "code",
   "execution_count": null,
   "id": "b745c3ef-dee8-4ca4-99db-32d5abe0acce",
   "metadata": {},
   "outputs": [
    {
     "name": "stderr",
     "output_type": "stream",
     "text": [
      "Sampling: [country_rs_coefs, country_rs_means, country_rs_sd, gdp_posterior, gdp_std, gdp_std_scale, global_country_rs_mean, global_country_rs_sd, model_variable_coefs]\n",
      "Auto-assigning NUTS sampler...\n",
      "Initializing NUTS using jitter+adapt_diag...\n",
      "Multiprocess sampling (4 chains in 4 jobs)\n",
      "NUTS: [global_country_rs_mean, global_country_rs_sd, country_rs_means, country_rs_sd, country_rs_coefs, model_variable_coefs, gdp_std_scale, gdp_std]\n"
     ]
    },
    {
     "data": {
      "text/html": [
       "\n",
       "<style>\n",
       "    /* Turns off some styling */\n",
       "    progress {\n",
       "        /* gets rid of default border in Firefox and Opera. */\n",
       "        border: none;\n",
       "        /* Needs to be in here for Safari polyfill so background images work as expected. */\n",
       "        background-size: auto;\n",
       "    }\n",
       "    progress:not([value]), progress:not([value])::-webkit-progress-bar {\n",
       "        background: repeating-linear-gradient(45deg, #7e7e7e, #7e7e7e 10px, #5c5c5c 10px, #5c5c5c 20px);\n",
       "    }\n",
       "    .progress-bar-interrupted, .progress-bar-interrupted::-webkit-progress-bar {\n",
       "        background: #F44336;\n",
       "    }\n",
       "</style>\n"
      ],
      "text/plain": [
       "<IPython.core.display.HTML object>"
      ]
     },
     "metadata": {},
     "output_type": "display_data"
    },
    {
     "data": {
      "text/html": [
       "\n",
       "    <div>\n",
       "      <progress value='7294' class='' max='8000' style='width:300px; height:20px; vertical-align: middle;'></progress>\n",
       "      91.17% [7294/8000 5:30:10&lt;31:57 Sampling 4 chains, 11 divergences]\n",
       "    </div>\n",
       "    "
      ],
      "text/plain": [
       "<IPython.core.display.HTML object>"
      ]
     },
     "metadata": {},
     "output_type": "display_data"
    }
   ],
   "source": [
    "first_year_fe_col = [col for col in model_data.columns if \"year_fixed_effect\" in col][0]\n",
    "\n",
    "model_data_first_fe_removed = copy.deepcopy(model_data)\n",
    "model_data_first_fe_removed[first_year_fe_col] = 0\n",
    "\n",
    "vars_to_bundle = [col for col in model_data_first_fe_removed.columns if \"country_fixed_effect\" not in col and \"incremental_effect\" not in col and col != \"drought\"]\n",
    "year_fe_vars = [col for col in model_data_first_fe_removed.columns if \"year_fixed_effect\" in col]\n",
    "country_fe_vars = [col for col in model_data_first_fe_removed.columns if \"country_fixed_effect\" in col]\n",
    "\n",
    "with pm.Model() as pymc_model:\n",
    "    \n",
    "    global_country_rs_mean = pm.Normal(\"global_country_rs_mean\",0,10)\n",
    "    global_country_rs_sd = pm.HalfNormal(\"global_country_rs_sd\",5)\n",
    "    country_rs_means = pm.Normal(\"country_rs_means\", global_country_rs_mean, global_country_rs_sd, shape=(1,len(country_fe_vars)))\n",
    "    country_rs_sd = pm.HalfNormal(\"country_rs_sd\", 5)\n",
    "    country_rs_coefs = pm.Normal(\"country_rs_coefs\", country_rs_means, country_rs_sd)\n",
    "    country_rs_matrix = pm.Deterministic(\"country_rs_matrix\", pt.sum(country_rs_coefs * model_data[country_fe_vars],axis=1))\n",
    "\n",
    "    drought_terms = pm.Deterministic(\"drought_terms\", country_rs_matrix * model_data_first_fe_removed[\"drought\"])\n",
    "\n",
    "    covar_coefficients = pm.Normal(\"model_variable_coefs\", 0, 10, shape=len(vars_to_bundle))\n",
    "    covar_terms = pm.Deterministic(\"model_variable_terms\", pt.sum(covar_coefficients * model_data_first_fe_removed[vars_to_bundle], axis=1))\n",
    "    \n",
    "    gdp_prior = pm.Deterministic(\n",
    "        \"gdp_prior\",\n",
    "        covar_terms +\n",
    "          drought_terms\n",
    "    )\n",
    "    \n",
    "    gdp_std_scale = pm.HalfNormal(\"gdp_std_scale\", 5)\n",
    "    gdp_std = pm.HalfNormal(\"gdp_std\", sigma=gdp_std_scale)\n",
    "    gdp_posterior = pm.Normal('gdp_posterior', mu=gdp_prior, sigma=gdp_std, observed=target_data)\n",
    "\n",
    "    prior = pm.sample_prior_predictive()\n",
    "    trace = pm.sample(target_accept=.99, cores=4)\n",
    "    posterior = pm.sample_posterior_predictive(trace, extend_inferencedata=True)"
   ]
  },
  {
   "cell_type": "code",
   "execution_count": null,
   "id": "5d3554f3-8ef2-403a-a0a2-068b30b8d13d",
   "metadata": {},
   "outputs": [],
   "source": [
    "with open ('../output/models/bayes_models/random_year_intercept_random_country_drought_slope_model.pkl', 'wb') as buff:\n",
    "    pkl.dump({\n",
    "        \"prior\":prior,\n",
    "        \"trace\":trace,\n",
    "        \"posterior\":posterior,\n",
    "        \"var_list\":(model_data.columns),\n",
    "        \"model_spec\":model_spec\n",
    "    },buff)"
   ]
  },
  {
   "cell_type": "markdown",
   "id": "036e4817-f62b-492a-b5bf-37521474fcfc",
   "metadata": {},
   "source": [
    "## Unscale"
   ]
  },
  {
   "cell_type": "code",
   "execution_count": 15,
   "id": "a0a812bc-0af5-4c25-b0e0-1e5c9762ed02",
   "metadata": {},
   "outputs": [],
   "source": [
    "gdp_regression_data_insample = pd.read_csv(f\"../data/regression/cross_validation/gdp_regression_data_insample_festratified_0.csv\")\n",
    "gdp_regression_data_outsample = pd.read_csv(f\"../data/regression/cross_validation/gdp_regression_data_outsample_festratified_0.csv\")\n",
    "scaled_vars = {}\n",
    "unscaled_vars = {}\n",
    "for index, var in enumerate(list(model_data.columns[0:7])):\n",
    "    scaled_vars[var] = posterior.posterior.covar_coefficients[:,:,index].data.flatten()\n",
    "for var, samples in scaled_vars.items():\n",
    "    # TODO: Note this is not exactly correct in the case of ^2 and ^3 vars\n",
    "    if var in model_data.columns[0:6]:\n",
    "        if \"_scaled\" in var:\n",
    "            var = var.replace(\"_scaled\",\"\")\n",
    "        unscaled_vars[var] = np.array(samples) * np.std(gdp_regression_data_insample.fd_ln_gdp) / np.std(gdp_regression_data_insample[var])\n",
    "    else:\n",
    "        unscaled_vars[var] = np.array(samples) * np.std(gdp_regression_data_insample.fd_ln_gdp)"
   ]
  },
  {
   "cell_type": "markdown",
   "id": "e24fb512-b696-44be-9272-6e381ad2e592",
   "metadata": {},
   "source": [
    "## Predict"
   ]
  },
  {
   "cell_type": "code",
   "execution_count": 17,
   "id": "8eb462b4-4d7a-409c-ab38-f2d2654bbe29",
   "metadata": {},
   "outputs": [
    {
     "name": "stdout",
     "output_type": "stream",
     "text": [
      "0.3438734052598581\n",
      "0.9941037735849056\n"
     ]
    }
   ],
   "source": [
    "gdp_regression_data_outsample = pd.read_csv(\"../data/regression/cross_validation/gdp_regression_data_outsample_festratified_0.csv\")\n",
    "bayes_mse, bayes_pred_int_acc, prediction_in_range = [], [], []\n",
    "for row in gdp_regression_data_outsample.iterrows():\n",
    "    row = row[1]\n",
    "    prediction = []\n",
    "    for var in list(model_data.columns[0:7]):\n",
    "        if \"_scaled\" in var:\n",
    "            var = var.replace(\"_scaled\",\"\")\n",
    "        prediction.append(unscaled_vars[var] * getattr(row, var))\n",
    "    prediction = np.sum(prediction, axis=0)\n",
    "    bayes_mse.append(np.mean(np.square(np.array(np.mean(prediction, axis=0)) - row.fd_ln_gdp)))\n",
    "\n",
    "    interval = np.quantile(prediction,[.025,.975])\n",
    "    if row.fd_ln_gdp >= interval[0] and row.fd_ln_gdp <= interval[1]:\n",
    "        prediction_in_range.append(1)\n",
    "    else:\n",
    "        prediction_in_range.append(0)\n",
    "\n",
    "print(np.mean(bayes_mse))\n",
    "print(np.mean(np.mean(prediction_in_range)))"
   ]
  }
 ],
 "metadata": {
  "kernelspec": {
   "display_name": "Python 3 (ipykernel)",
   "language": "python",
   "name": "python3"
  },
  "language_info": {
   "codemirror_mode": {
    "name": "ipython",
    "version": 3
   },
   "file_extension": ".py",
   "mimetype": "text/x-python",
   "name": "python",
   "nbconvert_exporter": "python",
   "pygments_lexer": "ipython3",
   "version": "3.10.12"
  }
 },
 "nbformat": 4,
 "nbformat_minor": 5
}
