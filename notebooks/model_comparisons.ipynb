{
 "cells": [
  {
   "cell_type": "code",
   "execution_count": 1,
   "id": "2f3db7ec-4133-40e2-9803-cc2f1160997c",
   "metadata": {},
   "outputs": [
    {
     "data": {
      "text/html": [
       "\n",
       "            <div id=\"YyKsT7\"></div>\n",
       "            <script type=\"text/javascript\" data-lets-plot-script=\"library\">\n",
       "                if(!window.letsPlotCallQueue) {\n",
       "                    window.letsPlotCallQueue = [];\n",
       "                }; \n",
       "                window.letsPlotCall = function(f) {\n",
       "                    window.letsPlotCallQueue.push(f);\n",
       "                };\n",
       "                (function() {\n",
       "                    var script = document.createElement(\"script\");\n",
       "                    script.type = \"text/javascript\";\n",
       "                    script.src = \"https://cdn.jsdelivr.net/gh/JetBrains/lets-plot@v4.3.3/js-package/distr/lets-plot.min.js\";\n",
       "                    script.onload = function() {\n",
       "                        window.letsPlotCall = function(f) {f();};\n",
       "                        window.letsPlotCallQueue.forEach(function(f) {f();});\n",
       "                        window.letsPlotCallQueue = [];\n",
       "                        \n",
       "                    };\n",
       "                    script.onerror = function(event) {\n",
       "                        window.letsPlotCall = function(f) {};    // noop\n",
       "                        window.letsPlotCallQueue = [];\n",
       "                        var div = document.createElement(\"div\");\n",
       "                        div.style.color = 'darkred';\n",
       "                        div.textContent = 'Error loading Lets-Plot JS';\n",
       "                        document.getElementById(\"YyKsT7\").appendChild(div);\n",
       "                    };\n",
       "                    var e = document.getElementById(\"YyKsT7\");\n",
       "                    e.appendChild(script);\n",
       "                })()\n",
       "            </script>\n",
       "            "
      ]
     },
     "metadata": {},
     "output_type": "display_data"
    },
    {
     "data": {
      "text/html": [
       "\n",
       "            <div id=\"PtoiHk\"></div>\n",
       "            <script type=\"text/javascript\" data-lets-plot-script=\"library\">\n",
       "                if(!window.letsPlotCallQueue) {\n",
       "                    window.letsPlotCallQueue = [];\n",
       "                }; \n",
       "                window.letsPlotCall = function(f) {\n",
       "                    window.letsPlotCallQueue.push(f);\n",
       "                };\n",
       "                (function() {\n",
       "                    var script = document.createElement(\"script\");\n",
       "                    script.type = \"text/javascript\";\n",
       "                    script.src = \"https://cdn.jsdelivr.net/gh/JetBrains/lets-plot@v4.3.3/js-package/distr/lets-plot.min.js\";\n",
       "                    script.onload = function() {\n",
       "                        window.letsPlotCall = function(f) {f();};\n",
       "                        window.letsPlotCallQueue.forEach(function(f) {f();});\n",
       "                        window.letsPlotCallQueue = [];\n",
       "                        \n",
       "                    };\n",
       "                    script.onerror = function(event) {\n",
       "                        window.letsPlotCall = function(f) {};    // noop\n",
       "                        window.letsPlotCallQueue = [];\n",
       "                        var div = document.createElement(\"div\");\n",
       "                        div.style.color = 'darkred';\n",
       "                        div.textContent = 'Error loading Lets-Plot JS';\n",
       "                        document.getElementById(\"PtoiHk\").appendChild(div);\n",
       "                    };\n",
       "                    var e = document.getElementById(\"PtoiHk\");\n",
       "                    e.appendChild(script);\n",
       "                })()\n",
       "            </script>\n",
       "            "
      ]
     },
     "metadata": {},
     "output_type": "display_data"
    }
   ],
   "source": [
    "import csv\n",
    "import os\n",
    "import pandas as pd\n",
    "import numpy as np\n",
    "from sklearn.preprocessing import StandardScaler, MinMaxScaler, OrdinalEncoder\n",
    "import pickle as pkl\n",
    "import matplotlib.pyplot as plt\n",
    "import random\n",
    "import pyfixest as pf\n",
    "import statsmodels.api as sm\n",
    "import itertools as it\n",
    "import warnings\n",
    "\n",
    "warnings.simplefilter(action='ignore', category=pd.errors.PerformanceWarning)\n",
    "warnings.filterwarnings('ignore')"
   ]
  },
  {
   "cell_type": "code",
   "execution_count": 117,
   "id": "68b7b9ce-146b-48c3-9d60-367c4c4332e1",
   "metadata": {},
   "outputs": [],
   "source": [
    "class RegressionResult:\n",
    "\n",
    "    def __init__(self):\n",
    "        self.model_vars = []\n",
    "        self.out_sample_mse = np.NaN\n",
    "        self.in_sample_mse = np.NaN\n",
    "        self.out_sample_pred_int_acc = np.NaN\n",
    "        self.in_sample_pred_int_acc = np.NaN\n",
    "\n",
    "    def print_result(self):\n",
    "        print(\",\".join(self.model_vars))\n",
    "        print(\"out_sample_mse:\", self.out_sample_mse)\n",
    "        print(\"in_sample_mse:\", self.in_sample_mse)\n",
    "        print(\"out_sample_pred_int_acc:\", self.out_sample_pred_int_acc)\n",
    "        print(\"in_sample_pred_int_acc:\", self.in_sample_pred_int_acc)\n",
    "\n",
    "    def is_empty(self):\n",
    "        if self.model_vars == []:\n",
    "            return True\n",
    "        else:\n",
    "            return False"
   ]
  },
  {
   "cell_type": "code",
   "execution_count": 3,
   "id": "d7711157-ac2d-4f6c-a8d6-81dcca919ba1",
   "metadata": {},
   "outputs": [],
   "source": [
    "def calculate_prediction_interval_accuracy(x, y, predictions, cov_mat):\n",
    "    results = []\n",
    "    for index, row in enumerate(x.itertuples()):\n",
    "        x_data = list(row[1:])\n",
    "        y_real = y.iloc[index]\n",
    "        se_pred = np.sqrt(np.linalg.multi_dot([x_data, cov_mat, np.transpose(x_data)]))\n",
    "        prediction_interval = (predictions[index]-se_pred*1.9603795, predictions[index]+se_pred*1.9603795)\n",
    "        if y_real >= prediction_interval[0] and y_real <= prediction_interval[1]:\n",
    "            results.append(1)\n",
    "        else:\n",
    "            results.append(0)\n",
    "    return np.mean(results)"
   ]
  },
  {
   "cell_type": "code",
   "execution_count": 121,
   "id": "e3c32e1d-dc5e-48d0-82d1-6fa133b6defb",
   "metadata": {},
   "outputs": [],
   "source": [
    "def choose_best_model(model1, model2):\n",
    "    if (model1.out_sample_mse > model2.out_sample_mse) and (abs(.95-model1.out_sample_pred_int_acc) > abs(.95-model2.out_sample_pred_int_acc)):\n",
    "        return model2\n",
    "    else:\n",
    "        return model1"
   ]
  },
  {
   "cell_type": "code",
   "execution_count": 118,
   "id": "5e42bb03-97e4-4e56-b94e-59005ad380ec",
   "metadata": {},
   "outputs": [],
   "source": [
    "def run_fe_regression_with_cv(num_folds, target_var, model_vars, incremental_effects=0):\n",
    "    print(model_vars)\n",
    "    in_sample_mse, out_sample_mse, in_sample_pred_int_acc, out_sample_pred_int_acc = [], [], [], []\n",
    "    \n",
    "    for fold in range(num_folds):\n",
    "        train_data = pd.read_csv(f\"../data/regression/cross_validation/gdp_regression_data_insample_{str(fold)}.csv\")\n",
    "        test_data = pd.read_csv(f\"../data/regression/cross_validation/gdp_regression_data_outsample_{str(fold)}.csv\")\n",
    "\n",
    "        if incremental_effects != None:\n",
    "            for i in range(incremental_effects):\n",
    "                for incremental_col in [col for col in train_data.columns if col.endswith(f\"incremental_effect_{str(i+1)}\")]:\n",
    "                    model_vars.append(incremental_col)\n",
    "\n",
    "        train_data_covariates = train_data[model_vars]\n",
    "        test_data_covariates = test_data[model_vars]\n",
    "        covariate_string = \" + \".join(model_vars)\n",
    "        \n",
    "        regression = pf.feols(\n",
    "            f\"{target_var} ~ {covariate_string} | country\", \n",
    "            data=train_data\n",
    "        )\n",
    "\n",
    "        cov_mat = regression._vcov\n",
    "        # remove variables from sample data that were removed from regression due to multicollinearityd\n",
    "        vars_in_model = regression._coefnames\n",
    "        for column in list(train_data_covariates.columns):\n",
    "            if column not in vars_in_model:\n",
    "                train_data_covariates.drop(column, axis=1, inplace=True)\n",
    "                test_data_covariates.drop(column, axis=1, inplace=True)\n",
    "        \n",
    "        in_sample_predictions = regression.predict(train_data)\n",
    "        in_sample_mse.append(np.mean(np.square(in_sample_predictions-train_data[target_var])))\n",
    "        in_sample_pred_int_acc.append(calculate_prediction_interval_accuracy(train_data_covariates, train_data[target_var], in_sample_predictions, cov_mat))\n",
    "\n",
    "        out_sample_predictions = regression.predict(test_data)\n",
    "        out_sample_mse.append(np.mean(np.square(out_sample_predictions-test_data[target_var])))\n",
    "        out_sample_pred_int_acc.append(calculate_prediction_interval_accuracy(test_data_covariates, test_data[target_var], out_sample_predictions, cov_mat))\n",
    "    \n",
    "    model_vars = [var for var in model_vars if \"incremental_effect\" not in var]\n",
    "    if incremental_effects != 0:\n",
    "        model_vars.append(f\"incremental_effects_{str(incremental_effects)}\")\n",
    "    reg_result = RegressionResult()\n",
    "    reg_result.model_vars = model_vars\n",
    "    reg_result.in_sample_mse = np.mean(in_sample_mse)\n",
    "    reg_result.out_sample_mse = np.mean(out_sample_mse)\n",
    "    reg_result.in_sample_pred_int_acc = np.mean(in_sample_pred_int_acc)\n",
    "    reg_result.out_sample_pred_int_acc = np.mean(out_sample_pred_int_acc)\n",
    "    return reg_result"
   ]
  },
  {
   "cell_type": "code",
   "execution_count": 119,
   "id": "1c8f474b-6354-4f50-9f22-5ff385305c0a",
   "metadata": {},
   "outputs": [],
   "source": [
    "model_variations = {\n",
    "    \"temp_vars\":[\"temp_unweighted\",\"temp_unweighted_2\",\"temp_unweighted_3\"],\n",
    "    \"precip_vars\":[\"precip_unweighted\",\"precip_unweighted_2\",\"precip_unweighted_3\"],\n",
    "    \"humidity_vars\":[\"humidity_unweighted\",\"humidity_unweighted_2\",\"humidity_unweighted_3\"]\n",
    "}"
   ]
  },
  {
   "cell_type": "code",
   "execution_count": 120,
   "id": "f81339db-4c19-4caf-a807-0e36a232f823",
   "metadata": {
    "scrolled": true
   },
   "outputs": [
    {
     "name": "stdout",
     "output_type": "stream",
     "text": [
      "['temp_unweighted']\n",
      "['temp_unweighted', 'temp_unweighted_2']\n",
      "['temp_unweighted', 'temp_unweighted_2', 'temp_unweighted_3']\n",
      "['precip_unweighted']\n",
      "['precip_unweighted', 'precip_unweighted_2']\n",
      "['precip_unweighted', 'precip_unweighted_2', 'precip_unweighted_3']\n",
      "['humidity_unweighted']\n",
      "['humidity_unweighted', 'humidity_unweighted_2']\n",
      "['humidity_unweighted', 'humidity_unweighted_2', 'humidity_unweighted_3']\n",
      "temp_unweighted,temp_unweighted_2,temp_unweighted_3\n",
      "out_sample_mse: 0.027243456137445714\n",
      "in_sample_mse: 0.027152303127506487\n",
      "out_sample_pred_int_acc: 0.6850059031877213\n",
      "in_sample_pred_int_acc: 0.8278783110411749\n"
     ]
    }
   ],
   "source": [
    "num_folds = 10\n",
    "base_model = RegressionResult()\n",
    "for group, vars in model_variations.items():\n",
    "    model_vars = []\n",
    "    for var in vars:\n",
    "        model_vars.append(var)\n",
    "        new_model = run_fe_regression_with_cv(num_folds, \"fd_ln_gdp\", model_vars)\n",
    "        if base_model.is_empty():\n",
    "            base_model = new_model\n",
    "        else:\n",
    "            base_model = choose_best_model(base_model, new_model)\n",
    "base_model.print_result()"
   ]
  },
  {
   "cell_type": "code",
   "execution_count": 132,
   "id": "eaddcec2-e0ec-4494-8b93-a94301a6d1da",
   "metadata": {},
   "outputs": [
    {
     "name": "stdout",
     "output_type": "stream",
     "text": [
      "['temp_unweighted', 'temp_unweighted_2', 'temp_unweighted_3', 'precip_unweighted']\n",
      "['temp_unweighted', 'temp_unweighted_2', 'temp_unweighted_3', 'precip_unweighted_2']\n",
      "['temp_unweighted', 'temp_unweighted_2', 'temp_unweighted_3', 'precip_unweighted_3']\n",
      "['temp_unweighted', 'temp_unweighted_2', 'temp_unweighted_3', 'humidity_unweighted']\n",
      "['temp_unweighted', 'temp_unweighted_2', 'temp_unweighted_3', 'humidity_unweighted_2']\n",
      "['temp_unweighted', 'temp_unweighted_2', 'temp_unweighted_3', 'humidity_unweighted_3']\n",
      "['humidity_unweighted', 'humidity_unweighted_2', 'humidity_unweighted_3']\n"
     ]
    }
   ],
   "source": [
    "model_vars_to_add = []\n",
    "for group, vars in model_variations.items():\n",
    "    for var in vars:\n",
    "        if var not in base_model.model_vars:\n",
    "            new_model_vars = []\n",
    "            for model_var in base_model.model_vars:\n",
    "                new_model_vars.append(model_var)\n",
    "            new_model_vars.append(var)\n",
    "            new_model = run_fe_regression_with_cv(num_folds, \"fd_ln_gdp\", new_model_vars)\n",
    "            if choose_best_model(base_model, new_model) == new_model:\n",
    "                model_vars_to_add.append(var)\n",
    "print(model_vars_to_add)"
   ]
  },
  {
   "cell_type": "code",
   "execution_count": 135,
   "id": "82490178-4b88-48ce-a92a-8fa2ae384e43",
   "metadata": {},
   "outputs": [
    {
     "name": "stdout",
     "output_type": "stream",
     "text": [
      "['temp_unweighted', 'temp_unweighted_2', 'temp_unweighted_3', 'humidity_unweighted', 'humidity_unweighted_2', 'humidity_unweighted_3']\n",
      "New model better? False\n"
     ]
    }
   ],
   "source": [
    "second_round_model_vars = []\n",
    "for var in base_model.model_vars:\n",
    "    second_round_model_vars.append(var)\n",
    "for var in model_vars_to_add:\n",
    "    second_round_model_vars.append(var)\n",
    "new_model = run_fe_regression_with_cv(num_folds, \"fd_ln_gdp\", second_round_model_vars)\n",
    "print(\"New model better?\", compare_model_result(base_model, new_model) == new_model)"
   ]
  },
  {
   "cell_type": "code",
   "execution_count": 136,
   "id": "37377985-79a4-41ca-a5bb-ba4583a1f007",
   "metadata": {},
   "outputs": [
    {
     "name": "stdout",
     "output_type": "stream",
     "text": [
      "temp_unweighted,temp_unweighted_2,temp_unweighted_3\n",
      "out_sample_mse: 0.027243456137445714\n",
      "in_sample_mse: 0.027152303127506487\n",
      "out_sample_pred_int_acc: 0.6850059031877213\n",
      "in_sample_pred_int_acc: 0.8278783110411749\n"
     ]
    }
   ],
   "source": [
    "base_model.print_result()"
   ]
  },
  {
   "cell_type": "code",
   "execution_count": 137,
   "id": "25c61945-198f-4f2e-b09a-d9b23e3e9c65",
   "metadata": {},
   "outputs": [
    {
     "name": "stdout",
     "output_type": "stream",
     "text": [
      "temp_unweighted,temp_unweighted_2,temp_unweighted_3,humidity_unweighted,humidity_unweighted_2,humidity_unweighted_3\n",
      "out_sample_mse: 0.027276446160989187\n",
      "in_sample_mse: 0.027135880381679533\n",
      "out_sample_pred_int_acc: 0.9948051948051949\n",
      "in_sample_pred_int_acc: 0.9847102019407291\n"
     ]
    }
   ],
   "source": [
    "new_model.print_result()"
   ]
  }
 ],
 "metadata": {
  "kernelspec": {
   "display_name": "Python 3 (ipykernel)",
   "language": "python",
   "name": "python3"
  },
  "language_info": {
   "codemirror_mode": {
    "name": "ipython",
    "version": 3
   },
   "file_extension": ".py",
   "mimetype": "text/x-python",
   "name": "python",
   "nbconvert_exporter": "python",
   "pygments_lexer": "ipython3",
   "version": "3.10.12"
  }
 },
 "nbformat": 4,
 "nbformat_minor": 5
}
