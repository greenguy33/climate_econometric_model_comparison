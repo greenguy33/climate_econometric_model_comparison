{
 "cells": [
  {
   "cell_type": "code",
   "execution_count": 154,
   "id": "5e2819f3-4d33-4f1f-80c3-25bba5845a8a",
   "metadata": {},
   "outputs": [],
   "source": [
    "import csv\n",
    "import os\n",
    "import pandas as pd\n",
    "import numpy as np\n",
    "from sklearn.preprocessing import StandardScaler, MinMaxScaler, OrdinalEncoder\n",
    "import pickle as pkl\n",
    "import matplotlib.pyplot as plt\n",
    "import random\n",
    "import pyfixest as pf\n",
    "import statsmodels.api as sm\n",
    "import itertools as it\n",
    "import warnings\n",
    "\n",
    "warnings.simplefilter(action='ignore', category=pd.errors.PerformanceWarning)\n",
    "warnings.filterwarnings('ignore')"
   ]
  },
  {
   "cell_type": "code",
   "execution_count": 184,
   "id": "acff22a5-3b49-462b-8cc4-c81f1e03b763",
   "metadata": {},
   "outputs": [],
   "source": [
    "regression_data_full = pd.read_csv(\"../data/regression/gdp_regression_data.csv\").dropna().reset_index()\n",
    "regression_data_insample = pd.read_csv(\"../data/regression/gdp_regression_data_insample.csv\")\n",
    "regression_data_outsample = pd.read_csv(\"../data/regression/gdp_regression_data_outsample.csv\")"
   ]
  },
  {
   "cell_type": "code",
   "execution_count": 145,
   "id": "dcd35a99-e462-4e60-a4d5-28a122efb3fc",
   "metadata": {},
   "outputs": [],
   "source": [
    "model_groups = [\n",
    "    {\n",
    "        \"temp_vars\":[\"temp_unweighted\",\"temp_unweighted_2\",\"temp_unweighted_3\"],\n",
    "        \"precip_vars\":[\"precip_unweighted\",\"precip_unweighted_2\",\"precip_unweighted_3\"],\n",
    "        \"humidity_vars\":[\"humidity_unweighted\",\"humidity_unweighted_2\",\"humidity_unweighted_3\"]\n",
    "    },\n",
    "    # {\n",
    "    #     \"temp_vars\":[\"temp_daily_std_unweighted\",\"temp_daily_std_unweighted_2\",\"temp_daily_std_unweighted_3\"],\n",
    "    #     \"precip_vars\":[\"precip_daily_std_unweighted\",\"precip_daily_std_unweighted_2\",\"precip_daily_std_unweighted_3\"],\n",
    "    #     \"humidity_vars\":[\"humidity_daily_std_unweighted\",\"humidity_daily_std_unweighted_2\",\"humidity_daily_std_unweighted_3\"]\n",
    "    # },\n",
    "    # {\n",
    "    #     \"temp_vars\":[\"temp_annual_std_unweighted\",\"temp_annual_std_unweighted_2\",\"temp_annual_std_unweighted_3\"],\n",
    "    #     \"precip_vars\":[\"precip_annual_std_unweighted\",\"precip_annual_std_unweighted_2\",\"precip_annual_std_unweighted_3\"],\n",
    "    #     \"humidity_vars\":[\"humidity_annual_std_unweighted\",\"humidity_annual_std_unweighted_2\",\"humidity_annual_std_unweighted_3\"]\n",
    "    # },\n",
    "    {\n",
    "        \"temp_vars\":[\"fd_temp_unweighted\",\"fd_temp_unweighted_2\",\"fd_temp_unweighted_3\"],\n",
    "        \"precip_vars\":[\"fd_precip_unweighted\",\"fd_precip_unweighted_2\",\"fd_precip_unweighted_3\"],\n",
    "        \"humidity_vars\":[\"fd_humidity_unweighted\",\"fd_humidity_unweighted_2\",\"fd_humidity_unweighted_3\"]\n",
    "    },\n",
    "    # {\n",
    "    #     \"temp_vars\":[\"fd_temp_daily_std_unweighted\",\"fd_temp_daily_std_unweighted_2\",\"fd_temp_daily_std_unweighted_3\"],\n",
    "    #     \"precip_vars\":[\"fd_precip_daily_std_unweighted\",\"fd_precip_daily_std_unweighted_2\",\"fd_precip_daily_std_unweighted_3\"],\n",
    "    #     \"humidity_vars\":[\"fd_humidity_daily_std_unweighted\",\"fd_humidity_daily_std_unweighted_2\",\"fd_humidity_daily_std_unweighted_3\"]\n",
    "    # },\n",
    "    # {\n",
    "    #     \"temp_vars\":[\"fd_temp_annual_std_unweighted\",\"fd_temp_annual_std_unweighted_2\",\"fd_temp_annual_std_unweighted_3\"],\n",
    "    #     \"precip_vars\":[\"fd_precip_annual_std_unweighted\",\"fd_precip_annual_std_unweighted_2\",\"fd_precip_annual_std_unweighted_3\"],\n",
    "    #     \"humidity_vars\":[\"fd_humidity_annual_std_unweighted\",\"fd_humidity_annual_std_unweighted_2\",\"fd_humidity_annual_std_unweighted_3\"]\n",
    "    # }\n",
    "]"
   ]
  },
  {
   "cell_type": "code",
   "execution_count": 87,
   "id": "2c88421f-62fc-4c78-8395-9fe2937cffbc",
   "metadata": {},
   "outputs": [],
   "source": [
    "def run_regression(results, in_sample_data, out_sample_data, target_var, temp_var_list=None, precip_var_list=None, humidity_var_list=None, fe_string = \"country + year\"):\n",
    "    assert any([temp_var_list, precip_var_list, humidity_var_list]) != None\n",
    "    var_list = []\n",
    "    if temp_var_list != None:\n",
    "        for var in temp_var_list: var_list.append(var)\n",
    "    if precip_var_list != None:\n",
    "        for var in precip_var_list: var_list.append(var)\n",
    "    if humidity_var_list != None:\n",
    "        for var in humidity_var_list: var_list.append(var)\n",
    "    var_string = \" + \".join(var_list)\n",
    "    for incremental_effects in [0,1,2,3]:\n",
    "        for i in range(incremental_effects):\n",
    "            for incremental_col in [col for col in regression_data_insample.columns if col.endswith(f\"incremental_effect_{str(i+1)}\")]:\n",
    "                var_list.append(incremental_col)\n",
    "            var_string += f\"*incremental_effects_{str(i+i)}\"\n",
    "        covariate_string = \" + \".join(var_list)\n",
    "        regression = pf.feols(\n",
    "            f\"{target_var} ~ {covariate_string} | {fe_string}\", \n",
    "            data=in_sample_data\n",
    "        )\n",
    "        # TODO: MSE should be a reduction from an intercept-only model\n",
    "        in_sample_mse = np.mean(np.square(regression.predict()-in_sample_data[target_var]))\n",
    "        out_sample_mse = np.mean(np.square(regression.predict(out_sample_data)-out_sample_data[target_var]))\n",
    "        results[\"covariate_string\"].append(covariate_string)\n",
    "        results[\"in_sample_mse\"].append(in_sample_mse)\n",
    "        results[\"out_sample_mse\"].append(out_sample_mse)\n",
    "    return results"
   ]
  },
  {
   "cell_type": "code",
   "execution_count": 4,
   "id": "bd1e187e-f00f-458e-ba32-5d5ef3df30f9",
   "metadata": {},
   "outputs": [],
   "source": [
    "results = {\"covariate_string\":[],\"out_sample_mse\":[],\"in_sample_mse\":[]}\n",
    "for group in model_groups:\n",
    "    temp_vars, precip_vars, humidity_vars = [], [], []\n",
    "    for var in group[\"temp_vars\"]:\n",
    "        temp_vars.append(var)\n",
    "        results = run_regression(results, regression_data_insample, regression_data_outsample, \"fd_ln_gdp\", temp_vars)\n",
    "    for var in group[\"precip_vars\"]:\n",
    "        precip_vars.append(var)\n",
    "        results = run_regression(results, regression_data_insample, regression_data_outsample, \"fd_ln_gdp\", None, precip_vars)\n",
    "    for var in group[\"humidity_vars\"]:\n",
    "        humidity_vars.append(var)\n",
    "        results = run_regression(results, regression_data_insample, regression_data_outsample, \"fd_ln_gdp\", None, None, humidity_vars)\n",
    "    results = run_regression(results, regression_data_insample, regression_data_outsample, \"fd_ln_gdp\", temp_vars, precip_vars)\n",
    "    results = run_regression(results, regression_data_insample, regression_data_outsample, \"fd_ln_gdp\", None, precip_vars, humidity_vars)\n",
    "    results = run_regression(results, regression_data_insample, regression_data_outsample, \"fd_ln_gdp\", temp_vars, None, humidity_vars)\n",
    "    results = run_regression(results, regression_data_insample, regression_data_outsample, \"fd_ln_gdp\", temp_vars, precip_vars, humidity_vars)\n",
    "pd.DataFrame.from_dict(results).sort_values([\"out_sample_mse\",\"in_sample_mse\"]).to_csv(\"test.csv\")"
   ]
  },
  {
   "cell_type": "code",
   "execution_count": 48,
   "id": "fdf2ecf3-a54c-491a-8069-c014b35dae57",
   "metadata": {},
   "outputs": [],
   "source": [
    "headers = []\n",
    "for var in var_list:\n",
    "    headers.append(var)\n",
    "headers.append(\"In-sample MSE\")\n",
    "with open(\"test_out.csv\", \"w\") as file_output:\n",
    "    writer = csv.writer(file_output)\n",
    "    writer.writerow(headers)\n",
    "    for permutation in permutation_list:\n",
    "        vars = \" + \".join([var for index, var in enumerate(var_list) if permutation[index] == 1])\n",
    "        regression = pf.feols(f\"fd_log_tfp ~ {vars} | country + year\", data=data)\n",
    "        yhat = regression.predict()\n",
    "        error = np.mean(np.square(yhat-data.fd_log_tfp))\n",
    "        res_row = []\n",
    "        for i in permutation:\n",
    "            res_row.append(i)\n",
    "        res_row.append(error)\n",
    "        writer.writerow(res_row)"
   ]
  },
  {
   "cell_type": "code",
   "execution_count": 27,
   "id": "1ba66254-90ad-4ac3-b3d5-7017b849b641",
   "metadata": {},
   "outputs": [
    {
     "data": {
      "text/html": [
       "<div>\n",
       "<style scoped>\n",
       "    .dataframe tbody tr th:only-of-type {\n",
       "        vertical-align: middle;\n",
       "    }\n",
       "\n",
       "    .dataframe tbody tr th {\n",
       "        vertical-align: top;\n",
       "    }\n",
       "\n",
       "    .dataframe thead th {\n",
       "        text-align: right;\n",
       "    }\n",
       "</style>\n",
       "<table border=\"1\" class=\"dataframe\">\n",
       "  <thead>\n",
       "    <tr style=\"text-align: right;\">\n",
       "      <th></th>\n",
       "      <th>Estimate</th>\n",
       "      <th>Std. Error</th>\n",
       "      <th>t value</th>\n",
       "      <th>Pr(&gt;|t|)</th>\n",
       "      <th>2.5%</th>\n",
       "      <th>97.5%</th>\n",
       "    </tr>\n",
       "    <tr>\n",
       "      <th>Coefficient</th>\n",
       "      <th></th>\n",
       "      <th></th>\n",
       "      <th></th>\n",
       "      <th></th>\n",
       "      <th></th>\n",
       "      <th></th>\n",
       "    </tr>\n",
       "  </thead>\n",
       "  <tbody>\n",
       "    <tr>\n",
       "      <th>temp_unweighted</th>\n",
       "      <td>0.014584</td>\n",
       "      <td>0.006973</td>\n",
       "      <td>2.091417</td>\n",
       "      <td>0.038022</td>\n",
       "      <td>0.000816</td>\n",
       "      <td>0.028352</td>\n",
       "    </tr>\n",
       "    <tr>\n",
       "      <th>temp_unweighted_2</th>\n",
       "      <td>-0.000984</td>\n",
       "      <td>0.000640</td>\n",
       "      <td>-1.538625</td>\n",
       "      <td>0.125811</td>\n",
       "      <td>-0.002247</td>\n",
       "      <td>0.000279</td>\n",
       "    </tr>\n",
       "    <tr>\n",
       "      <th>temp_unweighted_3</th>\n",
       "      <td>0.000021</td>\n",
       "      <td>0.000016</td>\n",
       "      <td>1.354382</td>\n",
       "      <td>0.177466</td>\n",
       "      <td>-0.000010</td>\n",
       "      <td>0.000053</td>\n",
       "    </tr>\n",
       "  </tbody>\n",
       "</table>\n",
       "</div>"
      ],
      "text/plain": [
       "                   Estimate  Std. Error   t value  Pr(>|t|)      2.5%  \\\n",
       "Coefficient                                                             \n",
       "temp_unweighted    0.014584    0.006973  2.091417  0.038022  0.000816   \n",
       "temp_unweighted_2 -0.000984    0.000640 -1.538625  0.125811 -0.002247   \n",
       "temp_unweighted_3  0.000021    0.000016  1.354382  0.177466 -0.000010   \n",
       "\n",
       "                      97.5%  \n",
       "Coefficient                  \n",
       "temp_unweighted    0.028352  \n",
       "temp_unweighted_2  0.000279  \n",
       "temp_unweighted_3  0.000053  "
      ]
     },
     "execution_count": 27,
     "metadata": {},
     "output_type": "execute_result"
    }
   ],
   "source": [
    "regression.tidy()"
   ]
  },
  {
   "cell_type": "code",
   "execution_count": 38,
   "id": "7c403e64-f7e4-4b44-800a-cb06b8643853",
   "metadata": {},
   "outputs": [
    {
     "name": "stdout",
     "output_type": "stream",
     "text": [
      "###\n",
      "\n",
      "Estimation:  OLS\n",
      "Dep. var.: fd_log_tfp, Fixed effects: ISO3+year\n",
      "Inference:  CRV1\n",
      "Observations:  9255\n",
      "\n",
      "| Coefficient   |   Estimate |   Std. Error |   t value |   Pr(>|t|) |   2.5% |   97.5% |\n",
      "|:--------------|-----------:|-------------:|----------:|-----------:|-------:|--------:|\n",
      "| fd_tmean      |     -0.006 |        0.009 |    -0.705 |      0.482 | -0.025 |   0.012 |\n",
      "| fd_tmean_sq   |     -0.000 |        0.000 |    -0.211 |      0.834 | -0.000 |   0.000 |\n",
      "| fd_prcp       |      0.000 |        0.000 |     3.181 |      0.002 |  0.000 |   0.000 |\n",
      "| fd_prcp_sq    |     -0.000 |        0.000 |    -3.109 |      0.002 | -0.000 |  -0.000 |\n",
      "---\n",
      "RMSE: 0.082 R2: 0.04 R2 Within: 0.01 \n"
     ]
    }
   ],
   "source": [
    "regression.summary()"
   ]
  },
  {
   "cell_type": "markdown",
   "id": "254bb539-ffcc-4de5-bcf5-a0d3ec7a5d9e",
   "metadata": {},
   "source": [
    "# Cross-validation"
   ]
  },
  {
   "cell_type": "code",
   "execution_count": 124,
   "id": "0acc4e6d-8477-4b73-b7ac-ddfcb3dfc014",
   "metadata": {},
   "outputs": [
    {
     "name": "stderr",
     "output_type": "stream",
     "text": [
      "/tmp/ipykernel_4085/637950435.py:4: DeprecationWarning: Conversion of an array with ndim > 0 to a scalar is deprecated, and will error in future. Ensure you extract a single element from your array before performing this operation. (Deprecated NumPy 1.25.)\n",
      "  regression_data_full[\"encoded_country\"] = [int(val) for val in enc.transform(np.array(regression_data_full.country).reshape(-1,1))]\n"
     ]
    }
   ],
   "source": [
    "enc = OrdinalEncoder()\n",
    "ordered_country_list = list(dict.fromkeys(regression_data_full.country))\n",
    "enc.fit(np.array(ordered_country_list).reshape(-1,1))\n",
    "regression_data_full[\"encoded_country\"] = [int(val) for val in enc.transform(np.array(regression_data_full.country).reshape(-1,1))]\n",
    "columns_to_center = [\n",
    "        \"temp_unweighted\",\n",
    "        \"temp_unweighted_2\",\n",
    "        \"temp_unweighted_3\",\n",
    "        \"fd_temp_unweighted\",\n",
    "        \"fd_temp_unweighted_2\",\n",
    "        \"fd_temp_unweighted_3\",\n",
    "        \"precip_unweighted\",\n",
    "        \"precip_unweighted_2\",\n",
    "        \"precip_unweighted_3\",\n",
    "        \"fd_precip_unweighted\",\n",
    "        \"fd_precip_unweighted_2\",\n",
    "        \"fd_precip_unweighted_3\",\n",
    "        \"humidity_unweighted\",\n",
    "        \"humidity_unweighted_2\",\n",
    "        \"humidity_unweighted_3\",\n",
    "        \"fd_humidity_unweighted\",\n",
    "        \"fd_humidity_unweighted_2\",\n",
    "        \"fd_humidity_unweighted_3\"\n",
    "    ]\n",
    "centered_data = pf.estimation.demean(\n",
    "    np.array(regression_data_full[columns_to_center]), \n",
    "    np.array(regression_data_full[[\"encoded_country\",\"year\"]]), \n",
    "    np.ones(len(regression_data_full))\n",
    ")[0]"
   ]
  },
  {
   "cell_type": "code",
   "execution_count": 143,
   "id": "bfa59f62-74f6-4372-8df7-d83c5a6f5969",
   "metadata": {},
   "outputs": [
    {
     "name": "stderr",
     "output_type": "stream",
     "text": [
      "/tmp/ipykernel_4085/1361240033.py:2: DeprecationWarning: Sampling from a set deprecated\n",
      "since Python 3.9 and will be removed in a subsequent version.\n",
      "  sampled_years = np.array(random.sample(set(regression_data_full.year), k=len(set(regression_data_full.year))))\n"
     ]
    },
    {
     "name": "stdout",
     "output_type": "stream",
     "text": [
      "62\n"
     ]
    }
   ],
   "source": [
    "cv_folds = 10\n",
    "sampled_years = np.array(random.sample(set(regression_data_full.year), k=len(set(regression_data_full.year))))\n",
    "year_cut = OrdinalEncoder().fit_transform(np.array(list(pd.cut(range(1,63), bins=cv_folds))).reshape(-1,1)).flatten()\n",
    "for fold in range(cv_folds):\n",
    "    withheld_years = []\n",
    "    for index, cut in enumerate(year_cut):\n",
    "        if cut == fold:\n",
    "            withheld_years.append(sampled_years[index])\n",
    "    withheld_rows = regression_data_full.loc[(regression_data_full.year.isin(withheld_years))]\n",
    "    training_rows = regression_data_full.loc[(regression_data_full.year.isin(withheld_years) == False)]\n",
    "    training_data, withheld_data = [], []\n",
    "    for index, row in enumerate(centered_data):\n",
    "        if index in withheld_rows.index:\n",
    "            withheld_data.append(row)\n",
    "        else:\n",
    "            training_data.append(row)\n",
    "    training_data = np.array(training_data)\n",
    "    withheld_data = np.array(withheld_data)\n",
    "    training_rows = training_rows.reset_index()\n",
    "    withheld_rows = withheld_rows.reset_index()\n",
    "    withheld_data_dict, training_data_dict = {}, {}\n",
    "    for index, column in enumerate(columns_to_center):\n",
    "        withheld_data_dict[column] = withheld_data[:,index]\n",
    "        training_data_dict[column] = training_data[:,index]\n",
    "    training_data = pd.concat([pd.DataFrame.from_dict(training_data_dict), training_rows[[\"fd_ln_gdp\",\"country\",\"year\"]], training_rows.loc[:, training_rows.columns.str.contains(('_incremental_effect'))]], axis=1)\n",
    "    withheld_data = pd.concat([pd.DataFrame.from_dict(withheld_data_dict), withheld_rows[[\"fd_ln_gdp\",\"country\",\"year\"]], withheld_rows.loc[:, withheld_rows.columns.str.contains(('_incremental_effect'))]], axis=1)\n",
    "    training_data.to_csv(f\"../data/regression/cross_validation/gdp_regression_data_train_cv_{fold}.csv\")\n",
    "    withheld_data.to_csv(f\"../data/regression/cross_validation/gdp_regression_data_test_cv_{fold}.csv\")"
   ]
  },
  {
   "cell_type": "code",
   "execution_count": 258,
   "id": "5c07b0ea-443c-424f-b0ff-024fd091b7da",
   "metadata": {},
   "outputs": [],
   "source": [
    "def calculate_prediction_interval_accuracy(x, y, predictions, cov_mat):\n",
    "    results = []\n",
    "    for index, row in enumerate(x.itertuples()):\n",
    "        x_data = list(row[1:])\n",
    "        y_real = y.iloc[index]\n",
    "        se_pred = np.sqrt(np.linalg.multi_dot([x_data, cov_mat, np.transpose(x_data)]))\n",
    "        prediction_interval = (predictions[index]-se_pred*1.9603795, predictions[index]+se_pred*1.9603795)\n",
    "        if y_real >= prediction_interval[0] and y_real <= prediction_interval[1]:\n",
    "            results.append(1)\n",
    "        else:\n",
    "            results.append(0)\n",
    "    return np.mean(results)"
   ]
  },
  {
   "cell_type": "code",
   "execution_count": 263,
   "id": "2c8852a4-998d-44b7-9e5d-e92e8c049964",
   "metadata": {},
   "outputs": [],
   "source": [
    "def run_regression_with_cv(results, num_folds, target_var, temp_var_list=None, precip_var_list=None, humidity_var_list=None, fe_string = \"0\"):\n",
    "    print(temp_var_list, precip_var_list, humidity_var_list)\n",
    "    assert any([temp_var_list, precip_var_list, humidity_var_list]) != None\n",
    "    # for incremental_effects in [0,1,2,3]:\n",
    "    var_list = []\n",
    "    if temp_var_list != None:\n",
    "        for var in temp_var_list: var_list.append(var)\n",
    "    if precip_var_list != None:\n",
    "        for var in precip_var_list: var_list.append(var)\n",
    "    if humidity_var_list != None:\n",
    "        for var in humidity_var_list: var_list.append(var)\n",
    "    for fold in range(num_folds):\n",
    "        in_sample_mse, out_sample_mse, in_sample_pred_int_acc, out_sample_pred_int_acc = [], [], [], []\n",
    "        train_data = pd.read_csv(f\"../data/regression/cross_validation/gdp_regression_data_train_cv_{fold}.csv\")\n",
    "        test_data = pd.read_csv(f\"../data/regression/cross_validation/gdp_regression_data_test_cv_{fold}.csv\")\n",
    "        x = train_data[var_list]\n",
    "        x_test = test_data[var_list]\n",
    "        x = sm.add_constant(x)\n",
    "        x_test = sm.add_constant(x_test)\n",
    "        model = sm.OLS(train_data[target_var],x)\n",
    "        regression = model.fit()\n",
    "        in_sample_predictions = regression.predict()\n",
    "        out_sample_predictions = regression.predict(x_test)\n",
    "        # calculate mse\n",
    "        # TODO: MSE should be a reduction from an intercept-only model\n",
    "        in_sample_mse.append(np.mean(np.square(in_sample_predictions-train_data[target_var])))\n",
    "        out_sample_mse.append(np.mean(np.square(out_sample_predictions-test_data[target_var])))\n",
    "        # calculate prediction interval accuracy\n",
    "        in_sample_pred_int_acc.append(calculate_prediction_interval_accuracy(x, train_data[target_var], in_sample_predictions, regression.cov_params()))\n",
    "        out_sample_pred_int_acc.append(calculate_prediction_interval_accuracy(x_test, test_data[target_var],out_sample_predictions, regression.cov_params()))\n",
    "    results[\"covariate_string\"].append(\",\".join(var_list))\n",
    "    results[\"in_sample_mse\"].append(np.mean(in_sample_mse))\n",
    "    results[\"out_sample_mse\"].append(np.mean(out_sample_mse))\n",
    "    results[\"in_sample_pred_int_acc\"].append(np.mean(in_sample_pred_int_acc))\n",
    "    results[\"out_sample_pred_int_acc\"].append(np.mean(out_sample_pred_int_acc))\n",
    "    return results"
   ]
  },
  {
   "cell_type": "code",
   "execution_count": 264,
   "id": "a12c6471-084a-4c17-a148-b53bbee178ba",
   "metadata": {},
   "outputs": [
    {
     "name": "stdout",
     "output_type": "stream",
     "text": [
      "['fd_temp_unweighted', 'fd_temp_unweighted_2', 'fd_temp_unweighted_3'] ['fd_precip_unweighted', 'fd_precip_unweighted_2', 'fd_precip_unweighted_3'] ['fd_humidity_unweighted', 'fd_humidity_unweighted_2', 'fd_humidity_unweighted_3']\n",
      "['temp_unweighted', 'temp_unweighted_2'] None None\n"
     ]
    }
   ],
   "source": [
    "results = {\"covariate_string\":[],\"out_sample_mse\":[],\"in_sample_mse\":[],\"in_sample_pred_int_acc\":[],\"out_sample_pred_int_acc\":[]}\n",
    "results = run_regression_with_cv(\n",
    "    results, \n",
    "    10, \n",
    "    \"fd_ln_gdp\", \n",
    "    [\"fd_temp_unweighted\",\"fd_temp_unweighted_2\",\"fd_temp_unweighted_3\"],\n",
    "    [\"fd_precip_unweighted\",\"fd_precip_unweighted_2\",\"fd_precip_unweighted_3\"],\n",
    "    [\"fd_humidity_unweighted\",\"fd_humidity_unweighted_2\",\"fd_humidity_unweighted_3\"]\n",
    ")\n",
    "results = run_regression_with_cv(\n",
    "    results, \n",
    "    10, \n",
    "    \"fd_ln_gdp\", \n",
    "    [\"temp_unweighted\",\"temp_unweighted_2\"]\n",
    ")\n",
    "pd.DataFrame.from_dict(results).sort_values([\"out_sample_mse\",\"in_sample_mse\"]).to_csv(\"test_cv_pred_int.csv\")"
   ]
  },
  {
   "cell_type": "code",
   "execution_count": 168,
   "id": "acf9f57f-dddc-4515-8d19-dcc0b6bda337",
   "metadata": {},
   "outputs": [],
   "source": [
    "train_data = pd.read_csv(f\"../data/regression/cross_validation/gdp_regression_data_train_cv_0.csv\")\n",
    "regression = pf.feols(\n",
    "                \"fd_ln_gdp ~ temp_unweighted + temp_unweighted_2 | 0\", \n",
    "                data=train_data\n",
    "            )"
   ]
  },
  {
   "cell_type": "code",
   "execution_count": 180,
   "id": "d60950aa-cbf9-43ea-b4fe-97bdf4301aec",
   "metadata": {},
   "outputs": [
    {
     "ename": "AttributeError",
     "evalue": "'Feols' object has no attribute 'cov'",
     "output_type": "error",
     "traceback": [
      "\u001b[0;31m---------------------------------------------------------------------------\u001b[0m",
      "\u001b[0;31mAttributeError\u001b[0m                            Traceback (most recent call last)",
      "Cell \u001b[0;32mIn[180], line 1\u001b[0m\n\u001b[0;32m----> 1\u001b[0m \u001b[43mregression\u001b[49m\u001b[38;5;241;43m.\u001b[39;49m\u001b[43mcov\u001b[49m()\n",
      "\u001b[0;31mAttributeError\u001b[0m: 'Feols' object has no attribute 'cov'"
     ]
    }
   ],
   "source": [
    "dir(reg"
   ]
  },
  {
   "cell_type": "code",
   "execution_count": 226,
   "id": "4367dd5c-63d3-46f7-905f-5b0ca0439790",
   "metadata": {},
   "outputs": [],
   "source": [
    "train_data = pd.read_csv(f\"../data/regression/cross_validation/gdp_regression_data_train_cv_0.csv\")\n",
    "x = np.array(train_data[[\"temp_unweighted\",\"temp_unweighted_2\"]])\n",
    "x = sm.add_constant(x)\n",
    "y = np.array(train_data.fd_ln_gdp)\n",
    "model = sm.OLS(y,x)\n",
    "results = model.fit()\n",
    "yhat = results.predict()\n",
    "prediction_intervals = []\n",
    "for index, obs in enumerate(x):\n",
    "    se_pred = np.linalg.multi_dot([obs, results.cov_params(), np.transpose(obs)])\n",
    "    prediction_interval = (yhat[index] - se_pred * 1.9603795, yhat[index] + se_pred * 1.9603795)\n",
    "    prediction_intervals.append(prediction_interval)"
   ]
  },
  {
   "cell_type": "code",
   "execution_count": 219,
   "id": "47067bca-c8af-4f39-be4e-3b21dd5b387c",
   "metadata": {},
   "outputs": [
    {
     "data": {
      "text/plain": [
       "array([[1.95883511e-05]])"
      ]
     },
     "execution_count": 219,
     "metadata": {},
     "output_type": "execute_result"
    }
   ],
   "source": [
    "results.cov_params()"
   ]
  },
  {
   "cell_type": "code",
   "execution_count": 137,
   "id": "787af5f8-11f1-4649-86ba-1412cc68b5a1",
   "metadata": {},
   "outputs": [
    {
     "data": {
      "text/plain": [
       "0.006735429878711787"
      ]
     },
     "execution_count": 137,
     "metadata": {},
     "output_type": "execute_result"
    }
   ],
   "source": [
    "# predict with fixed effects\n",
    "yhat = regression.predict()\n",
    "error = np.square(yhat-data.fd_log_tfp)\n",
    "np.mean(error)"
   ]
  },
  {
   "cell_type": "code",
   "execution_count": 140,
   "id": "67169fc3-45af-4fd3-804b-7c0a3d3d0601",
   "metadata": {},
   "outputs": [
    {
     "data": {
      "text/plain": [
       "0.006980271648325952"
      ]
     },
     "execution_count": 140,
     "metadata": {},
     "output_type": "execute_result"
    }
   ],
   "source": [
    "# predict without fixed effects\n",
    "yhat_ = results.predict()\n",
    "error = np.square(yhat_-data.fd_log_tfp)\n",
    "np.mean(error)"
   ]
  }
 ],
 "metadata": {
  "kernelspec": {
   "display_name": "Python 3 (ipykernel)",
   "language": "python",
   "name": "python3"
  },
  "language_info": {
   "codemirror_mode": {
    "name": "ipython",
    "version": 3
   },
   "file_extension": ".py",
   "mimetype": "text/x-python",
   "name": "python",
   "nbconvert_exporter": "python",
   "pygments_lexer": "ipython3",
   "version": "3.10.12"
  }
 },
 "nbformat": 4,
 "nbformat_minor": 5
}
