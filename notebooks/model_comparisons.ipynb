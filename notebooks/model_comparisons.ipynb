{
 "cells": [
  {
   "cell_type": "code",
   "execution_count": 125,
   "id": "5e2819f3-4d33-4f1f-80c3-25bba5845a8a",
   "metadata": {},
   "outputs": [
    {
     "data": {
      "text/html": [
       "\n",
       "            <div id=\"22uOrf\"></div>\n",
       "            <script type=\"text/javascript\" data-lets-plot-script=\"library\">\n",
       "                if(!window.letsPlotCallQueue) {\n",
       "                    window.letsPlotCallQueue = [];\n",
       "                }; \n",
       "                window.letsPlotCall = function(f) {\n",
       "                    window.letsPlotCallQueue.push(f);\n",
       "                };\n",
       "                (function() {\n",
       "                    var script = document.createElement(\"script\");\n",
       "                    script.type = \"text/javascript\";\n",
       "                    script.src = \"https://cdn.jsdelivr.net/gh/JetBrains/lets-plot@v4.3.3/js-package/distr/lets-plot.min.js\";\n",
       "                    script.onload = function() {\n",
       "                        window.letsPlotCall = function(f) {f();};\n",
       "                        window.letsPlotCallQueue.forEach(function(f) {f();});\n",
       "                        window.letsPlotCallQueue = [];\n",
       "                        \n",
       "                    };\n",
       "                    script.onerror = function(event) {\n",
       "                        window.letsPlotCall = function(f) {};    // noop\n",
       "                        window.letsPlotCallQueue = [];\n",
       "                        var div = document.createElement(\"div\");\n",
       "                        div.style.color = 'darkred';\n",
       "                        div.textContent = 'Error loading Lets-Plot JS';\n",
       "                        document.getElementById(\"22uOrf\").appendChild(div);\n",
       "                    };\n",
       "                    var e = document.getElementById(\"22uOrf\");\n",
       "                    e.appendChild(script);\n",
       "                })()\n",
       "            </script>\n",
       "            "
      ]
     },
     "metadata": {},
     "output_type": "display_data"
    },
    {
     "data": {
      "text/html": [
       "\n",
       "            <div id=\"Owev5B\"></div>\n",
       "            <script type=\"text/javascript\" data-lets-plot-script=\"library\">\n",
       "                if(!window.letsPlotCallQueue) {\n",
       "                    window.letsPlotCallQueue = [];\n",
       "                }; \n",
       "                window.letsPlotCall = function(f) {\n",
       "                    window.letsPlotCallQueue.push(f);\n",
       "                };\n",
       "                (function() {\n",
       "                    var script = document.createElement(\"script\");\n",
       "                    script.type = \"text/javascript\";\n",
       "                    script.src = \"https://cdn.jsdelivr.net/gh/JetBrains/lets-plot@v4.3.3/js-package/distr/lets-plot.min.js\";\n",
       "                    script.onload = function() {\n",
       "                        window.letsPlotCall = function(f) {f();};\n",
       "                        window.letsPlotCallQueue.forEach(function(f) {f();});\n",
       "                        window.letsPlotCallQueue = [];\n",
       "                        \n",
       "                    };\n",
       "                    script.onerror = function(event) {\n",
       "                        window.letsPlotCall = function(f) {};    // noop\n",
       "                        window.letsPlotCallQueue = [];\n",
       "                        var div = document.createElement(\"div\");\n",
       "                        div.style.color = 'darkred';\n",
       "                        div.textContent = 'Error loading Lets-Plot JS';\n",
       "                        document.getElementById(\"Owev5B\").appendChild(div);\n",
       "                    };\n",
       "                    var e = document.getElementById(\"Owev5B\");\n",
       "                    e.appendChild(script);\n",
       "                })()\n",
       "            </script>\n",
       "            "
      ]
     },
     "metadata": {},
     "output_type": "display_data"
    }
   ],
   "source": [
    "import csv\n",
    "import os\n",
    "import pandas as pd\n",
    "import numpy as np\n",
    "from sklearn.preprocessing import StandardScaler, MinMaxScaler, OrdinalEncoder\n",
    "import pickle as pkl\n",
    "import matplotlib.pyplot as plt\n",
    "import random\n",
    "import pyfixest as pf\n",
    "import statsmodels.api as sm"
   ]
  },
  {
   "cell_type": "markdown",
   "id": "fb1a0d08-f773-4022-9856-0992c81a3fd5",
   "metadata": {},
   "source": [
    "# Create Dataset"
   ]
  },
  {
   "cell_type": "code",
   "execution_count": 126,
   "id": "609b96ff-1b41-4017-afb2-957f43313080",
   "metadata": {},
   "outputs": [],
   "source": [
    "import pandas as pd\n",
    "import numpy as np\n",
    "from countrycode import countrycode as cc"
   ]
  },
  {
   "cell_type": "code",
   "execution_count": 127,
   "id": "96fbdf3e-6cd1-4f81-8fe9-2bdfe927855f",
   "metadata": {},
   "outputs": [],
   "source": [
    "gdp_data = pd.read_csv(\"../data/GDP_per_capita/worldbank_wdi_gdp_per_capita.csv\")\n",
    "tfp_data = pd.read_csv(\"../data/TFP/AgTFPInternational2021_AG_TFP.csv\", header=2)"
   ]
  },
  {
   "cell_type": "code",
   "execution_count": 128,
   "id": "26d127fc-a803-4755-8f63-f06e89049d19",
   "metadata": {},
   "outputs": [],
   "source": [
    "def format_target_data(data, years, year_column_format, country_column, output_var):\n",
    "    formatted_outcome_var = {}\n",
    "    for row in data.iterrows():\n",
    "        row = row[1]\n",
    "        country = row[country_column]\n",
    "        formatted_outcome_var[country] = {}\n",
    "        for year in years:\n",
    "            year_data = float(row[year_column_format.replace(\"year\",str(year))])\n",
    "            last_year_data = float(row[year_column_format.replace(\"year\",str(year-1))])\n",
    "            formatted_outcome_var[country][year] = {}\n",
    "            if np.isnan(year_data) or np.isnan(last_year_data):\n",
    "                formatted_outcome_var[country][year][output_var] = np.NaN\n",
    "            else:\n",
    "                outcome = np.log(float(year_data)) - np.log(float(last_year_data))\n",
    "                formatted_outcome_var[country][year][output_var] = outcome\n",
    "    return formatted_outcome_var"
   ]
  },
  {
   "cell_type": "code",
   "execution_count": 149,
   "id": "ec49c962-b346-4e9c-973f-8db011bc0a4e",
   "metadata": {},
   "outputs": [],
   "source": [
    "def add_climate_vars_to_dataset(dataset, climate_val, prev_climate_val, country, year, climate_var, weights):\n",
    "    dataset[country][year][f\"{climate_var}_{weights}\"] = climate_val\n",
    "    dataset[country][year][f\"{climate_var}_{weights}_2\"] = np.square(climate_val)\n",
    "    dataset[country][year][f\"{climate_var}_{weights}_3\"] = np.power(climate_val,3)\n",
    "    if prev_climate_val != None:\n",
    "        dataset[country][year][f\"fd_{climate_var}_{weights}\"] = climate_val - prev_climate_val\n",
    "        dataset[country][year][f\"fd_{climate_var}_{weights}_2\"] = np.square(climate_val) - np.square(prev_climate_val)\n",
    "        dataset[country][year][f\"fd_{climate_var}_{weights}_3\"] = np.power(climate_val,3) - np.power(prev_climate_val,3)\n",
    "    return dataset"
   ]
  },
  {
   "cell_type": "code",
   "execution_count": 148,
   "id": "de68e39a-8c63-49ec-bf83-191cc9a924e1",
   "metadata": {},
   "outputs": [
    {
     "data": {
      "text/plain": [
       "5263.707209289153"
      ]
     },
     "execution_count": 148,
     "metadata": {},
     "output_type": "execute_result"
    }
   ],
   "source": [
    "np.square(86.3568301049033) - np.square(46.8379642648779)"
   ]
  },
  {
   "cell_type": "code",
   "execution_count": 129,
   "id": "0f8ce713-2d49-44f4-a2bf-02e4b4ad8f6a",
   "metadata": {},
   "outputs": [],
   "source": [
    "gdp_years = range(1961,2024)\n",
    "tfp_years = range(1962,2022)"
   ]
  },
  {
   "cell_type": "code",
   "execution_count": 130,
   "id": "8b5d414c-683e-4ecc-b91c-4d1dba03426a",
   "metadata": {},
   "outputs": [],
   "source": [
    "gdp_data = gdp_data.replace(\"..\", np.NaN)\n",
    "formatted_gdp_data = format_target_data(gdp_data, gdp_years, \"year [YRyear]\", \"Country Code\", \"fd_ln_gdp\")\n",
    "formatted_tfp_data = format_target_data(tfp_data, tfp_years, \"year\", \"ISO3\", \"fd_ln_tfp\")"
   ]
  },
  {
   "cell_type": "code",
   "execution_count": 153,
   "id": "ece6d21d-8247-4be6-8330-5b6e57b43dbb",
   "metadata": {},
   "outputs": [],
   "source": [
    "for climate_var in [\"temp\",\"precip\",\"humidity\"]:\n",
    "    for weights in [\"unweighted\", \"pop_weighted\",\"ag_weighted\"]:\n",
    "        aggregate_var = \"mean\"\n",
    "        if weights != \"unweighted\":\n",
    "            aggregate_var = \"weighted_mean\"\n",
    "        weights_no_dash = weights.replace(\"_\",\"\")\n",
    "        data = pd.read_csv(f\"../data/{climate_var}/monthly/processed_by_country/{weights}/{climate_var}.monthly.bycountry.{weights_no_dash}.mean.csv\")\n",
    "        for row in data.iterrows():\n",
    "            prev_climate_val = None\n",
    "            row = row[1]\n",
    "            country = cc(row.country, origin=\"fips\", destination=\"iso3c\")\n",
    "            if country != None:\n",
    "                for year in range(1960,2024):\n",
    "                    monthly_climate_vals = []\n",
    "                    for month in range(1,13):\n",
    "                        if month < 10:\n",
    "                            month = \"0\" + str(month)\n",
    "                        monthly_climate_vals.append(row[f\"{weights_no_dash}_by_country.{aggregate_var}.X{year}.{month}.01\"])\n",
    "                    annual_climate_mean = np.mean(monthly_climate_vals)\n",
    "                    if climate_var == \"temp\":\n",
    "                        # celsius to kelvin\n",
    "                        annual_climate_mean = annual_climate_mean - 273.15\n",
    "                    elif climate_var == \"precip\":\n",
    "                        # precipitation rate per second to total monthly precipitation (X by approx. # of seconds in a month)\n",
    "                        annual_climate_mean = annual_climate_mean * 2.628e+6\n",
    "                    if year in gdp_years and country in formatted_gdp_data:\n",
    "                        formatted_gdp_data = add_climate_vars_to_dataset(formatted_gdp_data, annual_climate_mean, prev_climate_val, country, year, climate_var, weights)\n",
    "                    if year in tfp_years and country in formatted_tfp_data:\n",
    "                        formatted_tfp_data = add_climate_vars_to_dataset(formatted_tfp_data, annual_climate_mean, prev_climate_val, country, year, climate_var, weights)\n",
    "                    prev_climate_val = annual_climate_mean"
   ]
  },
  {
   "cell_type": "code",
   "execution_count": null,
   "id": "85e1ccf2-d1c8-4fb1-b902-ccee318ca983",
   "metadata": {},
   "outputs": [],
   "source": [
    "uw_daily_temp_dir = \"../data/temp/daily/processed_by_country/unweighted/\"\n",
    "pw_daily_temp_dir = \"../data/temp/daily/processed_by_country/pop_weighted/\"\n",
    "aw_daily_temp_dir = \"../data/temp/daily/processed_by_country/ag_weighted/\"\n",
    "\n",
    "uw_daily_precip_dir = \"../data/precip/daily/processed_by_country/unweighted/\"\n",
    "pw_daily_precip_dir = \"../data/precip/daily/processed_by_country/pop_weighted/\"\n",
    "aw_daily_precip_dir = \"../data/precip/daily/processed_by_country/ag_weighted/\"\n",
    "\n",
    "uw_daily_humidity_dir = \"../data/humidity/daily/processed_by_country/unweighted/\"\n",
    "pw_daily_humidity_dir = \"../data/humidity/daily/processed_by_country/pop_weighted/\"\n",
    "aw_daily_humidity_dir = \"../data/humidity/daily/processed_by_country/ag_weighted/\""
   ]
  },
  {
   "cell_type": "code",
   "execution_count": null,
   "id": "acff22a5-3b49-462b-8cc4-c81f1e03b763",
   "metadata": {},
   "outputs": [],
   "source": [
    "data = {\n",
    "    \"country\":[],\"year\":[],\n",
    "    # outcome variables\n",
    "    \"fd_ln_GDP\":[],\"fd_ln_TFP\":[],\n",
    "    # mean annual temp\n",
    "    \"temp_uw_mean_annual\":[],\"temp2_uw_mean_annual\":[],\"fd_temp_uw_mean_annual\":[],\"fd_temp2_uw_mean_annual\":[],\n",
    "    # mean annual precip\n",
    "    \"precip_uw_mean_annual\":[],\"precip2_uw_mean_annual:[]\",\"fd_precip_uw_mean_annual\":[],\"fd_precip2_uw_mean_annual\":[],\n",
    "    # mean annual humidity\n",
    "    \n",
    "}"
   ]
  },
  {
   "cell_type": "code",
   "execution_count": 47,
   "id": "dcd35a99-e462-4e60-a4d5-28a122efb3fc",
   "metadata": {},
   "outputs": [],
   "source": [
    "var_list = [\"tmean\",\"tmean_sq\",\"tmean_cu\",\"fd_tmean\",\"fd_tmean_sq\",\"fd_tmean_cu\",\"prcp\",\"prcp_sq\",\"prcp_cu\",\"fd_prcp\",\"fd_prcp_sq\",\"fd_prcp_cu\"]\n",
    "permutation_list = [\n",
    "    np.ones(len(var_list)),\n",
    "    [0,0,0,1,1,0,0,0,0,1,1,0],\n",
    "    [1,0,0,0,0,0,0,0,0,0,0,0],\n",
    "    [0,0,0,1,0,0,0,0,0,0,0,0],\n",
    "]\n"
   ]
  },
  {
   "cell_type": "code",
   "execution_count": 48,
   "id": "fdf2ecf3-a54c-491a-8069-c014b35dae57",
   "metadata": {},
   "outputs": [],
   "source": [
    "headers = []\n",
    "for var in var_list:\n",
    "    headers.append(var)\n",
    "headers.append(\"In-sample MSE\")\n",
    "with open(\"test_out.csv\", \"w\") as file_output:\n",
    "    writer = csv.writer(file_output)\n",
    "    writer.writerow(headers)\n",
    "    for permutation in permutation_list:\n",
    "        vars = \" + \".join([var for index, var in enumerate(var_list) if permutation[index] == 1])\n",
    "        regression = pf.feols(f\"fd_log_tfp ~ {vars} | ISO3 + year\", data=data)\n",
    "        yhat = regression.predict()\n",
    "        error = np.mean(np.square(yhat-data.fd_log_tfp))\n",
    "        res_row = []\n",
    "        for i in permutation:\n",
    "            res_row.append(i)\n",
    "        res_row.append(error)\n",
    "        writer.writerow(res_row)"
   ]
  },
  {
   "cell_type": "code",
   "execution_count": 37,
   "id": "1ba66254-90ad-4ac3-b3d5-7017b849b641",
   "metadata": {},
   "outputs": [
    {
     "data": {
      "text/html": [
       "<div>\n",
       "<style scoped>\n",
       "    .dataframe tbody tr th:only-of-type {\n",
       "        vertical-align: middle;\n",
       "    }\n",
       "\n",
       "    .dataframe tbody tr th {\n",
       "        vertical-align: top;\n",
       "    }\n",
       "\n",
       "    .dataframe thead th {\n",
       "        text-align: right;\n",
       "    }\n",
       "</style>\n",
       "<table border=\"1\" class=\"dataframe\">\n",
       "  <thead>\n",
       "    <tr style=\"text-align: right;\">\n",
       "      <th></th>\n",
       "      <th>Estimate</th>\n",
       "      <th>Std. Error</th>\n",
       "      <th>t value</th>\n",
       "      <th>Pr(&gt;|t|)</th>\n",
       "      <th>2.5%</th>\n",
       "      <th>97.5%</th>\n",
       "    </tr>\n",
       "    <tr>\n",
       "      <th>Coefficient</th>\n",
       "      <th></th>\n",
       "      <th></th>\n",
       "      <th></th>\n",
       "      <th></th>\n",
       "      <th></th>\n",
       "      <th></th>\n",
       "    </tr>\n",
       "  </thead>\n",
       "  <tbody>\n",
       "    <tr>\n",
       "      <th>fd_tmean</th>\n",
       "      <td>-6.475999e-03</td>\n",
       "      <td>9.191869e-03</td>\n",
       "      <td>-0.704536</td>\n",
       "      <td>0.482058</td>\n",
       "      <td>-2.462014e-02</td>\n",
       "      <td>1.166814e-02</td>\n",
       "    </tr>\n",
       "    <tr>\n",
       "      <th>fd_tmean_sq</th>\n",
       "      <td>-4.752681e-05</td>\n",
       "      <td>2.257485e-04</td>\n",
       "      <td>-0.210530</td>\n",
       "      <td>0.833505</td>\n",
       "      <td>-4.931395e-04</td>\n",
       "      <td>3.980859e-04</td>\n",
       "    </tr>\n",
       "    <tr>\n",
       "      <th>fd_prcp</th>\n",
       "      <td>1.816850e-04</td>\n",
       "      <td>5.712337e-05</td>\n",
       "      <td>3.180572</td>\n",
       "      <td>0.001746</td>\n",
       "      <td>6.892724e-05</td>\n",
       "      <td>2.944428e-04</td>\n",
       "    </tr>\n",
       "    <tr>\n",
       "      <th>fd_prcp_sq</th>\n",
       "      <td>-1.818987e-07</td>\n",
       "      <td>5.850870e-08</td>\n",
       "      <td>-3.108918</td>\n",
       "      <td>0.002200</td>\n",
       "      <td>-2.973910e-07</td>\n",
       "      <td>-6.640643e-08</td>\n",
       "    </tr>\n",
       "  </tbody>\n",
       "</table>\n",
       "</div>"
      ],
      "text/plain": [
       "                 Estimate    Std. Error   t value  Pr(>|t|)          2.5%  \\\n",
       "Coefficient                                                                 \n",
       "fd_tmean    -6.475999e-03  9.191869e-03 -0.704536  0.482058 -2.462014e-02   \n",
       "fd_tmean_sq -4.752681e-05  2.257485e-04 -0.210530  0.833505 -4.931395e-04   \n",
       "fd_prcp      1.816850e-04  5.712337e-05  3.180572  0.001746  6.892724e-05   \n",
       "fd_prcp_sq  -1.818987e-07  5.850870e-08 -3.108918  0.002200 -2.973910e-07   \n",
       "\n",
       "                    97.5%  \n",
       "Coefficient                \n",
       "fd_tmean     1.166814e-02  \n",
       "fd_tmean_sq  3.980859e-04  \n",
       "fd_prcp      2.944428e-04  \n",
       "fd_prcp_sq  -6.640643e-08  "
      ]
     },
     "execution_count": 37,
     "metadata": {},
     "output_type": "execute_result"
    }
   ],
   "source": [
    "regression.tidy()"
   ]
  },
  {
   "cell_type": "code",
   "execution_count": 38,
   "id": "7c403e64-f7e4-4b44-800a-cb06b8643853",
   "metadata": {},
   "outputs": [
    {
     "name": "stdout",
     "output_type": "stream",
     "text": [
      "###\n",
      "\n",
      "Estimation:  OLS\n",
      "Dep. var.: fd_log_tfp, Fixed effects: ISO3+year\n",
      "Inference:  CRV1\n",
      "Observations:  9255\n",
      "\n",
      "| Coefficient   |   Estimate |   Std. Error |   t value |   Pr(>|t|) |   2.5% |   97.5% |\n",
      "|:--------------|-----------:|-------------:|----------:|-----------:|-------:|--------:|\n",
      "| fd_tmean      |     -0.006 |        0.009 |    -0.705 |      0.482 | -0.025 |   0.012 |\n",
      "| fd_tmean_sq   |     -0.000 |        0.000 |    -0.211 |      0.834 | -0.000 |   0.000 |\n",
      "| fd_prcp       |      0.000 |        0.000 |     3.181 |      0.002 |  0.000 |   0.000 |\n",
      "| fd_prcp_sq    |     -0.000 |        0.000 |    -3.109 |      0.002 | -0.000 |  -0.000 |\n",
      "---\n",
      "RMSE: 0.082 R2: 0.04 R2 Within: 0.01 \n"
     ]
    }
   ],
   "source": [
    "regression.summary()"
   ]
  },
  {
   "cell_type": "code",
   "execution_count": 111,
   "id": "0acc4e6d-8477-4b73-b7ac-ddfcb3dfc014",
   "metadata": {},
   "outputs": [],
   "source": [
    "centered_data = pf.estimation.demean(\n",
    "    np.array(data[[\"fd_tmean\", \"fd_tmean_sq\", \"fd_prcp\", \"fd_prcp_sq\"]]), \n",
    "    np.array(data[[\"encoded_iso_id\",\"year\"]]), \n",
    "    np.ones(len(data))\n",
    ")"
   ]
  },
  {
   "cell_type": "code",
   "execution_count": 118,
   "id": "4367dd5c-63d3-46f7-905f-5b0ca0439790",
   "metadata": {},
   "outputs": [
    {
     "name": "stdout",
     "output_type": "stream",
     "text": [
      "[-6.47599918e-03 -4.75268083e-05  1.81684996e-04 -1.81898741e-07]\n"
     ]
    }
   ],
   "source": [
    "x = centered_data[0]\n",
    "y = np.array(data.fd_log_tfp)\n",
    "model = sm.OLS(y,x)\n",
    "results = model.fit()\n",
    "print(results.params)"
   ]
  },
  {
   "cell_type": "code",
   "execution_count": 137,
   "id": "787af5f8-11f1-4649-86ba-1412cc68b5a1",
   "metadata": {},
   "outputs": [
    {
     "data": {
      "text/plain": [
       "0.006735429878711787"
      ]
     },
     "execution_count": 137,
     "metadata": {},
     "output_type": "execute_result"
    }
   ],
   "source": [
    "# predict with fixed effects\n",
    "yhat = regression.predict()\n",
    "error = np.square(yhat-data.fd_log_tfp)\n",
    "np.mean(error)"
   ]
  },
  {
   "cell_type": "code",
   "execution_count": 140,
   "id": "67169fc3-45af-4fd3-804b-7c0a3d3d0601",
   "metadata": {},
   "outputs": [
    {
     "data": {
      "text/plain": [
       "0.006980271648325952"
      ]
     },
     "execution_count": 140,
     "metadata": {},
     "output_type": "execute_result"
    }
   ],
   "source": [
    "# predict without fixed effects\n",
    "yhat_ = results.predict()\n",
    "error = np.square(yhat_-data.fd_log_tfp)\n",
    "np.mean(error)"
   ]
  }
 ],
 "metadata": {
  "kernelspec": {
   "display_name": "Python 3 (ipykernel)",
   "language": "python",
   "name": "python3"
  },
  "language_info": {
   "codemirror_mode": {
    "name": "ipython",
    "version": 3
   },
   "file_extension": ".py",
   "mimetype": "text/x-python",
   "name": "python",
   "nbconvert_exporter": "python",
   "pygments_lexer": "ipython3",
   "version": "3.10.12"
  }
 },
 "nbformat": 4,
 "nbformat_minor": 5
}
