{
 "cells": [
  {
   "cell_type": "code",
   "execution_count": 1,
   "id": "3bd6a402-0841-4e71-89c4-0ce78bdfecb6",
   "metadata": {},
   "outputs": [],
   "source": [
    "import csv\n",
    "import os\n",
    "import pandas as pd\n",
    "import numpy as np\n",
    "from sklearn.preprocessing import OrdinalEncoder\n",
    "import pickle as pkl\n",
    "import matplotlib.pyplot as plt\n",
    "import random\n",
    "from pymer4.models import Lmer as lm\n",
    "import itertools as it\n",
    "import warnings\n",
    "\n",
    "warnings.simplefilter(action='ignore', category=pd.errors.PerformanceWarning)\n",
    "warnings.filterwarnings('ignore')"
   ]
  },
  {
   "cell_type": "code",
   "execution_count": 2,
   "id": "3660f0a4-7e6c-4fd7-adfb-ed4de1be8d1c",
   "metadata": {},
   "outputs": [],
   "source": [
    "gdp_regression_data_insample = pd.read_csv(\"../data/regression/cross_validation/gdp_regression_data_insample_festratified_0.csv\")"
   ]
  },
  {
   "cell_type": "code",
   "execution_count": 3,
   "id": "c298edfd-5850-4430-bd16-119afc7584d9",
   "metadata": {},
   "outputs": [],
   "source": [
    "model_spec = {\n",
    "    \"continuous_covariates\" : [\n",
    "        'precip_annual_std_[weight]',\n",
    "        'precip_annual_std_[weight]_2',\n",
    "        'precip_annual_std_[weight]_3',\n",
    "        'temp_[weight]',\n",
    "        'temp_[weight]_2', \n",
    "        'temp_[weight]_3'\n",
    "    ],\n",
    "    \"discrete_covariates\" : ['drought'],\n",
    "    \"fixed_effects\" : [\"year\"],\n",
    "    \"incremental_effects\" : 0,\n",
    "    \"weights\" : \"pop_weighted\",\n",
    "    \"target\" : \"fd_ln_gdp\"\n",
    "}"
   ]
  },
  {
   "cell_type": "code",
   "execution_count": 10,
   "id": "46b58eb9-ab20-4bbe-abf2-6d1dd2dcb9e7",
   "metadata": {},
   "outputs": [],
   "source": [
    "vars_to_grab = []\n",
    "for covar in model_spec[\"continuous_covariates\"]:\n",
    "    vars_to_grab.append(covar.replace(\"[weight]\",model_spec[\"weights\"]))\n",
    "for i in range(model_spec[\"incremental_effects\"]):\n",
    "    for ie_col in [col for col in gdp_regression_data_insample.columns if col.endswith(f\"incremental_effect_{i+1}\")]:\n",
    "        vars_to_grab.append(ie_col)"
   ]
  },
  {
   "cell_type": "code",
   "execution_count": 11,
   "id": "0e5c75a5-521a-4e42-bb58-a521a7218790",
   "metadata": {},
   "outputs": [
    {
     "name": "stdout",
     "output_type": "stream",
     "text": [
      "The rpy2.ipython extension is already loaded. To reload it, use:\n",
      "  %reload_ext rpy2.ipython\n",
      "fd_ln_gdp ~ precip_annual_std_pop_weighted + precip_annual_std_pop_weighted_2 + precip_annual_std_pop_weighted_3 + temp_pop_weighted + temp_pop_weighted_2 + temp_pop_weighted_3 + (1|year) + (0 + drought | country)\n"
     ]
    }
   ],
   "source": [
    "%load_ext rpy2.ipython\n",
    "formula = model_spec[\"target\"] + \" ~ \" + \" + \".join(vars_to_grab) + \" + (1|year) + (0 + drought | country)\"\n",
    "%%R -i gdp_regression_data_insample -i formula\n",
    "library(lme4)\n",
    "model = lmer(formula, data=gdp_regression_data_insample)"
   ]
  }
 ],
 "metadata": {
  "kernelspec": {
   "display_name": "Python 3 (ipykernel)",
   "language": "python",
   "name": "python3"
  },
  "language_info": {
   "codemirror_mode": {
    "name": "ipython",
    "version": 3
   },
   "file_extension": ".py",
   "mimetype": "text/x-python",
   "name": "python",
   "nbconvert_exporter": "python",
   "pygments_lexer": "ipython3",
   "version": "3.10.12"
  }
 },
 "nbformat": 4,
 "nbformat_minor": 5
}
