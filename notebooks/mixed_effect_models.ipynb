{
 "cells": [
  {
   "cell_type": "code",
   "execution_count": 1,
   "id": "d0bb3414-9e97-4df9-b76b-aeb272025c90",
   "metadata": {},
   "outputs": [],
   "source": [
    "import csv\n",
    "import os\n",
    "import pandas as pd\n",
    "import numpy as np\n",
    "from sklearn.preprocessing import OrdinalEncoder\n",
    "import pickle as pkl\n",
    "import matplotlib.pyplot as plt\n",
    "import random\n",
    "from pymer4.models import Lmer as lm\n",
    "import itertools as it\n",
    "import warnings\n",
    "\n",
    "warnings.simplefilter(action='ignore', category=pd.errors.PerformanceWarning)\n",
    "warnings.filterwarnings('ignore')"
   ]
  },
  {
   "cell_type": "code",
   "execution_count": 2,
   "id": "4ae6ea43-7275-4355-bcb5-8907f0d8dc90",
   "metadata": {},
   "outputs": [],
   "source": [
    "gdp_regression_data = pd.read_csv(\"../data/regression/gdp_regression_data.csv\").dropna().reset_index(drop=True)"
   ]
  },
  {
   "cell_type": "code",
   "execution_count": 3,
   "id": "5c7b3057-d016-41b8-9d21-4d623555d926",
   "metadata": {},
   "outputs": [],
   "source": [
    "model_spec = {\n",
    "    \"covariates\" : [\n",
    "        'fd_humidity_[weight]', 'fd_humidity_[weight]_2', 'fd_humidity_annual_std_[weight]', \n",
    "        'fd_humidity_annual_std_[weight]_2', 'fd_precip_[weight]', 'fd_precip_[weight]_2', \n",
    "        'fd_precip_[weight]_3', 'fd_precip_annual_std_[weight]', 'fd_precip_daily_std_[weight]', \n",
    "        'fd_precip_daily_std_[weight]_2', 'fd_precip_daily_std_[weight]_3', 'fd_temp_annual_std_[weight]', \n",
    "        'fd_temp_annual_std_[weight]_2', 'fd_temp_annual_std_[weight]_3', 'fd_temp_daily_std_[weight]', \n",
    "        'fd_temp_daily_std_[weight]_2', 'humidity_daily_std_[weight]', 'precip_[weight]', \n",
    "        'precip_daily_std_[weight]', 'temp_[weight]', 'temp_[weight]_2', \n",
    "        'temp_[weight]_3', 'wildfire', 'wildfire_heat_wave'\n",
    "    ],\n",
    "    \"fixed_effects\" : [\"country\",\"year\"],\n",
    "    \"incremental_effects\" : 3,\n",
    "    \"weights\" : \"unweighted\",\n",
    "    \"target\" : \"fd_ln_gdp\"\n",
    "}"
   ]
  },
  {
   "cell_type": "code",
   "execution_count": 4,
   "id": "5f6d9674-4268-442e-b368-e73b1a824e18",
   "metadata": {},
   "outputs": [],
   "source": [
    "vars_to_grab = []\n",
    "for covar in model_spec[\"covariates\"]:\n",
    "    vars_to_grab.append(covar.replace(\"[weight]\",model_spec[\"weights\"]))\n",
    "for i in range(model_spec[\"incremental_effects\"]):\n",
    "    for ie_col in [col for col in gdp_regression_data.columns if col.endswith(f\"incremental_effect_{i+1}\")]:\n",
    "        vars_to_grab.append(ie_col)"
   ]
  },
  {
   "cell_type": "code",
   "execution_count": 5,
   "id": "5efeb9fd-bfc2-4689-8f0c-9a9f4c3a72b5",
   "metadata": {},
   "outputs": [],
   "source": [
    "covariate_data = gdp_regression_data[vars_to_grab].to_numpy()\n",
    "target_data = gdp_regression_data[model_spec[\"target\"]].to_numpy()"
   ]
  },
  {
   "cell_type": "code",
   "execution_count": 65,
   "id": "6b4fd606-5661-4083-86ae-2a82917eed26",
   "metadata": {},
   "outputs": [],
   "source": [
    "model = lm(model_spec[\"target\"] + \" ~ \" + \" + \".join(vars_to_grab) + \" + (1|year) + (1|country)\", data=gdp_regression_data)"
   ]
  },
  {
   "cell_type": "code",
   "execution_count": 68,
   "id": "988f4ddd-0f6e-4d04-a252-94991d4ae8f1",
   "metadata": {},
   "outputs": [
    {
     "name": "stdout",
     "output_type": "stream",
     "text": [
      "boundary (singular) fit: see help('isSingular') \n",
      "\n",
      "Linear mixed model fit by REML [’lmerMod’]\n",
      "Formula: fd_ln_gdp~fd_humidity_unweighted+fd_humidity_unweighted_2+fd_humidity_annual_std_unweighted+fd_humidity_annual_std_unweighted_2+fd_precip_unweighted+fd_precip_unweighted_2+fd_precip_unweighted_3+fd_precip_annual_std_unweighted+fd_precip_daily_std_unweighted+fd_precip_daily_std_unweighted_2+fd_precip_daily_std_unweighted_3+fd_temp_annual_std_unweighted+fd_temp_annual_std_unweighted_2+fd_temp_annual_std_unweighted_3+fd_temp_daily_std_unweighted+fd_temp_daily_std_unweighted_2+humidity_daily_std_unweighted+precip_unweighted+precip_daily_std_unweighted+temp_unweighted+temp_unweighted_2+temp_unweighted_3+wildfire+wildfire_heat_wave+ABW_incremental_effect_1+AFG_incremental_effect_1+AGO_incremental_effect_1+ALB_incremental_effect_1+AND_incremental_effect_1+ARG_incremental_effect_1+ARM_incremental_effect_1+ASM_incremental_effect_1+ATG_incremental_effect_1+AUS_incremental_effect_1+AUT_incremental_effect_1+AZE_incremental_effect_1+BDI_incremental_effect_1+BEL_incremental_effect_1+BEN_incremental_effect_1+BFA_incremental_effect_1+BGD_incremental_effect_1+BGR_incremental_effect_1+BHR_incremental_effect_1+BHS_incremental_effect_1+BIH_incremental_effect_1+BLR_incremental_effect_1+BLZ_incremental_effect_1+BMU_incremental_effect_1+BOL_incremental_effect_1+BRA_incremental_effect_1+BRB_incremental_effect_1+BRN_incremental_effect_1+BTN_incremental_effect_1+BWA_incremental_effect_1+CAF_incremental_effect_1+CAN_incremental_effect_1+CHE_incremental_effect_1+CHL_incremental_effect_1+CHN_incremental_effect_1+CIV_incremental_effect_1+CMR_incremental_effect_1+COD_incremental_effect_1+COG_incremental_effect_1+COL_incremental_effect_1+COM_incremental_effect_1+CPV_incremental_effect_1+CRI_incremental_effect_1+CUB_incremental_effect_1+CYM_incremental_effect_1+CYP_incremental_effect_1+CZE_incremental_effect_1+DEU_incremental_effect_1+DJI_incremental_effect_1+DMA_incremental_effect_1+DNK_incremental_effect_1+DOM_incremental_effect_1+DZA_incremental_effect_1+ECU_incremental_effect_1+EGY_incremental_effect_1+ERI_incremental_effect_1+ESP_incremental_effect_1+EST_incremental_effect_1+ETH_incremental_effect_1+FIN_incremental_effect_1+FJI_incremental_effect_1+FRA_incremental_effect_1+FRO_incremental_effect_1+FSM_incremental_effect_1+GAB_incremental_effect_1+GBR_incremental_effect_1+GEO_incremental_effect_1+GHA_incremental_effect_1+GIB_incremental_effect_1+GIN_incremental_effect_1+GMB_incremental_effect_1+GNB_incremental_effect_1+GNQ_incremental_effect_1+GRC_incremental_effect_1+GRD_incremental_effect_1+GRL_incremental_effect_1+GTM_incremental_effect_1+GUM_incremental_effect_1+GUY_incremental_effect_1+HND_incremental_effect_1+HRV_incremental_effect_1+HTI_incremental_effect_1+HUN_incremental_effect_1+IDN_incremental_effect_1+IMN_incremental_effect_1+IND_incremental_effect_1+IRL_incremental_effect_1+IRN_incremental_effect_1+IRQ_incremental_effect_1+ISL_incremental_effect_1+ISR_incremental_effect_1+ITA_incremental_effect_1+JAM_incremental_effect_1+JOR_incremental_effect_1+JPN_incremental_effect_1+KAZ_incremental_effect_1+KEN_incremental_effect_1+KGZ_incremental_effect_1+KHM_incremental_effect_1+KIR_incremental_effect_1+KNA_incremental_effect_1+KOR_incremental_effect_1+KWT_incremental_effect_1+LAO_incremental_effect_1+LBN_incremental_effect_1+LBR_incremental_effect_1+LBY_incremental_effect_1+LCA_incremental_effect_1+LIE_incremental_effect_1+LKA_incremental_effect_1+LSO_incremental_effect_1+LTU_incremental_effect_1+LUX_incremental_effect_1+LVA_incremental_effect_1+MAC_incremental_effect_1+MAR_incremental_effect_1+MCO_incremental_effect_1+MDA_incremental_effect_1+MDG_incremental_effect_1+MDV_incremental_effect_1+MEX_incremental_effect_1+MHL_incremental_effect_1+MKD_incremental_effect_1+MLI_incremental_effect_1+MLT_incremental_effect_1+MMR_incremental_effect_1+MNG_incremental_effect_1+MNP_incremental_effect_1+MOZ_incremental_effect_1+MRT_incremental_effect_1+MUS_incremental_effect_1+MWI_incremental_effect_1+MYS_incremental_effect_1+NAM_incremental_effect_1+NCL_incremental_effect_1+NER_incremental_effect_1+NGA_incremental_effect_1+NIC_incremental_effect_1+NLD_incremental_effect_1+NOR_incremental_effect_1+NPL_incremental_effect_1+NRU_incremental_effect_1+NZL_incremental_effect_1+OMN_incremental_effect_1+PAK_incremental_effect_1+PAN_incremental_effect_1+PER_incremental_effect_1+PHL_incremental_effect_1+PLW_incremental_effect_1+PNG_incremental_effect_1+POL_incremental_effect_1+PRI_incremental_effect_1+PRK_incremental_effect_1+PRT_incremental_effect_1+PRY_incremental_effect_1+PSE_incremental_effect_1+PYF_incremental_effect_1+QAT_incremental_effect_1+ROU_incremental_effect_1+RUS_incremental_effect_1+RWA_incremental_effect_1+SAU_incremental_effect_1+SDN_incremental_effect_1+SEN_incremental_effect_1+SGP_incremental_effect_1+SLB_incremental_effect_1+SLE_incremental_effect_1+SLV_incremental_effect_1+SMR_incremental_effect_1+SOM_incremental_effect_1+STP_incremental_effect_1+SUR_incremental_effect_1+SVK_incremental_effect_1+SVN_incremental_effect_1+SWE_incremental_effect_1+SWZ_incremental_effect_1+SYC_incremental_effect_1+SYR_incremental_effect_1+TCA_incremental_effect_1+TCD_incremental_effect_1+TGO_incremental_effect_1+THA_incremental_effect_1+TJK_incremental_effect_1+TKM_incremental_effect_1+TON_incremental_effect_1+TTO_incremental_effect_1+TUN_incremental_effect_1+TUR_incremental_effect_1+TUV_incremental_effect_1+TZA_incremental_effect_1+UGA_incremental_effect_1+UKR_incremental_effect_1+URY_incremental_effect_1+USA_incremental_effect_1+UZB_incremental_effect_1+VCT_incremental_effect_1+VEN_incremental_effect_1+VGB_incremental_effect_1+VIR_incremental_effect_1+VNM_incremental_effect_1+VUT_incremental_effect_1+WSM_incremental_effect_1+YEM_incremental_effect_1+ZAF_incremental_effect_1+ZMB_incremental_effect_1+ZWE_incremental_effect_1+ABW_incremental_effect_2+AFG_incremental_effect_2+AGO_incremental_effect_2+ALB_incremental_effect_2+AND_incremental_effect_2+ARG_incremental_effect_2+ARM_incremental_effect_2+ASM_incremental_effect_2+ATG_incremental_effect_2+AUS_incremental_effect_2+AUT_incremental_effect_2+AZE_incremental_effect_2+BDI_incremental_effect_2+BEL_incremental_effect_2+BEN_incremental_effect_2+BFA_incremental_effect_2+BGD_incremental_effect_2+BGR_incremental_effect_2+BHR_incremental_effect_2+BHS_incremental_effect_2+BIH_incremental_effect_2+BLR_incremental_effect_2+BLZ_incremental_effect_2+BMU_incremental_effect_2+BOL_incremental_effect_2+BRA_incremental_effect_2+BRB_incremental_effect_2+BRN_incremental_effect_2+BTN_incremental_effect_2+BWA_incremental_effect_2+CAF_incremental_effect_2+CAN_incremental_effect_2+CHE_incremental_effect_2+CHL_incremental_effect_2+CHN_incremental_effect_2+CIV_incremental_effect_2+CMR_incremental_effect_2+COD_incremental_effect_2+COG_incremental_effect_2+COL_incremental_effect_2+COM_incremental_effect_2+CPV_incremental_effect_2+CRI_incremental_effect_2+CUB_incremental_effect_2+CYM_incremental_effect_2+CYP_incremental_effect_2+CZE_incremental_effect_2+DEU_incremental_effect_2+DJI_incremental_effect_2+DMA_incremental_effect_2+DNK_incremental_effect_2+DOM_incremental_effect_2+DZA_incremental_effect_2+ECU_incremental_effect_2+EGY_incremental_effect_2+ERI_incremental_effect_2+ESP_incremental_effect_2+EST_incremental_effect_2+ETH_incremental_effect_2+FIN_incremental_effect_2+FJI_incremental_effect_2+FRA_incremental_effect_2+FRO_incremental_effect_2+FSM_incremental_effect_2+GAB_incremental_effect_2+GBR_incremental_effect_2+GEO_incremental_effect_2+GHA_incremental_effect_2+GIB_incremental_effect_2+GIN_incremental_effect_2+GMB_incremental_effect_2+GNB_incremental_effect_2+GNQ_incremental_effect_2+GRC_incremental_effect_2+GRD_incremental_effect_2+GRL_incremental_effect_2+GTM_incremental_effect_2+GUM_incremental_effect_2+GUY_incremental_effect_2+HND_incremental_effect_2+HRV_incremental_effect_2+HTI_incremental_effect_2+HUN_incremental_effect_2+IDN_incremental_effect_2+IMN_incremental_effect_2+IND_incremental_effect_2+IRL_incremental_effect_2+IRN_incremental_effect_2+IRQ_incremental_effect_2+ISL_incremental_effect_2+ISR_incremental_effect_2+ITA_incremental_effect_2+JAM_incremental_effect_2+JOR_incremental_effect_2+JPN_incremental_effect_2+KAZ_incremental_effect_2+KEN_incremental_effect_2+KGZ_incremental_effect_2+KHM_incremental_effect_2+KIR_incremental_effect_2+KNA_incremental_effect_2+KOR_incremental_effect_2+KWT_incremental_effect_2+LAO_incremental_effect_2+LBN_incremental_effect_2+LBR_incremental_effect_2+LBY_incremental_effect_2+LCA_incremental_effect_2+LIE_incremental_effect_2+LKA_incremental_effect_2+LSO_incremental_effect_2+LTU_incremental_effect_2+LUX_incremental_effect_2+LVA_incremental_effect_2+MAC_incremental_effect_2+MAR_incremental_effect_2+MCO_incremental_effect_2+MDA_incremental_effect_2+MDG_incremental_effect_2+MDV_incremental_effect_2+MEX_incremental_effect_2+MHL_incremental_effect_2+MKD_incremental_effect_2+MLI_incremental_effect_2+MLT_incremental_effect_2+MMR_incremental_effect_2+MNG_incremental_effect_2+MNP_incremental_effect_2+MOZ_incremental_effect_2+MRT_incremental_effect_2+MUS_incremental_effect_2+MWI_incremental_effect_2+MYS_incremental_effect_2+NAM_incremental_effect_2+NCL_incremental_effect_2+NER_incremental_effect_2+NGA_incremental_effect_2+NIC_incremental_effect_2+NLD_incremental_effect_2+NOR_incremental_effect_2+NPL_incremental_effect_2+NRU_incremental_effect_2+NZL_incremental_effect_2+OMN_incremental_effect_2+PAK_incremental_effect_2+PAN_incremental_effect_2+PER_incremental_effect_2+PHL_incremental_effect_2+PLW_incremental_effect_2+PNG_incremental_effect_2+POL_incremental_effect_2+PRI_incremental_effect_2+PRK_incremental_effect_2+PRT_incremental_effect_2+PRY_incremental_effect_2+PSE_incremental_effect_2+PYF_incremental_effect_2+QAT_incremental_effect_2+ROU_incremental_effect_2+RUS_incremental_effect_2+RWA_incremental_effect_2+SAU_incremental_effect_2+SDN_incremental_effect_2+SEN_incremental_effect_2+SGP_incremental_effect_2+SLB_incremental_effect_2+SLE_incremental_effect_2+SLV_incremental_effect_2+SMR_incremental_effect_2+SOM_incremental_effect_2+STP_incremental_effect_2+SUR_incremental_effect_2+SVK_incremental_effect_2+SVN_incremental_effect_2+SWE_incremental_effect_2+SWZ_incremental_effect_2+SYC_incremental_effect_2+SYR_incremental_effect_2+TCA_incremental_effect_2+TCD_incremental_effect_2+TGO_incremental_effect_2+THA_incremental_effect_2+TJK_incremental_effect_2+TKM_incremental_effect_2+TON_incremental_effect_2+TTO_incremental_effect_2+TUN_incremental_effect_2+TUR_incremental_effect_2+TUV_incremental_effect_2+TZA_incremental_effect_2+UGA_incremental_effect_2+UKR_incremental_effect_2+URY_incremental_effect_2+USA_incremental_effect_2+UZB_incremental_effect_2+VCT_incremental_effect_2+VEN_incremental_effect_2+VGB_incremental_effect_2+VIR_incremental_effect_2+VNM_incremental_effect_2+VUT_incremental_effect_2+WSM_incremental_effect_2+YEM_incremental_effect_2+ZAF_incremental_effect_2+ZMB_incremental_effect_2+ZWE_incremental_effect_2+ABW_incremental_effect_3+AFG_incremental_effect_3+AGO_incremental_effect_3+ALB_incremental_effect_3+AND_incremental_effect_3+ARG_incremental_effect_3+ARM_incremental_effect_3+ASM_incremental_effect_3+ATG_incremental_effect_3+AUS_incremental_effect_3+AUT_incremental_effect_3+AZE_incremental_effect_3+BDI_incremental_effect_3+BEL_incremental_effect_3+BEN_incremental_effect_3+BFA_incremental_effect_3+BGD_incremental_effect_3+BGR_incremental_effect_3+BHR_incremental_effect_3+BHS_incremental_effect_3+BIH_incremental_effect_3+BLR_incremental_effect_3+BLZ_incremental_effect_3+BMU_incremental_effect_3+BOL_incremental_effect_3+BRA_incremental_effect_3+BRB_incremental_effect_3+BRN_incremental_effect_3+BTN_incremental_effect_3+BWA_incremental_effect_3+CAF_incremental_effect_3+CAN_incremental_effect_3+CHE_incremental_effect_3+CHL_incremental_effect_3+CHN_incremental_effect_3+CIV_incremental_effect_3+CMR_incremental_effect_3+COD_incremental_effect_3+COG_incremental_effect_3+COL_incremental_effect_3+COM_incremental_effect_3+CPV_incremental_effect_3+CRI_incremental_effect_3+CUB_incremental_effect_3+CYM_incremental_effect_3+CYP_incremental_effect_3+CZE_incremental_effect_3+DEU_incremental_effect_3+DJI_incremental_effect_3+DMA_incremental_effect_3+DNK_incremental_effect_3+DOM_incremental_effect_3+DZA_incremental_effect_3+ECU_incremental_effect_3+EGY_incremental_effect_3+ERI_incremental_effect_3+ESP_incremental_effect_3+EST_incremental_effect_3+ETH_incremental_effect_3+FIN_incremental_effect_3+FJI_incremental_effect_3+FRA_incremental_effect_3+FRO_incremental_effect_3+FSM_incremental_effect_3+GAB_incremental_effect_3+GBR_incremental_effect_3+GEO_incremental_effect_3+GHA_incremental_effect_3+GIB_incremental_effect_3+GIN_incremental_effect_3+GMB_incremental_effect_3+GNB_incremental_effect_3+GNQ_incremental_effect_3+GRC_incremental_effect_3+GRD_incremental_effect_3+GRL_incremental_effect_3+GTM_incremental_effect_3+GUM_incremental_effect_3+GUY_incremental_effect_3+HND_incremental_effect_3+HRV_incremental_effect_3+HTI_incremental_effect_3+HUN_incremental_effect_3+IDN_incremental_effect_3+IMN_incremental_effect_3+IND_incremental_effect_3+IRL_incremental_effect_3+IRN_incremental_effect_3+IRQ_incremental_effect_3+ISL_incremental_effect_3+ISR_incremental_effect_3+ITA_incremental_effect_3+JAM_incremental_effect_3+JOR_incremental_effect_3+JPN_incremental_effect_3+KAZ_incremental_effect_3+KEN_incremental_effect_3+KGZ_incremental_effect_3+KHM_incremental_effect_3+KIR_incremental_effect_3+KNA_incremental_effect_3+KOR_incremental_effect_3+KWT_incremental_effect_3+LAO_incremental_effect_3+LBN_incremental_effect_3+LBR_incremental_effect_3+LBY_incremental_effect_3+LCA_incremental_effect_3+LIE_incremental_effect_3+LKA_incremental_effect_3+LSO_incremental_effect_3+LTU_incremental_effect_3+LUX_incremental_effect_3+LVA_incremental_effect_3+MAC_incremental_effect_3+MAR_incremental_effect_3+MCO_incremental_effect_3+MDA_incremental_effect_3+MDG_incremental_effect_3+MDV_incremental_effect_3+MEX_incremental_effect_3+MHL_incremental_effect_3+MKD_incremental_effect_3+MLI_incremental_effect_3+MLT_incremental_effect_3+MMR_incremental_effect_3+MNG_incremental_effect_3+MNP_incremental_effect_3+MOZ_incremental_effect_3+MRT_incremental_effect_3+MUS_incremental_effect_3+MWI_incremental_effect_3+MYS_incremental_effect_3+NAM_incremental_effect_3+NCL_incremental_effect_3+NER_incremental_effect_3+NGA_incremental_effect_3+NIC_incremental_effect_3+NLD_incremental_effect_3+NOR_incremental_effect_3+NPL_incremental_effect_3+NRU_incremental_effect_3+NZL_incremental_effect_3+OMN_incremental_effect_3+PAK_incremental_effect_3+PAN_incremental_effect_3+PER_incremental_effect_3+PHL_incremental_effect_3+PLW_incremental_effect_3+PNG_incremental_effect_3+POL_incremental_effect_3+PRI_incremental_effect_3+PRK_incremental_effect_3+PRT_incremental_effect_3+PRY_incremental_effect_3+PSE_incremental_effect_3+PYF_incremental_effect_3+QAT_incremental_effect_3+ROU_incremental_effect_3+RUS_incremental_effect_3+RWA_incremental_effect_3+SAU_incremental_effect_3+SDN_incremental_effect_3+SEN_incremental_effect_3+SGP_incremental_effect_3+SLB_incremental_effect_3+SLE_incremental_effect_3+SLV_incremental_effect_3+SMR_incremental_effect_3+SOM_incremental_effect_3+STP_incremental_effect_3+SUR_incremental_effect_3+SVK_incremental_effect_3+SVN_incremental_effect_3+SWE_incremental_effect_3+SWZ_incremental_effect_3+SYC_incremental_effect_3+SYR_incremental_effect_3+TCA_incremental_effect_3+TCD_incremental_effect_3+TGO_incremental_effect_3+THA_incremental_effect_3+TJK_incremental_effect_3+TKM_incremental_effect_3+TON_incremental_effect_3+TTO_incremental_effect_3+TUN_incremental_effect_3+TUR_incremental_effect_3+TUV_incremental_effect_3+TZA_incremental_effect_3+UGA_incremental_effect_3+UKR_incremental_effect_3+URY_incremental_effect_3+USA_incremental_effect_3+UZB_incremental_effect_3+VCT_incremental_effect_3+VEN_incremental_effect_3+VGB_incremental_effect_3+VIR_incremental_effect_3+VNM_incremental_effect_3+VUT_incremental_effect_3+WSM_incremental_effect_3+YEM_incremental_effect_3+ZAF_incremental_effect_3+ZMB_incremental_effect_3+ZWE_incremental_effect_3+(1|year)+(1|country)\n",
      "\n",
      "Family: gaussian\t Inference: parametric\n",
      "\n",
      "Number of observations: 8473\t Groups: {'country': 166.0, 'year': 62.0}\n",
      "\n",
      "Log-likelihood: -473.715 \t AIC: 1999.430\n",
      "\n",
      "Random effects:\n",
      "\n",
      "                 Name    Var    Std\n",
      "country   (Intercept)  0.000  0.000\n",
      "year      (Intercept)  0.004  0.064\n",
      "Residual               0.023  0.153\n",
      "\n",
      "No random effect correlations specified\n",
      "\n",
      "Fixed effects:\n",
      "\n"
     ]
    }
   ],
   "source": [
    "regression = model.fit()"
   ]
  },
  {
   "cell_type": "code",
   "execution_count": 83,
   "id": "72f268d7-392d-4b13-9b6e-43d4da83ed01",
   "metadata": {},
   "outputs": [],
   "source": [
    "%load_ext rpy2.ipython"
   ]
  },
  {
   "cell_type": "code",
   "execution_count": 87,
   "id": "bd00a7f4-18fa-4688-8a73-b11a882b5058",
   "metadata": {},
   "outputs": [],
   "source": [
    "formula = model_spec[\"target\"] + \" ~ \" + \" + \".join(vars_to_grab) + \" + (1|year) + (1|country)\""
   ]
  },
  {
   "cell_type": "code",
   "execution_count": 121,
   "id": "23699941-17c8-484f-a818-7c954d50f123",
   "metadata": {},
   "outputs": [
    {
     "name": "stdout",
     "output_type": "stream",
     "text": [
      "Loading required package: nonnest2\n",
      "This is nonnest2 0.5-7.\n",
      "nonnest2 has not been tested with all combinations of supported model classes.\n",
      "Loading required package: sandwich\n",
      "Loading required package: lavaan\n",
      "This is lavaan 0.6-18\n",
      "lavaan is FREE software! Please report any bugs.\n",
      "fixed-effect model matrix is rank deficient so dropping 120 columns / coefficients\n",
      "boundary (singular) fit: see help('isSingular')\n",
      "Error in solve(crossprod(parts$X, t(invVX))) : \n",
      "  Lapack dgecon(): system computationally singular, reciprocal condition number = 2.13909e-41\n",
      "In addition: Warning messages:\n",
      "1: Some predictor variables are on very different scales: consider rescaling \n",
      "2: Some predictor variables are on very different scales: consider rescaling\n",
      "Error in solve(crossprod(parts$X, t(invVX))) : \n",
      "  Lapack dgecon(): system computationally singular, reciprocal condition number = 2.13909e-41\n"
     ]
    },
    {
     "ename": "RInterpreterError",
     "evalue": "Failed to parse and evaluate line 'library(lme4)\\nlibrary(merDeriv)\\nmodel = lmer(formula, data=gdp_regression_data)\\ncov_mat <- as.matrix(vcov(model, full=TRUE))\\n'.\nR error message: 'Error in solve(crossprod(parts$X, t(invVX))) : \\n  Lapack dgecon(): system computationally singular, reciprocal condition number = 2.13909e-41'\nR stdout:\nLoading required package: nonnest2\nThis is nonnest2 0.5-7.\nnonnest2 has not been tested with all combinations of supported model classes.\nLoading required package: sandwich\nLoading required package: lavaan\nThis is lavaan 0.6-18\nlavaan is FREE software! Please report any bugs.\nfixed-effect model matrix is rank deficient so dropping 120 columns / coefficients\nboundary (singular) fit: see help('isSingular')\nError in solve(crossprod(parts$X, t(invVX))) : \n  Lapack dgecon(): system computationally singular, reciprocal condition number = 2.13909e-41\nIn addition: Warning messages:\n1: Some predictor variables are on very different scales: consider rescaling \n2: Some predictor variables are on very different scales: consider rescaling",
     "output_type": "error",
     "traceback": [
      "\u001b[0;31m---------------------------------------------------------------------------\u001b[0m",
      "\u001b[0;31mRRuntimeError\u001b[0m                             Traceback (most recent call last)",
      "File \u001b[0;32m~/pymc_dev.venv/lib/python3.10/site-packages/rpy2/ipython/rmagic.py:407\u001b[0m, in \u001b[0;36mRMagics.eval\u001b[0;34m(self, code)\u001b[0m\n\u001b[1;32m    406\u001b[0m     r_expr \u001b[38;5;241m=\u001b[39m ri\u001b[38;5;241m.\u001b[39mparse(code)\n\u001b[0;32m--> 407\u001b[0m     value, visible \u001b[38;5;241m=\u001b[39m \u001b[43mri\u001b[49m\u001b[38;5;241;43m.\u001b[39;49m\u001b[43mevalr_expr_with_visible\u001b[49m\u001b[43m(\u001b[49m\n\u001b[1;32m    408\u001b[0m \u001b[43m        \u001b[49m\u001b[43mr_expr\u001b[49m\n\u001b[1;32m    409\u001b[0m \u001b[43m    \u001b[49m\u001b[43m)\u001b[49m\n\u001b[1;32m    410\u001b[0m \u001b[38;5;28;01mexcept\u001b[39;00m (ri\u001b[38;5;241m.\u001b[39membedded\u001b[38;5;241m.\u001b[39mRRuntimeError, \u001b[38;5;167;01mValueError\u001b[39;00m) \u001b[38;5;28;01mas\u001b[39;00m exception:\n\u001b[1;32m    411\u001b[0m     \u001b[38;5;66;03m# Otherwise next return seems to have copy of error.\u001b[39;00m\n",
      "File \u001b[0;32m~/pymc_dev.venv/lib/python3.10/site-packages/rpy2/rinterface.py:192\u001b[0m, in \u001b[0;36mevalr_expr_with_visible\u001b[0;34m(expr, envir)\u001b[0m\n\u001b[1;32m    191\u001b[0m \u001b[38;5;28;01mif\u001b[39;00m error_occured[\u001b[38;5;241m0\u001b[39m]:\n\u001b[0;32m--> 192\u001b[0m     \u001b[38;5;28;01mraise\u001b[39;00m embedded\u001b[38;5;241m.\u001b[39mRRuntimeError(_rinterface\u001b[38;5;241m.\u001b[39m_geterrmessage())\n\u001b[1;32m    193\u001b[0m res \u001b[38;5;241m=\u001b[39m conversion\u001b[38;5;241m.\u001b[39m_cdata_to_rinterface(r_res)\n",
      "\u001b[0;31mRRuntimeError\u001b[0m: Error in solve(crossprod(parts$X, t(invVX))) : \n  Lapack dgecon(): system computationally singular, reciprocal condition number = 2.13909e-41\n",
      "\nDuring handling of the above exception, another exception occurred:\n",
      "\u001b[0;31mRInterpreterError\u001b[0m                         Traceback (most recent call last)",
      "Cell \u001b[0;32mIn[121], line 1\u001b[0m\n\u001b[0;32m----> 1\u001b[0m \u001b[43mget_ipython\u001b[49m\u001b[43m(\u001b[49m\u001b[43m)\u001b[49m\u001b[38;5;241;43m.\u001b[39;49m\u001b[43mrun_cell_magic\u001b[49m\u001b[43m(\u001b[49m\u001b[38;5;124;43m'\u001b[39;49m\u001b[38;5;124;43mR\u001b[39;49m\u001b[38;5;124;43m'\u001b[39;49m\u001b[43m,\u001b[49m\u001b[43m \u001b[49m\u001b[38;5;124;43m'\u001b[39;49m\u001b[38;5;124;43m-i gdp_regression_data -i formula -o cov_mat\u001b[39;49m\u001b[38;5;124;43m'\u001b[39;49m\u001b[43m,\u001b[49m\u001b[43m \u001b[49m\u001b[38;5;124;43m'\u001b[39;49m\u001b[38;5;124;43mlibrary(lme4)\u001b[39;49m\u001b[38;5;130;43;01m\\n\u001b[39;49;00m\u001b[38;5;124;43mlibrary(merDeriv)\u001b[39;49m\u001b[38;5;130;43;01m\\n\u001b[39;49;00m\u001b[38;5;124;43mmodel = lmer(formula, data=gdp_regression_data)\u001b[39;49m\u001b[38;5;130;43;01m\\n\u001b[39;49;00m\u001b[38;5;124;43mcov_mat <- as.matrix(vcov(model, full=TRUE))\u001b[39;49m\u001b[38;5;130;43;01m\\n\u001b[39;49;00m\u001b[38;5;124;43m'\u001b[39;49m\u001b[43m)\u001b[49m\n",
      "File \u001b[0;32m~/pymc_dev.venv/lib/python3.10/site-packages/IPython/core/interactiveshell.py:2517\u001b[0m, in \u001b[0;36mInteractiveShell.run_cell_magic\u001b[0;34m(self, magic_name, line, cell)\u001b[0m\n\u001b[1;32m   2515\u001b[0m \u001b[38;5;28;01mwith\u001b[39;00m \u001b[38;5;28mself\u001b[39m\u001b[38;5;241m.\u001b[39mbuiltin_trap:\n\u001b[1;32m   2516\u001b[0m     args \u001b[38;5;241m=\u001b[39m (magic_arg_s, cell)\n\u001b[0;32m-> 2517\u001b[0m     result \u001b[38;5;241m=\u001b[39m \u001b[43mfn\u001b[49m\u001b[43m(\u001b[49m\u001b[38;5;241;43m*\u001b[39;49m\u001b[43margs\u001b[49m\u001b[43m,\u001b[49m\u001b[43m \u001b[49m\u001b[38;5;241;43m*\u001b[39;49m\u001b[38;5;241;43m*\u001b[39;49m\u001b[43mkwargs\u001b[49m\u001b[43m)\u001b[49m\n\u001b[1;32m   2519\u001b[0m \u001b[38;5;66;03m# The code below prevents the output from being displayed\u001b[39;00m\n\u001b[1;32m   2520\u001b[0m \u001b[38;5;66;03m# when using magics with decorator @output_can_be_silenced\u001b[39;00m\n\u001b[1;32m   2521\u001b[0m \u001b[38;5;66;03m# when the last Python token in the expression is a ';'.\u001b[39;00m\n\u001b[1;32m   2522\u001b[0m \u001b[38;5;28;01mif\u001b[39;00m \u001b[38;5;28mgetattr\u001b[39m(fn, magic\u001b[38;5;241m.\u001b[39mMAGIC_OUTPUT_CAN_BE_SILENCED, \u001b[38;5;28;01mFalse\u001b[39;00m):\n",
      "File \u001b[0;32m~/pymc_dev.venv/lib/python3.10/site-packages/rpy2/ipython/rmagic.py:984\u001b[0m, in \u001b[0;36mRMagics.R\u001b[0;34m(self, line, cell, local_ns)\u001b[0m\n\u001b[1;32m    982\u001b[0m     \u001b[38;5;28;01mif\u001b[39;00m \u001b[38;5;129;01mnot\u001b[39;00m e\u001b[38;5;241m.\u001b[39mstdout\u001b[38;5;241m.\u001b[39mendswith(e\u001b[38;5;241m.\u001b[39merr):\n\u001b[1;32m    983\u001b[0m         \u001b[38;5;28mprint\u001b[39m(e\u001b[38;5;241m.\u001b[39merr)\n\u001b[0;32m--> 984\u001b[0m     \u001b[38;5;28;01mraise\u001b[39;00m e\n\u001b[1;32m    985\u001b[0m \u001b[38;5;28;01mfinally\u001b[39;00m:\n\u001b[1;32m    986\u001b[0m     \u001b[38;5;28;01mif\u001b[39;00m \u001b[38;5;28mself\u001b[39m\u001b[38;5;241m.\u001b[39mdevice \u001b[38;5;129;01min\u001b[39;00m DEVICES_STATIC:\n",
      "File \u001b[0;32m~/pymc_dev.venv/lib/python3.10/site-packages/rpy2/ipython/rmagic.py:949\u001b[0m, in \u001b[0;36mRMagics.R\u001b[0;34m(self, line, cell, local_ns)\u001b[0m\n\u001b[1;32m    947\u001b[0m         return_output \u001b[38;5;241m=\u001b[39m \u001b[38;5;28;01mFalse\u001b[39;00m\n\u001b[1;32m    948\u001b[0m \u001b[38;5;28;01melse\u001b[39;00m:\n\u001b[0;32m--> 949\u001b[0m     text_result, result, visible \u001b[38;5;241m=\u001b[39m \u001b[38;5;28;43mself\u001b[39;49m\u001b[38;5;241;43m.\u001b[39;49m\u001b[43meval\u001b[49m\u001b[43m(\u001b[49m\u001b[43mcode\u001b[49m\u001b[43m)\u001b[49m\n\u001b[1;32m    950\u001b[0m     text_output \u001b[38;5;241m+\u001b[39m\u001b[38;5;241m=\u001b[39m text_result\n\u001b[1;32m    951\u001b[0m     \u001b[38;5;28;01mif\u001b[39;00m visible:\n",
      "File \u001b[0;32m~/pymc_dev.venv/lib/python3.10/site-packages/rpy2/ipython/rmagic.py:413\u001b[0m, in \u001b[0;36mRMagics.eval\u001b[0;34m(self, code)\u001b[0m\n\u001b[1;32m    410\u001b[0m \u001b[38;5;28;01mexcept\u001b[39;00m (ri\u001b[38;5;241m.\u001b[39membedded\u001b[38;5;241m.\u001b[39mRRuntimeError, \u001b[38;5;167;01mValueError\u001b[39;00m) \u001b[38;5;28;01mas\u001b[39;00m exception:\n\u001b[1;32m    411\u001b[0m     \u001b[38;5;66;03m# Otherwise next return seems to have copy of error.\u001b[39;00m\n\u001b[1;32m    412\u001b[0m     warning_or_other_msg \u001b[38;5;241m=\u001b[39m \u001b[38;5;28mself\u001b[39m\u001b[38;5;241m.\u001b[39mflush()\n\u001b[0;32m--> 413\u001b[0m     \u001b[38;5;28;01mraise\u001b[39;00m RInterpreterError(code, \u001b[38;5;28mstr\u001b[39m(exception),\n\u001b[1;32m    414\u001b[0m                             warning_or_other_msg)\n\u001b[1;32m    415\u001b[0m \u001b[38;5;28;01mfinally\u001b[39;00m:\n\u001b[1;32m    416\u001b[0m     ro\u001b[38;5;241m.\u001b[39m_print_deferred_warnings()\n",
      "\u001b[0;31mRInterpreterError\u001b[0m: Failed to parse and evaluate line 'library(lme4)\\nlibrary(merDeriv)\\nmodel = lmer(formula, data=gdp_regression_data)\\ncov_mat <- as.matrix(vcov(model, full=TRUE))\\n'.\nR error message: 'Error in solve(crossprod(parts$X, t(invVX))) : \\n  Lapack dgecon(): system computationally singular, reciprocal condition number = 2.13909e-41'\nR stdout:\nLoading required package: nonnest2\nThis is nonnest2 0.5-7.\nnonnest2 has not been tested with all combinations of supported model classes.\nLoading required package: sandwich\nLoading required package: lavaan\nThis is lavaan 0.6-18\nlavaan is FREE software! Please report any bugs.\nfixed-effect model matrix is rank deficient so dropping 120 columns / coefficients\nboundary (singular) fit: see help('isSingular')\nError in solve(crossprod(parts$X, t(invVX))) : \n  Lapack dgecon(): system computationally singular, reciprocal condition number = 2.13909e-41\nIn addition: Warning messages:\n1: Some predictor variables are on very different scales: consider rescaling \n2: Some predictor variables are on very different scales: consider rescaling"
     ]
    }
   ],
   "source": [
    "%%R -i gdp_regression_data -i formula -o cov_mat\n",
    "library(lme4)\n",
    "library(merDeriv)\n",
    "model = lmer(formula, data=gdp_regression_data)\n",
    "cov_mat <- as.matrix(vcov(model, full=TRUE))"
   ]
  },
  {
   "cell_type": "code",
   "execution_count": null,
   "id": "6ff8ac17-51cb-491e-b71c-c3423353e87c",
   "metadata": {},
   "outputs": [],
   "source": [
    "len(cov_mat)"
   ]
  },
  {
   "cell_type": "code",
   "execution_count": null,
   "id": "b2a62e89-a840-4f57-9f37-48df00451d4c",
   "metadata": {},
   "outputs": [],
   "source": [
    "# From: https://rdrr.io/cran/lme4/man/predict.merMod.html\n",
    "# There is no option for computing standard errors of predictions because it is difficult to define an efficient method that incorporates uncertainty in the variance parameters; we recommend bootMer for this task. "
   ]
  }
 ],
 "metadata": {
  "kernelspec": {
   "display_name": "Python 3 (ipykernel)",
   "language": "python",
   "name": "python3"
  },
  "language_info": {
   "codemirror_mode": {
    "name": "ipython",
    "version": 3
   },
   "file_extension": ".py",
   "mimetype": "text/x-python",
   "name": "python",
   "nbconvert_exporter": "python",
   "pygments_lexer": "ipython3",
   "version": "3.10.12"
  }
 },
 "nbformat": 4,
 "nbformat_minor": 5
}
